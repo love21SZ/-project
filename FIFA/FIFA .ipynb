{
 "cells": [
  {
   "cell_type": "markdown",
   "id": "99c5ac32",
   "metadata": {},
   "source": [
    "```\n",
    " id : 선수 고유의 아이디\n",
    " name : 이름\n",
    " age : 나이\n",
    " continent : 선수들의 국적이 포함되어 있는 대륙입니다\n",
    " contract_until : 선수의 계약기간이 언제까지인지 나타내어 줍니다\n",
    " position : 선수가 선호하는 포지션입니다. ex) 공격수, 수비수 등\n",
    " prefer_foot : 선수가 선호하는 발입니다. ex) 오른발\n",
    " reputation : 선수가 유명한 정도입니다. ex) 높은 수치일 수록 유명한 선수\n",
    " stat_overall : 선수의 현재 능력치 입니다.\n",
    " stat_potential : 선수가 경험 및 노력을 통해 발전할 수 있는 정도입니다.\n",
    " stat_skill_moves : 선수의 개인기 능력치 입니다.\n",
    " value : FIFA가 선정한 선수의 이적 시장 가격 (단위 : 유로) 입니다\n",
    " ```"
   ]
  },
  {
   "cell_type": "code",
   "execution_count": 1,
   "id": "686fabd4",
   "metadata": {},
   "outputs": [],
   "source": [
    "#모듈 불러오기\n",
    "import pandas as pd\n",
    "import numpy as np\n",
    "import seaborn as sns\n",
    "import matplotlib.pyplot as plt\n",
    "import koreanize_matplotlib"
   ]
  },
  {
   "cell_type": "code",
   "execution_count": 2,
   "id": "cab864b3",
   "metadata": {},
   "outputs": [
    {
     "name": "stdout",
     "output_type": "stream",
     "text": [
      "(8932, 12) (3828, 11) (3828, 2)\n"
     ]
    },
    {
     "data": {
      "text/html": [
       "<div>\n",
       "<style scoped>\n",
       "    .dataframe tbody tr th:only-of-type {\n",
       "        vertical-align: middle;\n",
       "    }\n",
       "\n",
       "    .dataframe tbody tr th {\n",
       "        vertical-align: top;\n",
       "    }\n",
       "\n",
       "    .dataframe thead th {\n",
       "        text-align: right;\n",
       "    }\n",
       "</style>\n",
       "<table border=\"1\" class=\"dataframe\">\n",
       "  <thead>\n",
       "    <tr style=\"text-align: right;\">\n",
       "      <th></th>\n",
       "      <th>id</th>\n",
       "      <th>name</th>\n",
       "      <th>age</th>\n",
       "      <th>continent</th>\n",
       "      <th>contract_until</th>\n",
       "      <th>position</th>\n",
       "      <th>prefer_foot</th>\n",
       "      <th>reputation</th>\n",
       "      <th>stat_overall</th>\n",
       "      <th>stat_potential</th>\n",
       "      <th>stat_skill_moves</th>\n",
       "      <th>value</th>\n",
       "    </tr>\n",
       "  </thead>\n",
       "  <tbody>\n",
       "    <tr>\n",
       "      <th>0</th>\n",
       "      <td>0</td>\n",
       "      <td>L. Messi</td>\n",
       "      <td>31</td>\n",
       "      <td>south america</td>\n",
       "      <td>2021</td>\n",
       "      <td>ST</td>\n",
       "      <td>left</td>\n",
       "      <td>5.0</td>\n",
       "      <td>94</td>\n",
       "      <td>94</td>\n",
       "      <td>4.0</td>\n",
       "      <td>110500000.0</td>\n",
       "    </tr>\n",
       "    <tr>\n",
       "      <th>1</th>\n",
       "      <td>3</td>\n",
       "      <td>De Gea</td>\n",
       "      <td>27</td>\n",
       "      <td>europe</td>\n",
       "      <td>2020</td>\n",
       "      <td>GK</td>\n",
       "      <td>right</td>\n",
       "      <td>4.0</td>\n",
       "      <td>91</td>\n",
       "      <td>93</td>\n",
       "      <td>1.0</td>\n",
       "      <td>72000000.0</td>\n",
       "    </tr>\n",
       "    <tr>\n",
       "      <th>2</th>\n",
       "      <td>7</td>\n",
       "      <td>L. Suárez</td>\n",
       "      <td>31</td>\n",
       "      <td>south america</td>\n",
       "      <td>2021</td>\n",
       "      <td>ST</td>\n",
       "      <td>right</td>\n",
       "      <td>5.0</td>\n",
       "      <td>91</td>\n",
       "      <td>91</td>\n",
       "      <td>3.0</td>\n",
       "      <td>80000000.0</td>\n",
       "    </tr>\n",
       "    <tr>\n",
       "      <th>3</th>\n",
       "      <td>8</td>\n",
       "      <td>Sergio Ramos</td>\n",
       "      <td>32</td>\n",
       "      <td>europe</td>\n",
       "      <td>2020</td>\n",
       "      <td>DF</td>\n",
       "      <td>right</td>\n",
       "      <td>4.0</td>\n",
       "      <td>91</td>\n",
       "      <td>91</td>\n",
       "      <td>3.0</td>\n",
       "      <td>51000000.0</td>\n",
       "    </tr>\n",
       "  </tbody>\n",
       "</table>\n",
       "</div>"
      ],
      "text/plain": [
       "   id          name  age      continent contract_until position prefer_foot  \\\n",
       "0   0      L. Messi   31  south america           2021       ST        left   \n",
       "1   3        De Gea   27         europe           2020       GK       right   \n",
       "2   7     L. Suárez   31  south america           2021       ST       right   \n",
       "3   8  Sergio Ramos   32         europe           2020       DF       right   \n",
       "\n",
       "   reputation  stat_overall  stat_potential  stat_skill_moves        value  \n",
       "0         5.0            94              94               4.0  110500000.0  \n",
       "1         4.0            91              93               1.0   72000000.0  \n",
       "2         5.0            91              91               3.0   80000000.0  \n",
       "3         4.0            91              91               3.0   51000000.0  "
      ]
     },
     "execution_count": 2,
     "metadata": {},
     "output_type": "execute_result"
    }
   ],
   "source": [
    "# 데이터 불러오기\n",
    "base_path = \"FIFA\"\n",
    "train = pd.read_csv(f\"{base_path}/FIFA_train.csv\")\n",
    "test = pd.read_csv(f\"{base_path}/FIFA_test.csv\")\n",
    "submission = pd.read_csv(f\"{base_path}/submission.csv\")\n",
    "\n",
    "print(train.shape, test.shape,submission.shape)\n",
    "train.head(4)"
   ]
  },
  {
   "cell_type": "code",
   "execution_count": 3,
   "id": "97983ef5",
   "metadata": {
    "scrolled": true
   },
   "outputs": [
    {
     "name": "stdout",
     "output_type": "stream",
     "text": [
      "<class 'pandas.core.frame.DataFrame'>\n",
      "RangeIndex: 8932 entries, 0 to 8931\n",
      "Data columns (total 12 columns):\n",
      " #   Column            Non-Null Count  Dtype  \n",
      "---  ------            --------------  -----  \n",
      " 0   id                8932 non-null   int64  \n",
      " 1   name              8932 non-null   object \n",
      " 2   age               8932 non-null   int64  \n",
      " 3   continent         8932 non-null   object \n",
      " 4   contract_until    8932 non-null   object \n",
      " 5   position          8932 non-null   object \n",
      " 6   prefer_foot       8932 non-null   object \n",
      " 7   reputation        8932 non-null   float64\n",
      " 8   stat_overall      8932 non-null   int64  \n",
      " 9   stat_potential    8932 non-null   int64  \n",
      " 10  stat_skill_moves  8932 non-null   float64\n",
      " 11  value             8932 non-null   float64\n",
      "dtypes: float64(3), int64(4), object(5)\n",
      "memory usage: 837.5+ KB\n"
     ]
    }
   ],
   "source": [
    "train.info()"
   ]
  },
  {
   "cell_type": "code",
   "execution_count": 4,
   "id": "a880272c",
   "metadata": {},
   "outputs": [
    {
     "data": {
      "text/plain": [
       "MF    3428\n",
       "DF    2791\n",
       "ST    1705\n",
       "GK    1008\n",
       "Name: position, dtype: int64"
      ]
     },
     "execution_count": 4,
     "metadata": {},
     "output_type": "execute_result"
    }
   ],
   "source": [
    "train[\"position\"].value_counts()"
   ]
  },
  {
   "cell_type": "code",
   "execution_count": 5,
   "id": "458d3117",
   "metadata": {},
   "outputs": [
    {
     "data": {
      "text/plain": [
       "0"
      ]
     },
     "execution_count": 5,
     "metadata": {},
     "output_type": "execute_result"
    }
   ],
   "source": [
    "train.isnull().sum().sum()"
   ]
  },
  {
   "cell_type": "code",
   "execution_count": 6,
   "id": "9034e9da",
   "metadata": {},
   "outputs": [
    {
     "data": {
      "text/plain": [
       "0"
      ]
     },
     "execution_count": 6,
     "metadata": {},
     "output_type": "execute_result"
    }
   ],
   "source": [
    "test.isnull().sum().sum()"
   ]
  },
  {
   "cell_type": "code",
   "execution_count": 7,
   "id": "797c0c7c",
   "metadata": {},
   "outputs": [
    {
     "data": {
      "text/html": [
       "<div>\n",
       "<style scoped>\n",
       "    .dataframe tbody tr th:only-of-type {\n",
       "        vertical-align: middle;\n",
       "    }\n",
       "\n",
       "    .dataframe tbody tr th {\n",
       "        vertical-align: top;\n",
       "    }\n",
       "\n",
       "    .dataframe thead th {\n",
       "        text-align: right;\n",
       "    }\n",
       "</style>\n",
       "<table border=\"1\" class=\"dataframe\">\n",
       "  <thead>\n",
       "    <tr style=\"text-align: right;\">\n",
       "      <th></th>\n",
       "      <th>name</th>\n",
       "      <th>continent</th>\n",
       "      <th>contract_until</th>\n",
       "      <th>position</th>\n",
       "      <th>prefer_foot</th>\n",
       "    </tr>\n",
       "  </thead>\n",
       "  <tbody>\n",
       "    <tr>\n",
       "      <th>count</th>\n",
       "      <td>8932</td>\n",
       "      <td>8932</td>\n",
       "      <td>8932</td>\n",
       "      <td>8932</td>\n",
       "      <td>8932</td>\n",
       "    </tr>\n",
       "    <tr>\n",
       "      <th>unique</th>\n",
       "      <td>8932</td>\n",
       "      <td>5</td>\n",
       "      <td>17</td>\n",
       "      <td>4</td>\n",
       "      <td>2</td>\n",
       "    </tr>\n",
       "    <tr>\n",
       "      <th>top</th>\n",
       "      <td>L. Messi</td>\n",
       "      <td>europe</td>\n",
       "      <td>2019</td>\n",
       "      <td>MF</td>\n",
       "      <td>right</td>\n",
       "    </tr>\n",
       "    <tr>\n",
       "      <th>freq</th>\n",
       "      <td>1</td>\n",
       "      <td>5322</td>\n",
       "      <td>2366</td>\n",
       "      <td>3428</td>\n",
       "      <td>6837</td>\n",
       "    </tr>\n",
       "  </tbody>\n",
       "</table>\n",
       "</div>"
      ],
      "text/plain": [
       "            name continent contract_until position prefer_foot\n",
       "count       8932      8932           8932     8932        8932\n",
       "unique      8932         5             17        4           2\n",
       "top     L. Messi    europe           2019       MF       right\n",
       "freq           1      5322           2366     3428        6837"
      ]
     },
     "execution_count": 7,
     "metadata": {},
     "output_type": "execute_result"
    }
   ],
   "source": [
    "train.describe(include = \"O\")"
   ]
  },
  {
   "cell_type": "code",
   "execution_count": 8,
   "id": "005d2b0e",
   "metadata": {
    "scrolled": true
   },
   "outputs": [
    {
     "data": {
      "text/html": [
       "<div>\n",
       "<style scoped>\n",
       "    .dataframe tbody tr th:only-of-type {\n",
       "        vertical-align: middle;\n",
       "    }\n",
       "\n",
       "    .dataframe tbody tr th {\n",
       "        vertical-align: top;\n",
       "    }\n",
       "\n",
       "    .dataframe thead th {\n",
       "        text-align: right;\n",
       "    }\n",
       "</style>\n",
       "<table border=\"1\" class=\"dataframe\">\n",
       "  <thead>\n",
       "    <tr style=\"text-align: right;\">\n",
       "      <th></th>\n",
       "      <th>id</th>\n",
       "      <th>age</th>\n",
       "      <th>reputation</th>\n",
       "      <th>stat_overall</th>\n",
       "      <th>stat_potential</th>\n",
       "      <th>stat_skill_moves</th>\n",
       "      <th>value</th>\n",
       "    </tr>\n",
       "  </thead>\n",
       "  <tbody>\n",
       "    <tr>\n",
       "      <th>count</th>\n",
       "      <td>8932.000000</td>\n",
       "      <td>8932.000000</td>\n",
       "      <td>8932.000000</td>\n",
       "      <td>8932.000000</td>\n",
       "      <td>8932.000000</td>\n",
       "      <td>8932.000000</td>\n",
       "      <td>8.932000e+03</td>\n",
       "    </tr>\n",
       "    <tr>\n",
       "      <th>mean</th>\n",
       "      <td>7966.775750</td>\n",
       "      <td>25.209136</td>\n",
       "      <td>1.130878</td>\n",
       "      <td>67.091133</td>\n",
       "      <td>71.997201</td>\n",
       "      <td>2.401702</td>\n",
       "      <td>2.778673e+06</td>\n",
       "    </tr>\n",
       "    <tr>\n",
       "      <th>std</th>\n",
       "      <td>4844.428521</td>\n",
       "      <td>4.635515</td>\n",
       "      <td>0.423792</td>\n",
       "      <td>6.854910</td>\n",
       "      <td>5.988147</td>\n",
       "      <td>0.776048</td>\n",
       "      <td>5.840982e+06</td>\n",
       "    </tr>\n",
       "    <tr>\n",
       "      <th>min</th>\n",
       "      <td>0.000000</td>\n",
       "      <td>16.000000</td>\n",
       "      <td>1.000000</td>\n",
       "      <td>47.000000</td>\n",
       "      <td>48.000000</td>\n",
       "      <td>1.000000</td>\n",
       "      <td>1.000000e+04</td>\n",
       "    </tr>\n",
       "    <tr>\n",
       "      <th>25%</th>\n",
       "      <td>3751.750000</td>\n",
       "      <td>21.000000</td>\n",
       "      <td>1.000000</td>\n",
       "      <td>63.000000</td>\n",
       "      <td>68.000000</td>\n",
       "      <td>2.000000</td>\n",
       "      <td>3.750000e+05</td>\n",
       "    </tr>\n",
       "    <tr>\n",
       "      <th>50%</th>\n",
       "      <td>7696.500000</td>\n",
       "      <td>25.000000</td>\n",
       "      <td>1.000000</td>\n",
       "      <td>67.000000</td>\n",
       "      <td>72.000000</td>\n",
       "      <td>2.000000</td>\n",
       "      <td>8.250000e+05</td>\n",
       "    </tr>\n",
       "    <tr>\n",
       "      <th>75%</th>\n",
       "      <td>12082.250000</td>\n",
       "      <td>28.000000</td>\n",
       "      <td>1.000000</td>\n",
       "      <td>72.000000</td>\n",
       "      <td>76.000000</td>\n",
       "      <td>3.000000</td>\n",
       "      <td>2.600000e+06</td>\n",
       "    </tr>\n",
       "    <tr>\n",
       "      <th>max</th>\n",
       "      <td>16948.000000</td>\n",
       "      <td>40.000000</td>\n",
       "      <td>5.000000</td>\n",
       "      <td>94.000000</td>\n",
       "      <td>94.000000</td>\n",
       "      <td>5.000000</td>\n",
       "      <td>1.105000e+08</td>\n",
       "    </tr>\n",
       "  </tbody>\n",
       "</table>\n",
       "</div>"
      ],
      "text/plain": [
       "                 id          age   reputation  stat_overall  stat_potential  \\\n",
       "count   8932.000000  8932.000000  8932.000000   8932.000000     8932.000000   \n",
       "mean    7966.775750    25.209136     1.130878     67.091133       71.997201   \n",
       "std     4844.428521     4.635515     0.423792      6.854910        5.988147   \n",
       "min        0.000000    16.000000     1.000000     47.000000       48.000000   \n",
       "25%     3751.750000    21.000000     1.000000     63.000000       68.000000   \n",
       "50%     7696.500000    25.000000     1.000000     67.000000       72.000000   \n",
       "75%    12082.250000    28.000000     1.000000     72.000000       76.000000   \n",
       "max    16948.000000    40.000000     5.000000     94.000000       94.000000   \n",
       "\n",
       "       stat_skill_moves         value  \n",
       "count       8932.000000  8.932000e+03  \n",
       "mean           2.401702  2.778673e+06  \n",
       "std            0.776048  5.840982e+06  \n",
       "min            1.000000  1.000000e+04  \n",
       "25%            2.000000  3.750000e+05  \n",
       "50%            2.000000  8.250000e+05  \n",
       "75%            3.000000  2.600000e+06  \n",
       "max            5.000000  1.105000e+08  "
      ]
     },
     "execution_count": 8,
     "metadata": {},
     "output_type": "execute_result"
    }
   ],
   "source": [
    "train.describe()"
   ]
  },
  {
   "cell_type": "code",
   "execution_count": 9,
   "id": "4bf09060",
   "metadata": {},
   "outputs": [
    {
     "data": {
      "text/html": [
       "<div>\n",
       "<style scoped>\n",
       "    .dataframe tbody tr th:only-of-type {\n",
       "        vertical-align: middle;\n",
       "    }\n",
       "\n",
       "    .dataframe tbody tr th {\n",
       "        vertical-align: top;\n",
       "    }\n",
       "\n",
       "    .dataframe thead th {\n",
       "        text-align: right;\n",
       "    }\n",
       "</style>\n",
       "<table border=\"1\" class=\"dataframe\">\n",
       "  <thead>\n",
       "    <tr style=\"text-align: right;\">\n",
       "      <th></th>\n",
       "      <th>id</th>\n",
       "      <th>age</th>\n",
       "      <th>reputation</th>\n",
       "      <th>stat_overall</th>\n",
       "      <th>stat_potential</th>\n",
       "      <th>stat_skill_moves</th>\n",
       "    </tr>\n",
       "  </thead>\n",
       "  <tbody>\n",
       "    <tr>\n",
       "      <th>count</th>\n",
       "      <td>3828.000000</td>\n",
       "      <td>3828.000000</td>\n",
       "      <td>3828.000000</td>\n",
       "      <td>3828.000000</td>\n",
       "      <td>3828.000000</td>\n",
       "      <td>3828.000000</td>\n",
       "    </tr>\n",
       "    <tr>\n",
       "      <th>mean</th>\n",
       "      <td>7846.258098</td>\n",
       "      <td>25.297806</td>\n",
       "      <td>1.143939</td>\n",
       "      <td>67.336991</td>\n",
       "      <td>72.107628</td>\n",
       "      <td>2.414838</td>\n",
       "    </tr>\n",
       "    <tr>\n",
       "      <th>std</th>\n",
       "      <td>4870.339361</td>\n",
       "      <td>4.628236</td>\n",
       "      <td>0.448465</td>\n",
       "      <td>6.908814</td>\n",
       "      <td>6.133428</td>\n",
       "      <td>0.781153</td>\n",
       "    </tr>\n",
       "    <tr>\n",
       "      <th>min</th>\n",
       "      <td>1.000000</td>\n",
       "      <td>16.000000</td>\n",
       "      <td>1.000000</td>\n",
       "      <td>47.000000</td>\n",
       "      <td>52.000000</td>\n",
       "      <td>1.000000</td>\n",
       "    </tr>\n",
       "    <tr>\n",
       "      <th>25%</th>\n",
       "      <td>3466.250000</td>\n",
       "      <td>22.000000</td>\n",
       "      <td>1.000000</td>\n",
       "      <td>63.000000</td>\n",
       "      <td>68.000000</td>\n",
       "      <td>2.000000</td>\n",
       "    </tr>\n",
       "    <tr>\n",
       "      <th>50%</th>\n",
       "      <td>7643.500000</td>\n",
       "      <td>25.000000</td>\n",
       "      <td>1.000000</td>\n",
       "      <td>67.000000</td>\n",
       "      <td>72.000000</td>\n",
       "      <td>2.000000</td>\n",
       "    </tr>\n",
       "    <tr>\n",
       "      <th>75%</th>\n",
       "      <td>11967.000000</td>\n",
       "      <td>29.000000</td>\n",
       "      <td>1.000000</td>\n",
       "      <td>72.000000</td>\n",
       "      <td>76.000000</td>\n",
       "      <td>3.000000</td>\n",
       "    </tr>\n",
       "    <tr>\n",
       "      <th>max</th>\n",
       "      <td>16943.000000</td>\n",
       "      <td>42.000000</td>\n",
       "      <td>5.000000</td>\n",
       "      <td>94.000000</td>\n",
       "      <td>95.000000</td>\n",
       "      <td>5.000000</td>\n",
       "    </tr>\n",
       "  </tbody>\n",
       "</table>\n",
       "</div>"
      ],
      "text/plain": [
       "                 id          age   reputation  stat_overall  stat_potential  \\\n",
       "count   3828.000000  3828.000000  3828.000000   3828.000000     3828.000000   \n",
       "mean    7846.258098    25.297806     1.143939     67.336991       72.107628   \n",
       "std     4870.339361     4.628236     0.448465      6.908814        6.133428   \n",
       "min        1.000000    16.000000     1.000000     47.000000       52.000000   \n",
       "25%     3466.250000    22.000000     1.000000     63.000000       68.000000   \n",
       "50%     7643.500000    25.000000     1.000000     67.000000       72.000000   \n",
       "75%    11967.000000    29.000000     1.000000     72.000000       76.000000   \n",
       "max    16943.000000    42.000000     5.000000     94.000000       95.000000   \n",
       "\n",
       "       stat_skill_moves  \n",
       "count       3828.000000  \n",
       "mean           2.414838  \n",
       "std            0.781153  \n",
       "min            1.000000  \n",
       "25%            2.000000  \n",
       "50%            2.000000  \n",
       "75%            3.000000  \n",
       "max            5.000000  "
      ]
     },
     "execution_count": 9,
     "metadata": {},
     "output_type": "execute_result"
    }
   ],
   "source": [
    "test.describe()"
   ]
  },
  {
   "cell_type": "code",
   "execution_count": 10,
   "id": "17f4cbb9",
   "metadata": {
    "scrolled": true
   },
   "outputs": [
    {
     "data": {
      "image/png": "[encoded data removed]",
      "text/plain": [
       "<Figure size 2160x720 with 9 Axes>"
      ]
     },
     "metadata": {
      "needs_background": "light"
     },
     "output_type": "display_data"
    }
   ],
   "source": [
    "train.hist(figsize = (30,10), bins =50);"
   ]
  },
  {
   "cell_type": "code",
   "execution_count": 11,
   "id": "d35efb41",
   "metadata": {},
   "outputs": [
    {
     "data": {
      "image/png": "[encoded data removed]",
      "text/plain": [
       "<Figure size 1440x1080 with 6 Axes>"
      ]
     },
     "metadata": {
      "needs_background": "light"
     },
     "output_type": "display_data"
    }
   ],
   "source": [
    "test.hist(figsize = (20,15), bins =50);"
   ]
  },
  {
   "cell_type": "code",
   "execution_count": 12,
   "id": "317cb72f",
   "metadata": {
    "scrolled": false
   },
   "outputs": [
    {
     "data": {
      "text/plain": [
       "id                  8932\n",
       "name                8932\n",
       "age                   25\n",
       "continent              5\n",
       "contract_until        17\n",
       "position               4\n",
       "prefer_foot            2\n",
       "reputation             5\n",
       "stat_overall          46\n",
       "stat_potential        45\n",
       "stat_skill_moves       5\n",
       "value                198\n",
       "dtype: int64"
      ]
     },
     "execution_count": 12,
     "metadata": {},
     "output_type": "execute_result"
    }
   ],
   "source": [
    "train.nunique()"
   ]
  },
  {
   "cell_type": "code",
   "execution_count": 13,
   "id": "4d77c763",
   "metadata": {},
   "outputs": [],
   "source": [
    "train.drop(['id','name'], axis = 1,inplace = True)\n",
    "test.drop(['id','name'], axis = 1,inplace = True)"
   ]
  },
  {
   "cell_type": "code",
   "execution_count": 14,
   "id": "fd00d413",
   "metadata": {},
   "outputs": [
    {
     "data": {
      "text/plain": [
       "2019            2366\n",
       "2021            2308\n",
       "2020            2041\n",
       "2022             761\n",
       "2023             506\n",
       "Jun 30, 2019     501\n",
       "2018             327\n",
       "Dec 31, 2018      64\n",
       "May 31, 2019      19\n",
       "2024              12\n",
       "Jan 31, 2019      10\n",
       "Jun 30, 2020       9\n",
       "2025               3\n",
       "Jan 1, 2019        2\n",
       "2026               1\n",
       "May 31, 2020       1\n",
       "Jan 12, 2019       1\n",
       "Name: contract_until, dtype: int64"
      ]
     },
     "execution_count": 14,
     "metadata": {},
     "output_type": "execute_result"
    }
   ],
   "source": [
    "train[\"contract_until\"].value_counts()"
   ]
  },
  {
   "cell_type": "code",
   "execution_count": 15,
   "id": "45f5d2ce",
   "metadata": {},
   "outputs": [],
   "source": [
    "def func(string:object) -> int:\n",
    "    string = string[-4:]\n",
    "    return int(string)\n",
    "\n",
    "train['contract_until'] = train['contract_until'].apply(func)\n",
    "test['contract_until'] = test['contract_until'].apply(func)"
   ]
  },
  {
   "cell_type": "code",
   "execution_count": 16,
   "id": "04676ebf",
   "metadata": {
    "scrolled": true
   },
   "outputs": [
    {
     "data": {
      "text/plain": [
       "right    6837\n",
       "left     2095\n",
       "Name: prefer_foot, dtype: int64"
      ]
     },
     "execution_count": 16,
     "metadata": {},
     "output_type": "execute_result"
    }
   ],
   "source": [
    "train['prefer_foot'].value_counts()"
   ]
  },
  {
   "cell_type": "code",
   "execution_count": 17,
   "id": "f43cd0bf",
   "metadata": {
    "scrolled": true
   },
   "outputs": [
    {
     "data": {
      "text/plain": [
       "europe           5322\n",
       "south america    1927\n",
       "asia              787\n",
       "africa            721\n",
       "oceania           175\n",
       "Name: continent, dtype: int64"
      ]
     },
     "execution_count": 17,
     "metadata": {},
     "output_type": "execute_result"
    }
   ],
   "source": [
    "train['continent'].value_counts()"
   ]
  },
  {
   "cell_type": "code",
   "execution_count": 18,
   "id": "9aeb7ada",
   "metadata": {},
   "outputs": [
    {
     "data": {
      "text/plain": [
       "MF    3428\n",
       "DF    2791\n",
       "ST    1705\n",
       "GK    1008\n",
       "Name: position, dtype: int64"
      ]
     },
     "execution_count": 18,
     "metadata": {},
     "output_type": "execute_result"
    }
   ],
   "source": [
    "train['position'].value_counts()"
   ]
  },
  {
   "cell_type": "code",
   "execution_count": 19,
   "id": "f3e972b4",
   "metadata": {},
   "outputs": [],
   "source": [
    "train[\"right_foot\"] = (train[\"prefer_foot\"] == \"right\")\n",
    "test[\"right_foot\"] = (test[\"prefer_foot\"] == \"right\")"
   ]
  },
  {
   "cell_type": "code",
   "execution_count": 20,
   "id": "f5553a8c",
   "metadata": {},
   "outputs": [
    {
     "data": {
      "text/html": [
       "<div>\n",
       "<style scoped>\n",
       "    .dataframe tbody tr th:only-of-type {\n",
       "        vertical-align: middle;\n",
       "    }\n",
       "\n",
       "    .dataframe tbody tr th {\n",
       "        vertical-align: top;\n",
       "    }\n",
       "\n",
       "    .dataframe thead th {\n",
       "        text-align: right;\n",
       "    }\n",
       "</style>\n",
       "<table border=\"1\" class=\"dataframe\">\n",
       "  <thead>\n",
       "    <tr style=\"text-align: right;\">\n",
       "      <th></th>\n",
       "      <th>position_MF</th>\n",
       "      <th>position_DF</th>\n",
       "      <th>position_ST</th>\n",
       "      <th>position_GK</th>\n",
       "    </tr>\n",
       "  </thead>\n",
       "  <tbody>\n",
       "    <tr>\n",
       "      <th>0</th>\n",
       "      <td>False</td>\n",
       "      <td>False</td>\n",
       "      <td>True</td>\n",
       "      <td>False</td>\n",
       "    </tr>\n",
       "    <tr>\n",
       "      <th>1</th>\n",
       "      <td>False</td>\n",
       "      <td>False</td>\n",
       "      <td>False</td>\n",
       "      <td>True</td>\n",
       "    </tr>\n",
       "  </tbody>\n",
       "</table>\n",
       "</div>"
      ],
      "text/plain": [
       "   position_MF  position_DF  position_ST  position_GK\n",
       "0        False        False         True        False\n",
       "1        False        False        False         True"
      ]
     },
     "execution_count": 20,
     "metadata": {},
     "output_type": "execute_result"
    }
   ],
   "source": [
    "train[\"position_MF\"] = train[\"position\"] == \"MF\"\n",
    "train[\"position_DF\"] = train[\"position\"] == \"DF\"\n",
    "train[\"position_ST\"] = train[\"position\"] == \"ST\"\n",
    "train[\"position_GK\"] = train[\"position\"] == \"GK\"\n",
    "train[[\"position_MF\",\"position_DF\",\"position_ST\",\"position_GK\"]].head(2)"
   ]
  },
  {
   "cell_type": "code",
   "execution_count": 21,
   "id": "1f1f58bc",
   "metadata": {},
   "outputs": [
    {
     "data": {
      "text/html": [
       "<div>\n",
       "<style scoped>\n",
       "    .dataframe tbody tr th:only-of-type {\n",
       "        vertical-align: middle;\n",
       "    }\n",
       "\n",
       "    .dataframe tbody tr th {\n",
       "        vertical-align: top;\n",
       "    }\n",
       "\n",
       "    .dataframe thead th {\n",
       "        text-align: right;\n",
       "    }\n",
       "</style>\n",
       "<table border=\"1\" class=\"dataframe\">\n",
       "  <thead>\n",
       "    <tr style=\"text-align: right;\">\n",
       "      <th></th>\n",
       "      <th>position_MF</th>\n",
       "      <th>position_DF</th>\n",
       "      <th>position_ST</th>\n",
       "      <th>position_GK</th>\n",
       "    </tr>\n",
       "  </thead>\n",
       "  <tbody>\n",
       "    <tr>\n",
       "      <th>0</th>\n",
       "      <td>False</td>\n",
       "      <td>False</td>\n",
       "      <td>True</td>\n",
       "      <td>False</td>\n",
       "    </tr>\n",
       "    <tr>\n",
       "      <th>1</th>\n",
       "      <td>False</td>\n",
       "      <td>False</td>\n",
       "      <td>True</td>\n",
       "      <td>False</td>\n",
       "    </tr>\n",
       "  </tbody>\n",
       "</table>\n",
       "</div>"
      ],
      "text/plain": [
       "   position_MF  position_DF  position_ST  position_GK\n",
       "0        False        False         True        False\n",
       "1        False        False         True        False"
      ]
     },
     "execution_count": 21,
     "metadata": {},
     "output_type": "execute_result"
    }
   ],
   "source": [
    "test[\"position_MF\"] = test[\"position\"] == \"MF\"\n",
    "test[\"position_DF\"] = test[\"position\"] == \"DF\"\n",
    "test[\"position_ST\"] = test[\"position\"] == \"ST\"\n",
    "test[\"position_GK\"] = test[\"position\"] == \"GK\"\n",
    "test[[\"position_MF\",\"position_DF\",\"position_ST\",\"position_GK\"]].head(2)"
   ]
  },
  {
   "cell_type": "code",
   "execution_count": 22,
   "id": "f6afe348",
   "metadata": {},
   "outputs": [],
   "source": [
    "train[\"continent_E\"] = train[\"continent\"] == \"europe\"\n",
    "train[\"continent_Sa\"] = train[\"continent\"] == \"south america\"\n",
    "train[\"continent_A\"] = train[\"continent\"] == \"asia\"\n",
    "train[\"continent_Af\"] = train[\"continent\"] == \"africa\"\n",
    "train[\"continent_O\"] = train[\"continent\"] == \"oceania\""
   ]
  },
  {
   "cell_type": "code",
   "execution_count": 23,
   "id": "1f55df4c",
   "metadata": {},
   "outputs": [],
   "source": [
    "test[\"continent_E\"] = test[\"continent\"] == \"europe\"\n",
    "test[\"continent_Sa\"] = test[\"continent\"] == \"south america\"\n",
    "test[\"continent_A\"] = test[\"continent\"] == \"asia\"\n",
    "test[\"continent_Af\"] = test[\"continent\"] == \"africa\"\n",
    "test[\"continent_O\"] = test[\"continent\"] == \"oceania\""
   ]
  },
  {
   "cell_type": "code",
   "execution_count": 24,
   "id": "a224b6ab",
   "metadata": {},
   "outputs": [
    {
     "data": {
      "text/plain": [
       "{'value'}"
      ]
     },
     "execution_count": 24,
     "metadata": {},
     "output_type": "execute_result"
    }
   ],
   "source": [
    "set(train.columns) - set(test.columns)"
   ]
  },
  {
   "cell_type": "code",
   "execution_count": 25,
   "id": "d948c337",
   "metadata": {
    "scrolled": true
   },
   "outputs": [
    {
     "data": {
      "text/plain": [
       "count    8.932000e+03\n",
       "mean     2.778673e+06\n",
       "std      5.840982e+06\n",
       "min      1.000000e+04\n",
       "25%      3.750000e+05\n",
       "50%      8.250000e+05\n",
       "75%      2.600000e+06\n",
       "max      1.105000e+08\n",
       "Name: value, dtype: float64"
      ]
     },
     "execution_count": 25,
     "metadata": {},
     "output_type": "execute_result"
    }
   ],
   "source": [
    "train[\"value\"].describe()"
   ]
  },
  {
   "cell_type": "code",
   "execution_count": 26,
   "id": "e0484fba",
   "metadata": {
    "scrolled": true
   },
   "outputs": [
    {
     "name": "stdout",
     "output_type": "stream",
     "text": [
      "왜도(Skewness): 5.885798215027292\n",
      "첨도(Kurtosis): 52.05051473763727\n"
     ]
    }
   ],
   "source": [
    "print(\"왜도(Skewness):\", train[\"value\"].skew())\n",
    "print(\"첨도(Kurtosis):\", train[\"value\"].kurtosis())"
   ]
  },
  {
   "cell_type": "code",
   "execution_count": 27,
   "id": "65744908",
   "metadata": {},
   "outputs": [],
   "source": [
    "train['value_log1p'] = np.log1p(train[\"value\"])"
   ]
  },
  {
   "cell_type": "code",
   "execution_count": 28,
   "id": "eb076892",
   "metadata": {},
   "outputs": [
    {
     "data": {
      "text/plain": [
       "array([[<AxesSubplot:title={'center':'value'}>,\n",
       "        <AxesSubplot:title={'center':'value_log1p'}>]], dtype=object)"
      ]
     },
     "execution_count": 28,
     "metadata": {},
     "output_type": "execute_result"
    },
    {
     "data": {
      "image/png": "[encoded data removed]",
      "text/plain": [
       "<Figure size 864x216 with 2 Axes>"
      ]
     },
     "metadata": {
      "needs_background": "light"
     },
     "output_type": "display_data"
    }
   ],
   "source": [
    "train[['value','value_log1p']].hist(figsize=(12,3), bins = 50)"
   ]
  },
  {
   "cell_type": "code",
   "execution_count": 29,
   "id": "9388318d",
   "metadata": {},
   "outputs": [
    {
     "data": {
      "text/plain": [
       "<AxesSubplot:xlabel='value_log1p', ylabel='Density'>"
      ]
     },
     "execution_count": 29,
     "metadata": {},
     "output_type": "execute_result"
    },
    {
     "data": {
      "image/png": "[encoded data removed]",
      "text/plain": [
       "<Figure size 864x216 with 2 Axes>"
      ]
     },
     "metadata": {
      "needs_background": "light"
     },
     "output_type": "display_data"
    }
   ],
   "source": [
    "fig,axes = plt.subplots(nrows = 1, ncols =2, figsize = (12,3))\n",
    "sns.kdeplot(train['value'], fill = True, ax = axes[0])\n",
    "sns.kdeplot(train['value_log1p'], fill = True, ax = axes[1])"
   ]
  },
  {
   "cell_type": "code",
   "execution_count": 30,
   "id": "edfdd726",
   "metadata": {},
   "outputs": [
    {
     "data": {
      "text/plain": [
       "(5.885798215027292, 52.05051473763727)"
      ]
     },
     "execution_count": 30,
     "metadata": {},
     "output_type": "execute_result"
    }
   ],
   "source": [
    "train['value'].skew(), train['value'].kurt()"
   ]
  },
  {
   "cell_type": "code",
   "execution_count": 31,
   "id": "b211be98",
   "metadata": {},
   "outputs": [
    {
     "data": {
      "text/plain": [
       "(0.30879767174080225, -0.19954364048482764)"
      ]
     },
     "execution_count": 31,
     "metadata": {},
     "output_type": "execute_result"
    }
   ],
   "source": [
    "train['value_log1p'].skew() ,  train[\"value_log1p\"].kurt()"
   ]
  },
  {
   "cell_type": "code",
   "execution_count": 32,
   "id": "c8ba368c",
   "metadata": {},
   "outputs": [
    {
     "data": {
      "text/plain": [
       "<AxesSubplot:xlabel='reputation', ylabel='stat_overall'>"
      ]
     },
     "execution_count": 32,
     "metadata": {},
     "output_type": "execute_result"
    },
    {
     "data": {
      "image/png": "[encoded data removed]",
      "text/plain": [
       "<Figure size 432x288 with 1 Axes>"
      ]
     },
     "metadata": {
      "needs_background": "light"
     },
     "output_type": "display_data"
    }
   ],
   "source": [
    "sns.barplot(data = train,x =\"reputation\" , y ='stat_overall')"
   ]
  },
  {
   "cell_type": "code",
   "execution_count": 33,
   "id": "50c167d6",
   "metadata": {
    "scrolled": true
   },
   "outputs": [
    {
     "data": {
      "text/plain": [
       "<AxesSubplot:xlabel='reputation', ylabel='value'>"
      ]
     },
     "execution_count": 33,
     "metadata": {},
     "output_type": "execute_result"
    },
    {
     "data": {
      "image/png": "[encoded data removed]",
      "text/plain": [
       "<Figure size 432x288 with 1 Axes>"
      ]
     },
     "metadata": {
      "needs_background": "light"
     },
     "output_type": "display_data"
    }
   ],
   "source": [
    "sns.barplot(data = train, x = \"reputation\", y = \"value\")"
   ]
  },
  {
   "cell_type": "code",
   "execution_count": 34,
   "id": "f145f4a3",
   "metadata": {},
   "outputs": [
    {
     "data": {
      "text/plain": [
       "<AxesSubplot:xlabel='stat_potential', ylabel='value'>"
      ]
     },
     "execution_count": 34,
     "metadata": {},
     "output_type": "execute_result"
    },
    {
     "data": {
      "image/png": "[encoded data removed]",
      "text/plain": [
       "<Figure size 432x288 with 1 Axes>"
      ]
     },
     "metadata": {
      "needs_background": "light"
     },
     "output_type": "display_data"
    }
   ],
   "source": [
    "sns.barplot(data = train,x =\"stat_potential\" , y ='value')"
   ]
  },
  {
   "cell_type": "code",
   "execution_count": 35,
   "id": "03eeabc1",
   "metadata": {},
   "outputs": [
    {
     "data": {
      "text/html": [
       "<div>\n",
       "<style scoped>\n",
       "    .dataframe tbody tr th:only-of-type {\n",
       "        vertical-align: middle;\n",
       "    }\n",
       "\n",
       "    .dataframe tbody tr th {\n",
       "        vertical-align: top;\n",
       "    }\n",
       "\n",
       "    .dataframe thead th {\n",
       "        text-align: right;\n",
       "    }\n",
       "</style>\n",
       "<table border=\"1\" class=\"dataframe\">\n",
       "  <thead>\n",
       "    <tr style=\"text-align: right;\">\n",
       "      <th></th>\n",
       "      <th>age</th>\n",
       "      <th>contract_until</th>\n",
       "      <th>reputation</th>\n",
       "      <th>stat_overall</th>\n",
       "      <th>stat_potential</th>\n",
       "      <th>stat_skill_moves</th>\n",
       "      <th>value</th>\n",
       "      <th>right_foot</th>\n",
       "      <th>position_MF</th>\n",
       "      <th>position_DF</th>\n",
       "      <th>position_ST</th>\n",
       "      <th>position_GK</th>\n",
       "      <th>continent_E</th>\n",
       "      <th>continent_Sa</th>\n",
       "      <th>continent_A</th>\n",
       "      <th>continent_Af</th>\n",
       "      <th>continent_O</th>\n",
       "      <th>value_log1p</th>\n",
       "    </tr>\n",
       "  </thead>\n",
       "  <tbody>\n",
       "    <tr>\n",
       "      <th>age</th>\n",
       "      <td>1.000000</td>\n",
       "      <td>-0.132052</td>\n",
       "      <td>0.263468</td>\n",
       "      <td>0.467345</td>\n",
       "      <td>-0.231303</td>\n",
       "      <td>0.039362</td>\n",
       "      <td>0.087319</td>\n",
       "      <td>0.007760</td>\n",
       "      <td>-0.046136</td>\n",
       "      <td>0.059474</td>\n",
       "      <td>-0.049141</td>\n",
       "      <td>0.044823</td>\n",
       "      <td>-0.104937</td>\n",
       "      <td>0.129006</td>\n",
       "      <td>0.006852</td>\n",
       "      <td>-0.001488</td>\n",
       "      <td>-0.022411</td>\n",
       "      <td>0.184635</td>\n",
       "    </tr>\n",
       "    <tr>\n",
       "      <th>contract_until</th>\n",
       "      <td>-0.132052</td>\n",
       "      <td>1.000000</td>\n",
       "      <td>0.070446</td>\n",
       "      <td>0.156983</td>\n",
       "      <td>0.258477</td>\n",
       "      <td>0.082641</td>\n",
       "      <td>0.228638</td>\n",
       "      <td>-0.004760</td>\n",
       "      <td>0.018126</td>\n",
       "      <td>-0.010573</td>\n",
       "      <td>0.011158</td>\n",
       "      <td>-0.026230</td>\n",
       "      <td>-0.085970</td>\n",
       "      <td>0.083893</td>\n",
       "      <td>0.051768</td>\n",
       "      <td>0.001904</td>\n",
       "      <td>-0.054209</td>\n",
       "      <td>0.214345</td>\n",
       "    </tr>\n",
       "    <tr>\n",
       "      <th>reputation</th>\n",
       "      <td>0.263468</td>\n",
       "      <td>0.070446</td>\n",
       "      <td>1.000000</td>\n",
       "      <td>0.521389</td>\n",
       "      <td>0.399183</td>\n",
       "      <td>0.196582</td>\n",
       "      <td>0.665982</td>\n",
       "      <td>0.003859</td>\n",
       "      <td>0.008883</td>\n",
       "      <td>-0.020679</td>\n",
       "      <td>0.026791</td>\n",
       "      <td>-0.016637</td>\n",
       "      <td>0.046014</td>\n",
       "      <td>-0.000129</td>\n",
       "      <td>-0.055924</td>\n",
       "      <td>-0.006171</td>\n",
       "      <td>-0.036035</td>\n",
       "      <td>0.480683</td>\n",
       "    </tr>\n",
       "    <tr>\n",
       "      <th>stat_overall</th>\n",
       "      <td>0.467345</td>\n",
       "      <td>0.156983</td>\n",
       "      <td>0.521389</td>\n",
       "      <td>1.000000</td>\n",
       "      <td>0.665453</td>\n",
       "      <td>0.400164</td>\n",
       "      <td>0.658444</td>\n",
       "      <td>-0.036585</td>\n",
       "      <td>0.032464</td>\n",
       "      <td>0.020955</td>\n",
       "      <td>0.014821</td>\n",
       "      <td>-0.099001</td>\n",
       "      <td>-0.001432</td>\n",
       "      <td>0.118782</td>\n",
       "      <td>-0.168241</td>\n",
       "      <td>0.041090</td>\n",
       "      <td>-0.084138</td>\n",
       "      <td>0.938548</td>\n",
       "    </tr>\n",
       "    <tr>\n",
       "      <th>stat_potential</th>\n",
       "      <td>-0.231303</td>\n",
       "      <td>0.258477</td>\n",
       "      <td>0.399183</td>\n",
       "      <td>0.665453</td>\n",
       "      <td>1.000000</td>\n",
       "      <td>0.332578</td>\n",
       "      <td>0.611907</td>\n",
       "      <td>-0.029030</td>\n",
       "      <td>0.049390</td>\n",
       "      <td>-0.036676</td>\n",
       "      <td>0.046471</td>\n",
       "      <td>-0.079903</td>\n",
       "      <td>0.079171</td>\n",
       "      <td>0.055883</td>\n",
       "      <td>-0.196688</td>\n",
       "      <td>0.017984</td>\n",
       "      <td>-0.079259</td>\n",
       "      <td>0.793474</td>\n",
       "    </tr>\n",
       "    <tr>\n",
       "      <th>stat_skill_moves</th>\n",
       "      <td>0.039362</td>\n",
       "      <td>0.082641</td>\n",
       "      <td>0.196582</td>\n",
       "      <td>0.400164</td>\n",
       "      <td>0.332578</td>\n",
       "      <td>1.000000</td>\n",
       "      <td>0.298500</td>\n",
       "      <td>-0.109107</td>\n",
       "      <td>0.363413</td>\n",
       "      <td>-0.143230</td>\n",
       "      <td>0.237923</td>\n",
       "      <td>-0.644243</td>\n",
       "      <td>-0.046998</td>\n",
       "      <td>0.053987</td>\n",
       "      <td>-0.057077</td>\n",
       "      <td>0.078053</td>\n",
       "      <td>-0.030498</td>\n",
       "      <td>0.476796</td>\n",
       "    </tr>\n",
       "    <tr>\n",
       "      <th>value</th>\n",
       "      <td>0.087319</td>\n",
       "      <td>0.228638</td>\n",
       "      <td>0.665982</td>\n",
       "      <td>0.658444</td>\n",
       "      <td>0.611907</td>\n",
       "      <td>0.298500</td>\n",
       "      <td>1.000000</td>\n",
       "      <td>-0.008204</td>\n",
       "      <td>0.046358</td>\n",
       "      <td>-0.054749</td>\n",
       "      <td>0.045879</td>\n",
       "      <td>-0.048034</td>\n",
       "      <td>0.031069</td>\n",
       "      <td>0.036327</td>\n",
       "      <td>-0.092792</td>\n",
       "      <td>0.009821</td>\n",
       "      <td>-0.047345</td>\n",
       "      <td>0.694398</td>\n",
       "    </tr>\n",
       "    <tr>\n",
       "      <th>right_foot</th>\n",
       "      <td>0.007760</td>\n",
       "      <td>-0.004760</td>\n",
       "      <td>0.003859</td>\n",
       "      <td>-0.036585</td>\n",
       "      <td>-0.029030</td>\n",
       "      <td>-0.109107</td>\n",
       "      <td>-0.008204</td>\n",
       "      <td>1.000000</td>\n",
       "      <td>0.021210</td>\n",
       "      <td>-0.145008</td>\n",
       "      <td>0.051707</td>\n",
       "      <td>0.115595</td>\n",
       "      <td>-0.010082</td>\n",
       "      <td>-0.009650</td>\n",
       "      <td>0.003347</td>\n",
       "      <td>0.025326</td>\n",
       "      <td>0.007714</td>\n",
       "      <td>-0.038607</td>\n",
       "    </tr>\n",
       "    <tr>\n",
       "      <th>position_MF</th>\n",
       "      <td>-0.046136</td>\n",
       "      <td>0.018126</td>\n",
       "      <td>0.008883</td>\n",
       "      <td>0.032464</td>\n",
       "      <td>0.049390</td>\n",
       "      <td>0.363413</td>\n",
       "      <td>0.046358</td>\n",
       "      <td>0.021210</td>\n",
       "      <td>1.000000</td>\n",
       "      <td>-0.532037</td>\n",
       "      <td>-0.383323</td>\n",
       "      <td>-0.281475</td>\n",
       "      <td>-0.016665</td>\n",
       "      <td>-0.003672</td>\n",
       "      <td>0.026768</td>\n",
       "      <td>0.009540</td>\n",
       "      <td>-0.003593</td>\n",
       "      <td>0.086290</td>\n",
       "    </tr>\n",
       "    <tr>\n",
       "      <th>position_DF</th>\n",
       "      <td>0.059474</td>\n",
       "      <td>-0.010573</td>\n",
       "      <td>-0.020679</td>\n",
       "      <td>0.020955</td>\n",
       "      <td>-0.036676</td>\n",
       "      <td>-0.143230</td>\n",
       "      <td>-0.054749</td>\n",
       "      <td>-0.145008</td>\n",
       "      <td>-0.532037</td>\n",
       "      <td>1.000000</td>\n",
       "      <td>-0.327449</td>\n",
       "      <td>-0.240446</td>\n",
       "      <td>0.022654</td>\n",
       "      <td>0.004032</td>\n",
       "      <td>-0.011006</td>\n",
       "      <td>-0.034841</td>\n",
       "      <td>-0.001190</td>\n",
       "      <td>-0.034146</td>\n",
       "    </tr>\n",
       "    <tr>\n",
       "      <th>position_ST</th>\n",
       "      <td>-0.049141</td>\n",
       "      <td>0.011158</td>\n",
       "      <td>0.026791</td>\n",
       "      <td>0.014821</td>\n",
       "      <td>0.046471</td>\n",
       "      <td>0.237923</td>\n",
       "      <td>0.045879</td>\n",
       "      <td>0.051707</td>\n",
       "      <td>-0.383323</td>\n",
       "      <td>-0.327449</td>\n",
       "      <td>1.000000</td>\n",
       "      <td>-0.173237</td>\n",
       "      <td>-0.044061</td>\n",
       "      <td>0.028507</td>\n",
       "      <td>-0.036410</td>\n",
       "      <td>0.074638</td>\n",
       "      <td>-0.000833</td>\n",
       "      <td>0.072955</td>\n",
       "    </tr>\n",
       "    <tr>\n",
       "      <th>position_GK</th>\n",
       "      <td>0.044823</td>\n",
       "      <td>-0.026230</td>\n",
       "      <td>-0.016637</td>\n",
       "      <td>-0.099001</td>\n",
       "      <td>-0.079903</td>\n",
       "      <td>-0.644243</td>\n",
       "      <td>-0.048034</td>\n",
       "      <td>0.115595</td>\n",
       "      <td>-0.281475</td>\n",
       "      <td>-0.240446</td>\n",
       "      <td>-0.173237</td>\n",
       "      <td>1.000000</td>\n",
       "      <td>0.047154</td>\n",
       "      <td>-0.035670</td>\n",
       "      <td>0.020203</td>\n",
       "      <td>-0.056330</td>\n",
       "      <td>0.008299</td>\n",
       "      <td>-0.173217</td>\n",
       "    </tr>\n",
       "    <tr>\n",
       "      <th>continent_E</th>\n",
       "      <td>-0.104937</td>\n",
       "      <td>-0.085970</td>\n",
       "      <td>0.046014</td>\n",
       "      <td>-0.001432</td>\n",
       "      <td>0.079171</td>\n",
       "      <td>-0.046998</td>\n",
       "      <td>0.031069</td>\n",
       "      <td>-0.010082</td>\n",
       "      <td>-0.016665</td>\n",
       "      <td>0.022654</td>\n",
       "      <td>-0.044061</td>\n",
       "      <td>0.047154</td>\n",
       "      <td>1.000000</td>\n",
       "      <td>-0.636826</td>\n",
       "      <td>-0.377421</td>\n",
       "      <td>-0.359794</td>\n",
       "      <td>-0.171643</td>\n",
       "      <td>0.020593</td>\n",
       "    </tr>\n",
       "    <tr>\n",
       "      <th>continent_Sa</th>\n",
       "      <td>0.129006</td>\n",
       "      <td>0.083893</td>\n",
       "      <td>-0.000129</td>\n",
       "      <td>0.118782</td>\n",
       "      <td>0.055883</td>\n",
       "      <td>0.053987</td>\n",
       "      <td>0.036327</td>\n",
       "      <td>-0.009650</td>\n",
       "      <td>-0.003672</td>\n",
       "      <td>0.004032</td>\n",
       "      <td>0.028507</td>\n",
       "      <td>-0.035670</td>\n",
       "      <td>-0.636826</td>\n",
       "      <td>1.000000</td>\n",
       "      <td>-0.163034</td>\n",
       "      <td>-0.155420</td>\n",
       "      <td>-0.074144</td>\n",
       "      <td>0.091723</td>\n",
       "    </tr>\n",
       "    <tr>\n",
       "      <th>continent_A</th>\n",
       "      <td>0.006852</td>\n",
       "      <td>0.051768</td>\n",
       "      <td>-0.055924</td>\n",
       "      <td>-0.168241</td>\n",
       "      <td>-0.196688</td>\n",
       "      <td>-0.057077</td>\n",
       "      <td>-0.092792</td>\n",
       "      <td>0.003347</td>\n",
       "      <td>0.026768</td>\n",
       "      <td>-0.011006</td>\n",
       "      <td>-0.036410</td>\n",
       "      <td>0.020203</td>\n",
       "      <td>-0.377421</td>\n",
       "      <td>-0.163034</td>\n",
       "      <td>1.000000</td>\n",
       "      <td>-0.092111</td>\n",
       "      <td>-0.043942</td>\n",
       "      <td>-0.177492</td>\n",
       "    </tr>\n",
       "    <tr>\n",
       "      <th>continent_Af</th>\n",
       "      <td>-0.001488</td>\n",
       "      <td>0.001904</td>\n",
       "      <td>-0.006171</td>\n",
       "      <td>0.041090</td>\n",
       "      <td>0.017984</td>\n",
       "      <td>0.078053</td>\n",
       "      <td>0.009821</td>\n",
       "      <td>0.025326</td>\n",
       "      <td>0.009540</td>\n",
       "      <td>-0.034841</td>\n",
       "      <td>0.074638</td>\n",
       "      <td>-0.056330</td>\n",
       "      <td>-0.359794</td>\n",
       "      <td>-0.155420</td>\n",
       "      <td>-0.092111</td>\n",
       "      <td>1.000000</td>\n",
       "      <td>-0.041890</td>\n",
       "      <td>0.053208</td>\n",
       "    </tr>\n",
       "    <tr>\n",
       "      <th>continent_O</th>\n",
       "      <td>-0.022411</td>\n",
       "      <td>-0.054209</td>\n",
       "      <td>-0.036035</td>\n",
       "      <td>-0.084138</td>\n",
       "      <td>-0.079259</td>\n",
       "      <td>-0.030498</td>\n",
       "      <td>-0.047345</td>\n",
       "      <td>0.007714</td>\n",
       "      <td>-0.003593</td>\n",
       "      <td>-0.001190</td>\n",
       "      <td>-0.000833</td>\n",
       "      <td>0.008299</td>\n",
       "      <td>-0.171643</td>\n",
       "      <td>-0.074144</td>\n",
       "      <td>-0.043942</td>\n",
       "      <td>-0.041890</td>\n",
       "      <td>1.000000</td>\n",
       "      <td>-0.086710</td>\n",
       "    </tr>\n",
       "    <tr>\n",
       "      <th>value_log1p</th>\n",
       "      <td>0.184635</td>\n",
       "      <td>0.214345</td>\n",
       "      <td>0.480683</td>\n",
       "      <td>0.938548</td>\n",
       "      <td>0.793474</td>\n",
       "      <td>0.476796</td>\n",
       "      <td>0.694398</td>\n",
       "      <td>-0.038607</td>\n",
       "      <td>0.086290</td>\n",
       "      <td>-0.034146</td>\n",
       "      <td>0.072955</td>\n",
       "      <td>-0.173217</td>\n",
       "      <td>0.020593</td>\n",
       "      <td>0.091723</td>\n",
       "      <td>-0.177492</td>\n",
       "      <td>0.053208</td>\n",
       "      <td>-0.086710</td>\n",
       "      <td>1.000000</td>\n",
       "    </tr>\n",
       "  </tbody>\n",
       "</table>\n",
       "</div>"
      ],
      "text/plain": [
       "                       age  contract_until  reputation  stat_overall  \\\n",
       "age               1.000000       -0.132052    0.263468      0.467345   \n",
       "contract_until   -0.132052        1.000000    0.070446      0.156983   \n",
       "reputation        0.263468        0.070446    1.000000      0.521389   \n",
       "stat_overall      0.467345        0.156983    0.521389      1.000000   \n",
       "stat_potential   -0.231303        0.258477    0.399183      0.665453   \n",
       "stat_skill_moves  0.039362        0.082641    0.196582      0.400164   \n",
       "value             0.087319        0.228638    0.665982      0.658444   \n",
       "right_foot        0.007760       -0.004760    0.003859     -0.036585   \n",
       "position_MF      -0.046136        0.018126    0.008883      0.032464   \n",
       "position_DF       0.059474       -0.010573   -0.020679      0.020955   \n",
       "position_ST      -0.049141        0.011158    0.026791      0.014821   \n",
       "position_GK       0.044823       -0.026230   -0.016637     -0.099001   \n",
       "continent_E      -0.104937       -0.085970    0.046014     -0.001432   \n",
       "continent_Sa      0.129006        0.083893   -0.000129      0.118782   \n",
       "continent_A       0.006852        0.051768   -0.055924     -0.168241   \n",
       "continent_Af     -0.001488        0.001904   -0.006171      0.041090   \n",
       "continent_O      -0.022411       -0.054209   -0.036035     -0.084138   \n",
       "value_log1p       0.184635        0.214345    0.480683      0.938548   \n",
       "\n",
       "                  stat_potential  stat_skill_moves     value  right_foot  \\\n",
       "age                    -0.231303          0.039362  0.087319    0.007760   \n",
       "contract_until          0.258477          0.082641  0.228638   -0.004760   \n",
       "reputation              0.399183          0.196582  0.665982    0.003859   \n",
       "stat_overall            0.665453          0.400164  0.658444   -0.036585   \n",
       "stat_potential          1.000000          0.332578  0.611907   -0.029030   \n",
       "stat_skill_moves        0.332578          1.000000  0.298500   -0.109107   \n",
       "value                   0.611907          0.298500  1.000000   -0.008204   \n",
       "right_foot             -0.029030         -0.109107 -0.008204    1.000000   \n",
       "position_MF             0.049390          0.363413  0.046358    0.021210   \n",
       "position_DF            -0.036676         -0.143230 -0.054749   -0.145008   \n",
       "position_ST             0.046471          0.237923  0.045879    0.051707   \n",
       "position_GK            -0.079903         -0.644243 -0.048034    0.115595   \n",
       "continent_E             0.079171         -0.046998  0.031069   -0.010082   \n",
       "continent_Sa            0.055883          0.053987  0.036327   -0.009650   \n",
       "continent_A            -0.196688         -0.057077 -0.092792    0.003347   \n",
       "continent_Af            0.017984          0.078053  0.009821    0.025326   \n",
       "continent_O            -0.079259         -0.030498 -0.047345    0.007714   \n",
       "value_log1p             0.793474          0.476796  0.694398   -0.038607   \n",
       "\n",
       "                  position_MF  position_DF  position_ST  position_GK  \\\n",
       "age                 -0.046136     0.059474    -0.049141     0.044823   \n",
       "contract_until       0.018126    -0.010573     0.011158    -0.026230   \n",
       "reputation           0.008883    -0.020679     0.026791    -0.016637   \n",
       "stat_overall         0.032464     0.020955     0.014821    -0.099001   \n",
       "stat_potential       0.049390    -0.036676     0.046471    -0.079903   \n",
       "stat_skill_moves     0.363413    -0.143230     0.237923    -0.644243   \n",
       "value                0.046358    -0.054749     0.045879    -0.048034   \n",
       "right_foot           0.021210    -0.145008     0.051707     0.115595   \n",
       "position_MF          1.000000    -0.532037    -0.383323    -0.281475   \n",
       "position_DF         -0.532037     1.000000    -0.327449    -0.240446   \n",
       "position_ST         -0.383323    -0.327449     1.000000    -0.173237   \n",
       "position_GK         -0.281475    -0.240446    -0.173237     1.000000   \n",
       "continent_E         -0.016665     0.022654    -0.044061     0.047154   \n",
       "continent_Sa        -0.003672     0.004032     0.028507    -0.035670   \n",
       "continent_A          0.026768    -0.011006    -0.036410     0.020203   \n",
       "continent_Af         0.009540    -0.034841     0.074638    -0.056330   \n",
       "continent_O         -0.003593    -0.001190    -0.000833     0.008299   \n",
       "value_log1p          0.086290    -0.034146     0.072955    -0.173217   \n",
       "\n",
       "                  continent_E  continent_Sa  continent_A  continent_Af  \\\n",
       "age                 -0.104937      0.129006     0.006852     -0.001488   \n",
       "contract_until      -0.085970      0.083893     0.051768      0.001904   \n",
       "reputation           0.046014     -0.000129    -0.055924     -0.006171   \n",
       "stat_overall        -0.001432      0.118782    -0.168241      0.041090   \n",
       "stat_potential       0.079171      0.055883    -0.196688      0.017984   \n",
       "stat_skill_moves    -0.046998      0.053987    -0.057077      0.078053   \n",
       "value                0.031069      0.036327    -0.092792      0.009821   \n",
       "right_foot          -0.010082     -0.009650     0.003347      0.025326   \n",
       "position_MF         -0.016665     -0.003672     0.026768      0.009540   \n",
       "position_DF          0.022654      0.004032    -0.011006     -0.034841   \n",
       "position_ST         -0.044061      0.028507    -0.036410      0.074638   \n",
       "position_GK          0.047154     -0.035670     0.020203     -0.056330   \n",
       "continent_E          1.000000     -0.636826    -0.377421     -0.359794   \n",
       "continent_Sa        -0.636826      1.000000    -0.163034     -0.155420   \n",
       "continent_A         -0.377421     -0.163034     1.000000     -0.092111   \n",
       "continent_Af        -0.359794     -0.155420    -0.092111      1.000000   \n",
       "continent_O         -0.171643     -0.074144    -0.043942     -0.041890   \n",
       "value_log1p          0.020593      0.091723    -0.177492      0.053208   \n",
       "\n",
       "                  continent_O  value_log1p  \n",
       "age                 -0.022411     0.184635  \n",
       "contract_until      -0.054209     0.214345  \n",
       "reputation          -0.036035     0.480683  \n",
       "stat_overall        -0.084138     0.938548  \n",
       "stat_potential      -0.079259     0.793474  \n",
       "stat_skill_moves    -0.030498     0.476796  \n",
       "value               -0.047345     0.694398  \n",
       "right_foot           0.007714    -0.038607  \n",
       "position_MF         -0.003593     0.086290  \n",
       "position_DF         -0.001190    -0.034146  \n",
       "position_ST         -0.000833     0.072955  \n",
       "position_GK          0.008299    -0.173217  \n",
       "continent_E         -0.171643     0.020593  \n",
       "continent_Sa        -0.074144     0.091723  \n",
       "continent_A         -0.043942    -0.177492  \n",
       "continent_Af        -0.041890     0.053208  \n",
       "continent_O          1.000000    -0.086710  \n",
       "value_log1p         -0.086710     1.000000  "
      ]
     },
     "execution_count": 35,
     "metadata": {},
     "output_type": "execute_result"
    }
   ],
   "source": [
    "corr = train.corr()\n",
    "corr"
   ]
  },
  {
   "cell_type": "code",
   "execution_count": 36,
   "id": "f13cb280",
   "metadata": {},
   "outputs": [],
   "source": [
    "mask = np.triu(np.ones_like(corr))"
   ]
  },
  {
   "cell_type": "code",
   "execution_count": 37,
   "id": "0f2fd42f",
   "metadata": {},
   "outputs": [
    {
     "data": {
      "text/plain": [
       "<AxesSubplot:>"
      ]
     },
     "execution_count": 37,
     "metadata": {},
     "output_type": "execute_result"
    },
    {
     "data": {
      "image/png": "[encoded data removed]",
      "text/plain": [
       "<Figure size 1080x720 with 2 Axes>"
      ]
     },
     "metadata": {
      "needs_background": "light"
     },
     "output_type": "display_data"
    }
   ],
   "source": [
    "plt.figure(figsize = (15,10))\n",
    "sns.heatmap(corr, annot = True, cmap = 'summer',vmax = 1, vmin = -1, mask = mask)"
   ]
  },
  {
   "cell_type": "code",
   "execution_count": 38,
   "id": "fce5de5c",
   "metadata": {
    "scrolled": true
   },
   "outputs": [
    {
     "data": {
      "text/plain": [
       "0.6659824178835521"
      ]
     },
     "execution_count": 38,
     "metadata": {},
     "output_type": "execute_result"
    }
   ],
   "source": [
    "corr.loc[\"reputation\", \"value\"]"
   ]
  },
  {
   "cell_type": "code",
   "execution_count": 39,
   "id": "de46e5d5",
   "metadata": {
    "scrolled": false
   },
   "outputs": [
    {
     "data": {
      "text/plain": [
       "Index(['age', 'continent', 'contract_until', 'position', 'prefer_foot',\n",
       "       'reputation', 'stat_overall', 'stat_potential', 'stat_skill_moves',\n",
       "       'value', 'right_foot', 'position_MF', 'position_DF', 'position_ST',\n",
       "       'position_GK', 'continent_E', 'continent_Sa', 'continent_A',\n",
       "       'continent_Af', 'continent_O', 'value_log1p'],\n",
       "      dtype='object')"
      ]
     },
     "execution_count": 39,
     "metadata": {},
     "output_type": "execute_result"
    }
   ],
   "source": [
    "train.columns"
   ]
  },
  {
   "cell_type": "code",
   "execution_count": 40,
   "id": "a8ba1835",
   "metadata": {},
   "outputs": [],
   "source": [
    "label_name = \"value_log1p\""
   ]
  },
  {
   "cell_type": "code",
   "execution_count": 41,
   "id": "627b8762",
   "metadata": {},
   "outputs": [],
   "source": [
    "feature_names = ['age', 'contract_until','reputation', 'stat_overall',\n",
    "                 'stat_potential', 'stat_skill_moves',\"right_foot\",'position_MF', 'position_DF',\n",
    "       'position_ST', 'position_GK','continent_Sa', 'continent_A','continent_Af', 'continent_O']"
   ]
  },
  {
   "cell_type": "code",
   "execution_count": 42,
   "id": "7ca4c300",
   "metadata": {},
   "outputs": [
    {
     "name": "stdout",
     "output_type": "stream",
     "text": [
      "(8932, 15)\n"
     ]
    },
    {
     "data": {
      "text/html": [
       "<div>\n",
       "<style scoped>\n",
       "    .dataframe tbody tr th:only-of-type {\n",
       "        vertical-align: middle;\n",
       "    }\n",
       "\n",
       "    .dataframe tbody tr th {\n",
       "        vertical-align: top;\n",
       "    }\n",
       "\n",
       "    .dataframe thead th {\n",
       "        text-align: right;\n",
       "    }\n",
       "</style>\n",
       "<table border=\"1\" class=\"dataframe\">\n",
       "  <thead>\n",
       "    <tr style=\"text-align: right;\">\n",
       "      <th></th>\n",
       "      <th>age</th>\n",
       "      <th>contract_until</th>\n",
       "      <th>reputation</th>\n",
       "      <th>stat_overall</th>\n",
       "      <th>stat_potential</th>\n",
       "      <th>stat_skill_moves</th>\n",
       "      <th>right_foot</th>\n",
       "      <th>position_MF</th>\n",
       "      <th>position_DF</th>\n",
       "      <th>position_ST</th>\n",
       "      <th>position_GK</th>\n",
       "      <th>continent_Sa</th>\n",
       "      <th>continent_A</th>\n",
       "      <th>continent_Af</th>\n",
       "      <th>continent_O</th>\n",
       "    </tr>\n",
       "  </thead>\n",
       "  <tbody>\n",
       "    <tr>\n",
       "      <th>0</th>\n",
       "      <td>31</td>\n",
       "      <td>2021</td>\n",
       "      <td>5.0</td>\n",
       "      <td>94</td>\n",
       "      <td>94</td>\n",
       "      <td>4.0</td>\n",
       "      <td>False</td>\n",
       "      <td>False</td>\n",
       "      <td>False</td>\n",
       "      <td>True</td>\n",
       "      <td>False</td>\n",
       "      <td>True</td>\n",
       "      <td>False</td>\n",
       "      <td>False</td>\n",
       "      <td>False</td>\n",
       "    </tr>\n",
       "    <tr>\n",
       "      <th>1</th>\n",
       "      <td>27</td>\n",
       "      <td>2020</td>\n",
       "      <td>4.0</td>\n",
       "      <td>91</td>\n",
       "      <td>93</td>\n",
       "      <td>1.0</td>\n",
       "      <td>True</td>\n",
       "      <td>False</td>\n",
       "      <td>False</td>\n",
       "      <td>False</td>\n",
       "      <td>True</td>\n",
       "      <td>False</td>\n",
       "      <td>False</td>\n",
       "      <td>False</td>\n",
       "      <td>False</td>\n",
       "    </tr>\n",
       "    <tr>\n",
       "      <th>2</th>\n",
       "      <td>31</td>\n",
       "      <td>2021</td>\n",
       "      <td>5.0</td>\n",
       "      <td>91</td>\n",
       "      <td>91</td>\n",
       "      <td>3.0</td>\n",
       "      <td>True</td>\n",
       "      <td>False</td>\n",
       "      <td>False</td>\n",
       "      <td>True</td>\n",
       "      <td>False</td>\n",
       "      <td>True</td>\n",
       "      <td>False</td>\n",
       "      <td>False</td>\n",
       "      <td>False</td>\n",
       "    </tr>\n",
       "    <tr>\n",
       "      <th>3</th>\n",
       "      <td>32</td>\n",
       "      <td>2020</td>\n",
       "      <td>4.0</td>\n",
       "      <td>91</td>\n",
       "      <td>91</td>\n",
       "      <td>3.0</td>\n",
       "      <td>True</td>\n",
       "      <td>False</td>\n",
       "      <td>True</td>\n",
       "      <td>False</td>\n",
       "      <td>False</td>\n",
       "      <td>False</td>\n",
       "      <td>False</td>\n",
       "      <td>False</td>\n",
       "      <td>False</td>\n",
       "    </tr>\n",
       "  </tbody>\n",
       "</table>\n",
       "</div>"
      ],
      "text/plain": [
       "   age  contract_until  reputation  stat_overall  stat_potential  \\\n",
       "0   31            2021         5.0            94              94   \n",
       "1   27            2020         4.0            91              93   \n",
       "2   31            2021         5.0            91              91   \n",
       "3   32            2020         4.0            91              91   \n",
       "\n",
       "   stat_skill_moves  right_foot  position_MF  position_DF  position_ST  \\\n",
       "0               4.0       False        False        False         True   \n",
       "1               1.0        True        False        False        False   \n",
       "2               3.0        True        False        False         True   \n",
       "3               3.0        True        False         True        False   \n",
       "\n",
       "   position_GK  continent_Sa  continent_A  continent_Af  continent_O  \n",
       "0        False          True        False         False        False  \n",
       "1         True         False        False         False        False  \n",
       "2        False          True        False         False        False  \n",
       "3        False         False        False         False        False  "
      ]
     },
     "execution_count": 42,
     "metadata": {},
     "output_type": "execute_result"
    }
   ],
   "source": [
    "X_train = train[feature_names]\n",
    "print(X_train.shape)\n",
    "X_train.head(4)"
   ]
  },
  {
   "cell_type": "code",
   "execution_count": 43,
   "id": "9f115154",
   "metadata": {},
   "outputs": [
    {
     "name": "stdout",
     "output_type": "stream",
     "text": [
      "(3828, 15)\n"
     ]
    },
    {
     "data": {
      "text/html": [
       "<div>\n",
       "<style scoped>\n",
       "    .dataframe tbody tr th:only-of-type {\n",
       "        vertical-align: middle;\n",
       "    }\n",
       "\n",
       "    .dataframe tbody tr th {\n",
       "        vertical-align: top;\n",
       "    }\n",
       "\n",
       "    .dataframe thead th {\n",
       "        text-align: right;\n",
       "    }\n",
       "</style>\n",
       "<table border=\"1\" class=\"dataframe\">\n",
       "  <thead>\n",
       "    <tr style=\"text-align: right;\">\n",
       "      <th></th>\n",
       "      <th>age</th>\n",
       "      <th>contract_until</th>\n",
       "      <th>reputation</th>\n",
       "      <th>stat_overall</th>\n",
       "      <th>stat_potential</th>\n",
       "      <th>stat_skill_moves</th>\n",
       "      <th>right_foot</th>\n",
       "      <th>position_MF</th>\n",
       "      <th>position_DF</th>\n",
       "      <th>position_ST</th>\n",
       "      <th>position_GK</th>\n",
       "      <th>continent_Sa</th>\n",
       "      <th>continent_A</th>\n",
       "      <th>continent_Af</th>\n",
       "      <th>continent_O</th>\n",
       "    </tr>\n",
       "  </thead>\n",
       "  <tbody>\n",
       "    <tr>\n",
       "      <th>0</th>\n",
       "      <td>33</td>\n",
       "      <td>2022</td>\n",
       "      <td>5.0</td>\n",
       "      <td>94</td>\n",
       "      <td>94</td>\n",
       "      <td>5.0</td>\n",
       "      <td>True</td>\n",
       "      <td>False</td>\n",
       "      <td>False</td>\n",
       "      <td>True</td>\n",
       "      <td>False</td>\n",
       "      <td>False</td>\n",
       "      <td>False</td>\n",
       "      <td>False</td>\n",
       "      <td>False</td>\n",
       "    </tr>\n",
       "    <tr>\n",
       "      <th>1</th>\n",
       "      <td>26</td>\n",
       "      <td>2022</td>\n",
       "      <td>5.0</td>\n",
       "      <td>92</td>\n",
       "      <td>93</td>\n",
       "      <td>5.0</td>\n",
       "      <td>True</td>\n",
       "      <td>False</td>\n",
       "      <td>False</td>\n",
       "      <td>True</td>\n",
       "      <td>False</td>\n",
       "      <td>True</td>\n",
       "      <td>False</td>\n",
       "      <td>False</td>\n",
       "      <td>False</td>\n",
       "    </tr>\n",
       "    <tr>\n",
       "      <th>2</th>\n",
       "      <td>27</td>\n",
       "      <td>2023</td>\n",
       "      <td>4.0</td>\n",
       "      <td>91</td>\n",
       "      <td>92</td>\n",
       "      <td>4.0</td>\n",
       "      <td>True</td>\n",
       "      <td>True</td>\n",
       "      <td>False</td>\n",
       "      <td>False</td>\n",
       "      <td>False</td>\n",
       "      <td>False</td>\n",
       "      <td>False</td>\n",
       "      <td>False</td>\n",
       "      <td>False</td>\n",
       "    </tr>\n",
       "    <tr>\n",
       "      <th>3</th>\n",
       "      <td>27</td>\n",
       "      <td>2020</td>\n",
       "      <td>4.0</td>\n",
       "      <td>91</td>\n",
       "      <td>91</td>\n",
       "      <td>4.0</td>\n",
       "      <td>True</td>\n",
       "      <td>False</td>\n",
       "      <td>False</td>\n",
       "      <td>True</td>\n",
       "      <td>False</td>\n",
       "      <td>False</td>\n",
       "      <td>False</td>\n",
       "      <td>False</td>\n",
       "      <td>False</td>\n",
       "    </tr>\n",
       "  </tbody>\n",
       "</table>\n",
       "</div>"
      ],
      "text/plain": [
       "   age  contract_until  reputation  stat_overall  stat_potential  \\\n",
       "0   33            2022         5.0            94              94   \n",
       "1   26            2022         5.0            92              93   \n",
       "2   27            2023         4.0            91              92   \n",
       "3   27            2020         4.0            91              91   \n",
       "\n",
       "   stat_skill_moves  right_foot  position_MF  position_DF  position_ST  \\\n",
       "0               5.0        True        False        False         True   \n",
       "1               5.0        True        False        False         True   \n",
       "2               4.0        True         True        False        False   \n",
       "3               4.0        True        False        False         True   \n",
       "\n",
       "   position_GK  continent_Sa  continent_A  continent_Af  continent_O  \n",
       "0        False         False        False         False        False  \n",
       "1        False          True        False         False        False  \n",
       "2        False         False        False         False        False  \n",
       "3        False         False        False         False        False  "
      ]
     },
     "execution_count": 43,
     "metadata": {},
     "output_type": "execute_result"
    }
   ],
   "source": [
    "X_test = test[feature_names]\n",
    "print(X_test.shape)\n",
    "X_test.head(4)"
   ]
  },
  {
   "cell_type": "code",
   "execution_count": 44,
   "id": "f34862ff",
   "metadata": {},
   "outputs": [
    {
     "name": "stdout",
     "output_type": "stream",
     "text": [
      "(8932,)\n"
     ]
    },
    {
     "data": {
      "text/plain": [
       "0    18.520526\n",
       "1    18.092177\n",
       "2    18.197537\n",
       "3    17.747336\n",
       "Name: value_log1p, dtype: float64"
      ]
     },
     "execution_count": 44,
     "metadata": {},
     "output_type": "execute_result"
    }
   ],
   "source": [
    "y_train = train[label_name]\n",
    "print(y_train.shape)\n",
    "y_train.head(4)"
   ]
  },
  {
   "cell_type": "code",
   "execution_count": 45,
   "id": "b5d62e7f",
   "metadata": {},
   "outputs": [
    {
     "data": {
      "text/html": [
       "<style>#sk-container-id-1 {color: black;background-color: white;}#sk-container-id-1 pre{padding: 0;}#sk-container-id-1 div.sk-toggleable {background-color: white;}#sk-container-id-1 label.sk-toggleable__label {cursor: pointer;display: block;width: 100%;margin-bottom: 0;padding: 0.3em;box-sizing: border-box;text-align: center;}#sk-container-id-1 label.sk-toggleable__label-arrow:before {content: \"▸\";float: left;margin-right: 0.25em;color: #696969;}#sk-container-id-1 label.sk-toggleable__label-arrow:hover:before {color: black;}#sk-container-id-1 div.sk-estimator:hover label.sk-toggleable__label-arrow:before {color: black;}#sk-container-id-1 div.sk-toggleable__content {max-height: 0;max-width: 0;overflow: hidden;text-align: left;background-color: #f0f8ff;}#sk-container-id-1 div.sk-toggleable__content pre {margin: 0.2em;color: black;border-radius: 0.25em;background-color: #f0f8ff;}#sk-container-id-1 input.sk-toggleable__control:checked~div.sk-toggleable__content {max-height: 200px;max-width: 100%;overflow: auto;}#sk-container-id-1 input.sk-toggleable__control:checked~label.sk-toggleable__label-arrow:before {content: \"▾\";}#sk-container-id-1 div.sk-estimator input.sk-toggleable__control:checked~label.sk-toggleable__label {background-color: #d4ebff;}#sk-container-id-1 div.sk-label input.sk-toggleable__control:checked~label.sk-toggleable__label {background-color: #d4ebff;}#sk-container-id-1 input.sk-hidden--visually {border: 0;clip: rect(1px 1px 1px 1px);clip: rect(1px, 1px, 1px, 1px);height: 1px;margin: -1px;overflow: hidden;padding: 0;position: absolute;width: 1px;}#sk-container-id-1 div.sk-estimator {font-family: monospace;background-color: #f0f8ff;border: 1px dotted black;border-radius: 0.25em;box-sizing: border-box;margin-bottom: 0.5em;}#sk-container-id-1 div.sk-estimator:hover {background-color: #d4ebff;}#sk-container-id-1 div.sk-parallel-item::after {content: \"\";width: 100%;border-bottom: 1px solid gray;flex-grow: 1;}#sk-container-id-1 div.sk-label:hover label.sk-toggleable__label {background-color: #d4ebff;}#sk-container-id-1 div.sk-serial::before {content: \"\";position: absolute;border-left: 1px solid gray;box-sizing: border-box;top: 0;bottom: 0;left: 50%;z-index: 0;}#sk-container-id-1 div.sk-serial {display: flex;flex-direction: column;align-items: center;background-color: white;padding-right: 0.2em;padding-left: 0.2em;position: relative;}#sk-container-id-1 div.sk-item {position: relative;z-index: 1;}#sk-container-id-1 div.sk-parallel {display: flex;align-items: stretch;justify-content: center;background-color: white;position: relative;}#sk-container-id-1 div.sk-item::before, #sk-container-id-1 div.sk-parallel-item::before {content: \"\";position: absolute;border-left: 1px solid gray;box-sizing: border-box;top: 0;bottom: 0;left: 50%;z-index: -1;}#sk-container-id-1 div.sk-parallel-item {display: flex;flex-direction: column;z-index: 1;position: relative;background-color: white;}#sk-container-id-1 div.sk-parallel-item:first-child::after {align-self: flex-end;width: 50%;}#sk-container-id-1 div.sk-parallel-item:last-child::after {align-self: flex-start;width: 50%;}#sk-container-id-1 div.sk-parallel-item:only-child::after {width: 0;}#sk-container-id-1 div.sk-dashed-wrapped {border: 1px dashed gray;margin: 0 0.4em 0.5em 0.4em;box-sizing: border-box;padding-bottom: 0.4em;background-color: white;}#sk-container-id-1 div.sk-label label {font-family: monospace;font-weight: bold;display: inline-block;line-height: 1.2em;}#sk-container-id-1 div.sk-label-container {text-align: center;}#sk-container-id-1 div.sk-container {/* jupyter's `normalize.less` sets `[hidden] { display: none; }` but bootstrap.min.css set `[hidden] { display: none !important; }` so we also need the `!important` here to be able to override the default hidden behavior on the sphinx rendered scikit-learn.org. See: https://github.com/scikit-learn/scikit-learn/issues/21755 */display: inline-block !important;position: relative;}#sk-container-id-1 div.sk-text-repr-fallback {display: none;}</style><div id=\"sk-container-id-1\" class=\"sk-top-container\"><div class=\"sk-text-repr-fallback\"><pre>RandomForestRegressor(n_jobs=-1, random_state=42)</pre><b>In a Jupyter environment, please rerun this cell to show the HTML representation or trust the notebook. <br />On GitHub, the HTML representation is unable to render, please try loading this page with nbviewer.org.</b></div><div class=\"sk-container\" hidden><div class=\"sk-item\"><div class=\"sk-estimator sk-toggleable\"><input class=\"sk-toggleable__control sk-hidden--visually\" id=\"sk-estimator-id-1\" type=\"checkbox\" checked><label for=\"sk-estimator-id-1\" class=\"sk-toggleable__label sk-toggleable__label-arrow\">RandomForestRegressor</label><div class=\"sk-toggleable__content\"><pre>RandomForestRegressor(n_jobs=-1, random_state=42)</pre></div></div></div></div></div>"
      ],
      "text/plain": [
       "RandomForestRegressor(n_jobs=-1, random_state=42)"
      ]
     },
     "execution_count": 45,
     "metadata": {},
     "output_type": "execute_result"
    }
   ],
   "source": [
    "from sklearn.ensemble import RandomForestRegressor\n",
    "\n",
    "model = RandomForestRegressor(random_state= 42, n_jobs= -1)\n",
    "model"
   ]
  },
  {
   "cell_type": "code",
   "execution_count": 46,
   "id": "1fdba978",
   "metadata": {},
   "outputs": [
    {
     "data": {
      "text/plain": [
       "dict_keys(['explained_variance', 'r2', 'max_error', 'matthews_corrcoef', 'neg_median_absolute_error', 'neg_mean_absolute_error', 'neg_mean_absolute_percentage_error', 'neg_mean_squared_error', 'neg_mean_squared_log_error', 'neg_root_mean_squared_error', 'neg_mean_poisson_deviance', 'neg_mean_gamma_deviance', 'accuracy', 'top_k_accuracy', 'roc_auc', 'roc_auc_ovr', 'roc_auc_ovo', 'roc_auc_ovr_weighted', 'roc_auc_ovo_weighted', 'balanced_accuracy', 'average_precision', 'neg_log_loss', 'neg_brier_score', 'adjusted_rand_score', 'rand_score', 'homogeneity_score', 'completeness_score', 'v_measure_score', 'mutual_info_score', 'adjusted_mutual_info_score', 'normalized_mutual_info_score', 'fowlkes_mallows_score', 'precision', 'precision_macro', 'precision_micro', 'precision_samples', 'precision_weighted', 'recall', 'recall_macro', 'recall_micro', 'recall_samples', 'recall_weighted', 'f1', 'f1_macro', 'f1_micro', 'f1_samples', 'f1_weighted', 'jaccard', 'jaccard_macro', 'jaccard_micro', 'jaccard_samples', 'jaccard_weighted'])"
      ]
     },
     "execution_count": 46,
     "metadata": {},
     "output_type": "execute_result"
    }
   ],
   "source": [
    "import sklearn\n",
    "sklearn.metrics.SCORERS.keys()"
   ]
  },
  {
   "cell_type": "code",
   "execution_count": 47,
   "id": "28dc6f20",
   "metadata": {},
   "outputs": [
    {
     "data": {
      "text/plain": [
       "array([55,  7, 19, 99, 50, 40, 11, 33, 48, 79])"
      ]
     },
     "execution_count": 47,
     "metadata": {},
     "output_type": "execute_result"
    }
   ],
   "source": [
    "np.random.randint(3,100,10)"
   ]
  },
  {
   "cell_type": "code",
   "execution_count": 48,
   "id": "2bd3c370",
   "metadata": {},
   "outputs": [
    {
     "data": {
      "text/plain": [
       "array([0.51338093, 0.76713123, 0.24010964, 0.71874779, 0.48462904,\n",
       "       0.1851088 , 0.77058734, 0.70275575, 0.88088354, 0.25272174,\n",
       "       0.16360724, 0.14240167, 0.31612427, 0.83623187, 0.64252729,\n",
       "       0.77002605, 0.81036135, 0.83390989, 0.36258919, 0.51281063])"
      ]
     },
     "execution_count": 48,
     "metadata": {},
     "output_type": "execute_result"
    }
   ],
   "source": [
    "np.random.uniform(0.1,1,20)"
   ]
  },
  {
   "cell_type": "code",
   "execution_count": 49,
   "id": "b5f6a152",
   "metadata": {},
   "outputs": [
    {
     "data": {
      "text/html": [
       "<style>#sk-container-id-2 {color: black;background-color: white;}#sk-container-id-2 pre{padding: 0;}#sk-container-id-2 div.sk-toggleable {background-color: white;}#sk-container-id-2 label.sk-toggleable__label {cursor: pointer;display: block;width: 100%;margin-bottom: 0;padding: 0.3em;box-sizing: border-box;text-align: center;}#sk-container-id-2 label.sk-toggleable__label-arrow:before {content: \"▸\";float: left;margin-right: 0.25em;color: #696969;}#sk-container-id-2 label.sk-toggleable__label-arrow:hover:before {color: black;}#sk-container-id-2 div.sk-estimator:hover label.sk-toggleable__label-arrow:before {color: black;}#sk-container-id-2 div.sk-toggleable__content {max-height: 0;max-width: 0;overflow: hidden;text-align: left;background-color: #f0f8ff;}#sk-container-id-2 div.sk-toggleable__content pre {margin: 0.2em;color: black;border-radius: 0.25em;background-color: #f0f8ff;}#sk-container-id-2 input.sk-toggleable__control:checked~div.sk-toggleable__content {max-height: 200px;max-width: 100%;overflow: auto;}#sk-container-id-2 input.sk-toggleable__control:checked~label.sk-toggleable__label-arrow:before {content: \"▾\";}#sk-container-id-2 div.sk-estimator input.sk-toggleable__control:checked~label.sk-toggleable__label {background-color: #d4ebff;}#sk-container-id-2 div.sk-label input.sk-toggleable__control:checked~label.sk-toggleable__label {background-color: #d4ebff;}#sk-container-id-2 input.sk-hidden--visually {border: 0;clip: rect(1px 1px 1px 1px);clip: rect(1px, 1px, 1px, 1px);height: 1px;margin: -1px;overflow: hidden;padding: 0;position: absolute;width: 1px;}#sk-container-id-2 div.sk-estimator {font-family: monospace;background-color: #f0f8ff;border: 1px dotted black;border-radius: 0.25em;box-sizing: border-box;margin-bottom: 0.5em;}#sk-container-id-2 div.sk-estimator:hover {background-color: #d4ebff;}#sk-container-id-2 div.sk-parallel-item::after {content: \"\";width: 100%;border-bottom: 1px solid gray;flex-grow: 1;}#sk-container-id-2 div.sk-label:hover label.sk-toggleable__label {background-color: #d4ebff;}#sk-container-id-2 div.sk-serial::before {content: \"\";position: absolute;border-left: 1px solid gray;box-sizing: border-box;top: 0;bottom: 0;left: 50%;z-index: 0;}#sk-container-id-2 div.sk-serial {display: flex;flex-direction: column;align-items: center;background-color: white;padding-right: 0.2em;padding-left: 0.2em;position: relative;}#sk-container-id-2 div.sk-item {position: relative;z-index: 1;}#sk-container-id-2 div.sk-parallel {display: flex;align-items: stretch;justify-content: center;background-color: white;position: relative;}#sk-container-id-2 div.sk-item::before, #sk-container-id-2 div.sk-parallel-item::before {content: \"\";position: absolute;border-left: 1px solid gray;box-sizing: border-box;top: 0;bottom: 0;left: 50%;z-index: -1;}#sk-container-id-2 div.sk-parallel-item {display: flex;flex-direction: column;z-index: 1;position: relative;background-color: white;}#sk-container-id-2 div.sk-parallel-item:first-child::after {align-self: flex-end;width: 50%;}#sk-container-id-2 div.sk-parallel-item:last-child::after {align-self: flex-start;width: 50%;}#sk-container-id-2 div.sk-parallel-item:only-child::after {width: 0;}#sk-container-id-2 div.sk-dashed-wrapped {border: 1px dashed gray;margin: 0 0.4em 0.5em 0.4em;box-sizing: border-box;padding-bottom: 0.4em;background-color: white;}#sk-container-id-2 div.sk-label label {font-family: monospace;font-weight: bold;display: inline-block;line-height: 1.2em;}#sk-container-id-2 div.sk-label-container {text-align: center;}#sk-container-id-2 div.sk-container {/* jupyter's `normalize.less` sets `[hidden] { display: none; }` but bootstrap.min.css set `[hidden] { display: none !important; }` so we also need the `!important` here to be able to override the default hidden behavior on the sphinx rendered scikit-learn.org. See: https://github.com/scikit-learn/scikit-learn/issues/21755 */display: inline-block !important;position: relative;}#sk-container-id-2 div.sk-text-repr-fallback {display: none;}</style><div id=\"sk-container-id-2\" class=\"sk-top-container\"><div class=\"sk-text-repr-fallback\"><pre>RandomForestRegressor(max_depth=20, max_features=0.1, n_jobs=-1,\n",
       "                      random_state=42)</pre><b>In a Jupyter environment, please rerun this cell to show the HTML representation or trust the notebook. <br />On GitHub, the HTML representation is unable to render, please try loading this page with nbviewer.org.</b></div><div class=\"sk-container\" hidden><div class=\"sk-item\"><div class=\"sk-estimator sk-toggleable\"><input class=\"sk-toggleable__control sk-hidden--visually\" id=\"sk-estimator-id-2\" type=\"checkbox\" checked><label for=\"sk-estimator-id-2\" class=\"sk-toggleable__label sk-toggleable__label-arrow\">RandomForestRegressor</label><div class=\"sk-toggleable__content\"><pre>RandomForestRegressor(max_depth=20, max_features=0.1, n_jobs=-1,\n",
       "                      random_state=42)</pre></div></div></div></div></div>"
      ],
      "text/plain": [
       "RandomForestRegressor(max_depth=20, max_features=0.1, n_jobs=-1,\n",
       "                      random_state=42)"
      ]
     },
     "execution_count": 49,
     "metadata": {},
     "output_type": "execute_result"
    }
   ],
   "source": [
    "RandomForestRegressor(max_depth= 20, max_features=0.1, n_jobs= -1,\n",
    "                     random_state=42)"
   ]
  },
  {
   "cell_type": "code",
   "execution_count": 50,
   "id": "0090bcb6",
   "metadata": {},
   "outputs": [
    {
     "name": "stdout",
     "output_type": "stream",
     "text": [
      "Fitting 10 folds for each of 21 candidates, totalling 210 fits\n"
     ]
    },
    {
     "data": {
      "text/html": [
       "<style>#sk-container-id-3 {color: black;background-color: white;}#sk-container-id-3 pre{padding: 0;}#sk-container-id-3 div.sk-toggleable {background-color: white;}#sk-container-id-3 label.sk-toggleable__label {cursor: pointer;display: block;width: 100%;margin-bottom: 0;padding: 0.3em;box-sizing: border-box;text-align: center;}#sk-container-id-3 label.sk-toggleable__label-arrow:before {content: \"▸\";float: left;margin-right: 0.25em;color: #696969;}#sk-container-id-3 label.sk-toggleable__label-arrow:hover:before {color: black;}#sk-container-id-3 div.sk-estimator:hover label.sk-toggleable__label-arrow:before {color: black;}#sk-container-id-3 div.sk-toggleable__content {max-height: 0;max-width: 0;overflow: hidden;text-align: left;background-color: #f0f8ff;}#sk-container-id-3 div.sk-toggleable__content pre {margin: 0.2em;color: black;border-radius: 0.25em;background-color: #f0f8ff;}#sk-container-id-3 input.sk-toggleable__control:checked~div.sk-toggleable__content {max-height: 200px;max-width: 100%;overflow: auto;}#sk-container-id-3 input.sk-toggleable__control:checked~label.sk-toggleable__label-arrow:before {content: \"▾\";}#sk-container-id-3 div.sk-estimator input.sk-toggleable__control:checked~label.sk-toggleable__label {background-color: #d4ebff;}#sk-container-id-3 div.sk-label input.sk-toggleable__control:checked~label.sk-toggleable__label {background-color: #d4ebff;}#sk-container-id-3 input.sk-hidden--visually {border: 0;clip: rect(1px 1px 1px 1px);clip: rect(1px, 1px, 1px, 1px);height: 1px;margin: -1px;overflow: hidden;padding: 0;position: absolute;width: 1px;}#sk-container-id-3 div.sk-estimator {font-family: monospace;background-color: #f0f8ff;border: 1px dotted black;border-radius: 0.25em;box-sizing: border-box;margin-bottom: 0.5em;}#sk-container-id-3 div.sk-estimator:hover {background-color: #d4ebff;}#sk-container-id-3 div.sk-parallel-item::after {content: \"\";width: 100%;border-bottom: 1px solid gray;flex-grow: 1;}#sk-container-id-3 div.sk-label:hover label.sk-toggleable__label {background-color: #d4ebff;}#sk-container-id-3 div.sk-serial::before {content: \"\";position: absolute;border-left: 1px solid gray;box-sizing: border-box;top: 0;bottom: 0;left: 50%;z-index: 0;}#sk-container-id-3 div.sk-serial {display: flex;flex-direction: column;align-items: center;background-color: white;padding-right: 0.2em;padding-left: 0.2em;position: relative;}#sk-container-id-3 div.sk-item {position: relative;z-index: 1;}#sk-container-id-3 div.sk-parallel {display: flex;align-items: stretch;justify-content: center;background-color: white;position: relative;}#sk-container-id-3 div.sk-item::before, #sk-container-id-3 div.sk-parallel-item::before {content: \"\";position: absolute;border-left: 1px solid gray;box-sizing: border-box;top: 0;bottom: 0;left: 50%;z-index: -1;}#sk-container-id-3 div.sk-parallel-item {display: flex;flex-direction: column;z-index: 1;position: relative;background-color: white;}#sk-container-id-3 div.sk-parallel-item:first-child::after {align-self: flex-end;width: 50%;}#sk-container-id-3 div.sk-parallel-item:last-child::after {align-self: flex-start;width: 50%;}#sk-container-id-3 div.sk-parallel-item:only-child::after {width: 0;}#sk-container-id-3 div.sk-dashed-wrapped {border: 1px dashed gray;margin: 0 0.4em 0.5em 0.4em;box-sizing: border-box;padding-bottom: 0.4em;background-color: white;}#sk-container-id-3 div.sk-label label {font-family: monospace;font-weight: bold;display: inline-block;line-height: 1.2em;}#sk-container-id-3 div.sk-label-container {text-align: center;}#sk-container-id-3 div.sk-container {/* jupyter's `normalize.less` sets `[hidden] { display: none; }` but bootstrap.min.css set `[hidden] { display: none !important; }` so we also need the `!important` here to be able to override the default hidden behavior on the sphinx rendered scikit-learn.org. See: https://github.com/scikit-learn/scikit-learn/issues/21755 */display: inline-block !important;position: relative;}#sk-container-id-3 div.sk-text-repr-fallback {display: none;}</style><div id=\"sk-container-id-3\" class=\"sk-top-container\"><div class=\"sk-text-repr-fallback\"><pre>RandomizedSearchCV(cv=10,\n",
       "                   estimator=RandomForestRegressor(n_jobs=-1, random_state=42),\n",
       "                   n_iter=21, n_jobs=-1,\n",
       "                   param_distributions={&#x27;max_depth&#x27;: array([56, 17, 32, 11, 97, 17, 89, 81, 59, 35]),\n",
       "                                        &#x27;max_features&#x27;: array([0.85884643, 0.27043575, 0.13638714, 0.30250594, 0.51614327,\n",
       "       0.39097866, 0.77640306, 0.829663  , 0.55387026, 0.57986915,\n",
       "       0.27535367, 0.82288752, 0.28042904, 0.43000102, 0.669697  ,\n",
       "       0.17802673, 0.66307335, 0.48219877, 0.38659423, 0.89206603])},\n",
       "                   random_state=42, scoring=&#x27;neg_root_mean_squared_error&#x27;,\n",
       "                   verbose=6)</pre><b>In a Jupyter environment, please rerun this cell to show the HTML representation or trust the notebook. <br />On GitHub, the HTML representation is unable to render, please try loading this page with nbviewer.org.</b></div><div class=\"sk-container\" hidden><div class=\"sk-item sk-dashed-wrapped\"><div class=\"sk-label-container\"><div class=\"sk-label sk-toggleable\"><input class=\"sk-toggleable__control sk-hidden--visually\" id=\"sk-estimator-id-3\" type=\"checkbox\" ><label for=\"sk-estimator-id-3\" class=\"sk-toggleable__label sk-toggleable__label-arrow\">RandomizedSearchCV</label><div class=\"sk-toggleable__content\"><pre>RandomizedSearchCV(cv=10,\n",
       "                   estimator=RandomForestRegressor(n_jobs=-1, random_state=42),\n",
       "                   n_iter=21, n_jobs=-1,\n",
       "                   param_distributions={&#x27;max_depth&#x27;: array([56, 17, 32, 11, 97, 17, 89, 81, 59, 35]),\n",
       "                                        &#x27;max_features&#x27;: array([0.85884643, 0.27043575, 0.13638714, 0.30250594, 0.51614327,\n",
       "       0.39097866, 0.77640306, 0.829663  , 0.55387026, 0.57986915,\n",
       "       0.27535367, 0.82288752, 0.28042904, 0.43000102, 0.669697  ,\n",
       "       0.17802673, 0.66307335, 0.48219877, 0.38659423, 0.89206603])},\n",
       "                   random_state=42, scoring=&#x27;neg_root_mean_squared_error&#x27;,\n",
       "                   verbose=6)</pre></div></div></div><div class=\"sk-parallel\"><div class=\"sk-parallel-item\"><div class=\"sk-item\"><div class=\"sk-label-container\"><div class=\"sk-label sk-toggleable\"><input class=\"sk-toggleable__control sk-hidden--visually\" id=\"sk-estimator-id-4\" type=\"checkbox\" ><label for=\"sk-estimator-id-4\" class=\"sk-toggleable__label sk-toggleable__label-arrow\">estimator: RandomForestRegressor</label><div class=\"sk-toggleable__content\"><pre>RandomForestRegressor(n_jobs=-1, random_state=42)</pre></div></div></div><div class=\"sk-serial\"><div class=\"sk-item\"><div class=\"sk-estimator sk-toggleable\"><input class=\"sk-toggleable__control sk-hidden--visually\" id=\"sk-estimator-id-5\" type=\"checkbox\" ><label for=\"sk-estimator-id-5\" class=\"sk-toggleable__label sk-toggleable__label-arrow\">RandomForestRegressor</label><div class=\"sk-toggleable__content\"><pre>RandomForestRegressor(n_jobs=-1, random_state=42)</pre></div></div></div></div></div></div></div></div></div></div>"
      ],
      "text/plain": [
       "RandomizedSearchCV(cv=10,\n",
       "                   estimator=RandomForestRegressor(n_jobs=-1, random_state=42),\n",
       "                   n_iter=21, n_jobs=-1,\n",
       "                   param_distributions={'max_depth': array([56, 17, 32, 11, 97, 17, 89, 81, 59, 35]),\n",
       "                                        'max_features': array([0.85884643, 0.27043575, 0.13638714, 0.30250594, 0.51614327,\n",
       "       0.39097866, 0.77640306, 0.829663  , 0.55387026, 0.57986915,\n",
       "       0.27535367, 0.82288752, 0.28042904, 0.43000102, 0.669697  ,\n",
       "       0.17802673, 0.66307335, 0.48219877, 0.38659423, 0.89206603])},\n",
       "                   random_state=42, scoring='neg_root_mean_squared_error',\n",
       "                   verbose=6)"
      ]
     },
     "execution_count": 50,
     "metadata": {},
     "output_type": "execute_result"
    }
   ],
   "source": [
    "from sklearn.model_selection import RandomizedSearchCV\n",
    "\n",
    "param_distributions = {\"max_depth\":np.random.randint(3,100,10),\n",
    "                      \"max_features\": np.random.uniform(0.1,1,20)}\n",
    "\n",
    "reg = RandomizedSearchCV(model, param_distributions= param_distributions,\n",
    "                        scoring=\"neg_root_mean_squared_error\",\n",
    "                        n_iter = 21, cv = 10, n_jobs = -1,\n",
    "                        verbose = 6, random_state= 42)\n",
    "reg.fit(X_train,y_train)"
   ]
  },
  {
   "cell_type": "code",
   "execution_count": 51,
   "id": "912deb18",
   "metadata": {},
   "outputs": [
    {
     "data": {
      "text/html": [
       "<style>#sk-container-id-4 {color: black;background-color: white;}#sk-container-id-4 pre{padding: 0;}#sk-container-id-4 div.sk-toggleable {background-color: white;}#sk-container-id-4 label.sk-toggleable__label {cursor: pointer;display: block;width: 100%;margin-bottom: 0;padding: 0.3em;box-sizing: border-box;text-align: center;}#sk-container-id-4 label.sk-toggleable__label-arrow:before {content: \"▸\";float: left;margin-right: 0.25em;color: #696969;}#sk-container-id-4 label.sk-toggleable__label-arrow:hover:before {color: black;}#sk-container-id-4 div.sk-estimator:hover label.sk-toggleable__label-arrow:before {color: black;}#sk-container-id-4 div.sk-toggleable__content {max-height: 0;max-width: 0;overflow: hidden;text-align: left;background-color: #f0f8ff;}#sk-container-id-4 div.sk-toggleable__content pre {margin: 0.2em;color: black;border-radius: 0.25em;background-color: #f0f8ff;}#sk-container-id-4 input.sk-toggleable__control:checked~div.sk-toggleable__content {max-height: 200px;max-width: 100%;overflow: auto;}#sk-container-id-4 input.sk-toggleable__control:checked~label.sk-toggleable__label-arrow:before {content: \"▾\";}#sk-container-id-4 div.sk-estimator input.sk-toggleable__control:checked~label.sk-toggleable__label {background-color: #d4ebff;}#sk-container-id-4 div.sk-label input.sk-toggleable__control:checked~label.sk-toggleable__label {background-color: #d4ebff;}#sk-container-id-4 input.sk-hidden--visually {border: 0;clip: rect(1px 1px 1px 1px);clip: rect(1px, 1px, 1px, 1px);height: 1px;margin: -1px;overflow: hidden;padding: 0;position: absolute;width: 1px;}#sk-container-id-4 div.sk-estimator {font-family: monospace;background-color: #f0f8ff;border: 1px dotted black;border-radius: 0.25em;box-sizing: border-box;margin-bottom: 0.5em;}#sk-container-id-4 div.sk-estimator:hover {background-color: #d4ebff;}#sk-container-id-4 div.sk-parallel-item::after {content: \"\";width: 100%;border-bottom: 1px solid gray;flex-grow: 1;}#sk-container-id-4 div.sk-label:hover label.sk-toggleable__label {background-color: #d4ebff;}#sk-container-id-4 div.sk-serial::before {content: \"\";position: absolute;border-left: 1px solid gray;box-sizing: border-box;top: 0;bottom: 0;left: 50%;z-index: 0;}#sk-container-id-4 div.sk-serial {display: flex;flex-direction: column;align-items: center;background-color: white;padding-right: 0.2em;padding-left: 0.2em;position: relative;}#sk-container-id-4 div.sk-item {position: relative;z-index: 1;}#sk-container-id-4 div.sk-parallel {display: flex;align-items: stretch;justify-content: center;background-color: white;position: relative;}#sk-container-id-4 div.sk-item::before, #sk-container-id-4 div.sk-parallel-item::before {content: \"\";position: absolute;border-left: 1px solid gray;box-sizing: border-box;top: 0;bottom: 0;left: 50%;z-index: -1;}#sk-container-id-4 div.sk-parallel-item {display: flex;flex-direction: column;z-index: 1;position: relative;background-color: white;}#sk-container-id-4 div.sk-parallel-item:first-child::after {align-self: flex-end;width: 50%;}#sk-container-id-4 div.sk-parallel-item:last-child::after {align-self: flex-start;width: 50%;}#sk-container-id-4 div.sk-parallel-item:only-child::after {width: 0;}#sk-container-id-4 div.sk-dashed-wrapped {border: 1px dashed gray;margin: 0 0.4em 0.5em 0.4em;box-sizing: border-box;padding-bottom: 0.4em;background-color: white;}#sk-container-id-4 div.sk-label label {font-family: monospace;font-weight: bold;display: inline-block;line-height: 1.2em;}#sk-container-id-4 div.sk-label-container {text-align: center;}#sk-container-id-4 div.sk-container {/* jupyter's `normalize.less` sets `[hidden] { display: none; }` but bootstrap.min.css set `[hidden] { display: none !important; }` so we also need the `!important` here to be able to override the default hidden behavior on the sphinx rendered scikit-learn.org. See: https://github.com/scikit-learn/scikit-learn/issues/21755 */display: inline-block !important;position: relative;}#sk-container-id-4 div.sk-text-repr-fallback {display: none;}</style><div id=\"sk-container-id-4\" class=\"sk-top-container\"><div class=\"sk-text-repr-fallback\"><pre>RandomForestRegressor(max_depth=32, max_features=0.6630733523871821, n_jobs=-1,\n",
       "                      random_state=42)</pre><b>In a Jupyter environment, please rerun this cell to show the HTML representation or trust the notebook. <br />On GitHub, the HTML representation is unable to render, please try loading this page with nbviewer.org.</b></div><div class=\"sk-container\" hidden><div class=\"sk-item\"><div class=\"sk-estimator sk-toggleable\"><input class=\"sk-toggleable__control sk-hidden--visually\" id=\"sk-estimator-id-6\" type=\"checkbox\" checked><label for=\"sk-estimator-id-6\" class=\"sk-toggleable__label sk-toggleable__label-arrow\">RandomForestRegressor</label><div class=\"sk-toggleable__content\"><pre>RandomForestRegressor(max_depth=32, max_features=0.6630733523871821, n_jobs=-1,\n",
       "                      random_state=42)</pre></div></div></div></div></div>"
      ],
      "text/plain": [
       "RandomForestRegressor(max_depth=32, max_features=0.6630733523871821, n_jobs=-1,\n",
       "                      random_state=42)"
      ]
     },
     "execution_count": 51,
     "metadata": {},
     "output_type": "execute_result"
    }
   ],
   "source": [
    "reg.best_estimator_"
   ]
  },
  {
   "cell_type": "code",
   "execution_count": 52,
   "id": "60be9913",
   "metadata": {},
   "outputs": [
    {
     "data": {
      "text/plain": [
       "0.28493866501649784"
      ]
     },
     "execution_count": 52,
     "metadata": {},
     "output_type": "execute_result"
    }
   ],
   "source": [
    "rmsle = abs(reg.best_score_)\n",
    "rmsle"
   ]
  },
  {
   "cell_type": "code",
   "execution_count": 53,
   "id": "d7ea4c4e",
   "metadata": {},
   "outputs": [
    {
     "data": {
      "text/html": [
       "<div>\n",
       "<style scoped>\n",
       "    .dataframe tbody tr th:only-of-type {\n",
       "        vertical-align: middle;\n",
       "    }\n",
       "\n",
       "    .dataframe tbody tr th {\n",
       "        vertical-align: top;\n",
       "    }\n",
       "\n",
       "    .dataframe thead th {\n",
       "        text-align: right;\n",
       "    }\n",
       "</style>\n",
       "<table border=\"1\" class=\"dataframe\">\n",
       "  <thead>\n",
       "    <tr style=\"text-align: right;\">\n",
       "      <th></th>\n",
       "      <th>mean_fit_time</th>\n",
       "      <th>std_fit_time</th>\n",
       "      <th>mean_score_time</th>\n",
       "      <th>std_score_time</th>\n",
       "      <th>param_max_features</th>\n",
       "      <th>param_max_depth</th>\n",
       "      <th>params</th>\n",
       "      <th>split0_test_score</th>\n",
       "      <th>split1_test_score</th>\n",
       "      <th>split2_test_score</th>\n",
       "      <th>split3_test_score</th>\n",
       "      <th>split4_test_score</th>\n",
       "      <th>split5_test_score</th>\n",
       "      <th>split6_test_score</th>\n",
       "      <th>split7_test_score</th>\n",
       "      <th>split8_test_score</th>\n",
       "      <th>split9_test_score</th>\n",
       "      <th>mean_test_score</th>\n",
       "      <th>std_test_score</th>\n",
       "      <th>rank_test_score</th>\n",
       "    </tr>\n",
       "  </thead>\n",
       "  <tbody>\n",
       "    <tr>\n",
       "      <th>16</th>\n",
       "      <td>1.354552</td>\n",
       "      <td>0.130563</td>\n",
       "      <td>0.056857</td>\n",
       "      <td>0.020910</td>\n",
       "      <td>0.663073</td>\n",
       "      <td>32</td>\n",
       "      <td>{'max_features': 0.6630733523871821, 'max_dept...</td>\n",
       "      <td>-0.706998</td>\n",
       "      <td>-0.253056</td>\n",
       "      <td>-0.182684</td>\n",
       "      <td>-0.370316</td>\n",
       "      <td>-0.114772</td>\n",
       "      <td>-0.093055</td>\n",
       "      <td>-0.134744</td>\n",
       "      <td>-0.125850</td>\n",
       "      <td>-0.285309</td>\n",
       "      <td>-0.582603</td>\n",
       "      <td>-0.284939</td>\n",
       "      <td>0.199786</td>\n",
       "      <td>1</td>\n",
       "    </tr>\n",
       "    <tr>\n",
       "      <th>14</th>\n",
       "      <td>1.496147</td>\n",
       "      <td>0.100440</td>\n",
       "      <td>0.041141</td>\n",
       "      <td>0.009874</td>\n",
       "      <td>0.776403</td>\n",
       "      <td>35</td>\n",
       "      <td>{'max_features': 0.7764030582351186, 'max_dept...</td>\n",
       "      <td>-0.706089</td>\n",
       "      <td>-0.249130</td>\n",
       "      <td>-0.198706</td>\n",
       "      <td>-0.377339</td>\n",
       "      <td>-0.115764</td>\n",
       "      <td>-0.093729</td>\n",
       "      <td>-0.134717</td>\n",
       "      <td>-0.132257</td>\n",
       "      <td>-0.290286</td>\n",
       "      <td>-0.572388</td>\n",
       "      <td>-0.287040</td>\n",
       "      <td>0.197052</td>\n",
       "      <td>2</td>\n",
       "    </tr>\n",
       "    <tr>\n",
       "      <th>8</th>\n",
       "      <td>1.416587</td>\n",
       "      <td>0.107196</td>\n",
       "      <td>0.034473</td>\n",
       "      <td>0.008340</td>\n",
       "      <td>0.669697</td>\n",
       "      <td>59</td>\n",
       "      <td>{'max_features': 0.6696969965894549, 'max_dept...</td>\n",
       "      <td>-0.707153</td>\n",
       "      <td>-0.255573</td>\n",
       "      <td>-0.189118</td>\n",
       "      <td>-0.372722</td>\n",
       "      <td>-0.116294</td>\n",
       "      <td>-0.095698</td>\n",
       "      <td>-0.141284</td>\n",
       "      <td>-0.131900</td>\n",
       "      <td>-0.291728</td>\n",
       "      <td>-0.579361</td>\n",
       "      <td>-0.288083</td>\n",
       "      <td>0.197726</td>\n",
       "      <td>3</td>\n",
       "    </tr>\n",
       "    <tr>\n",
       "      <th>4</th>\n",
       "      <td>1.237428</td>\n",
       "      <td>0.130271</td>\n",
       "      <td>0.045960</td>\n",
       "      <td>0.012775</td>\n",
       "      <td>0.55387</td>\n",
       "      <td>89</td>\n",
       "      <td>{'max_features': 0.5538702579341308, 'max_dept...</td>\n",
       "      <td>-0.734987</td>\n",
       "      <td>-0.265751</td>\n",
       "      <td>-0.178089</td>\n",
       "      <td>-0.371644</td>\n",
       "      <td>-0.113537</td>\n",
       "      <td>-0.099699</td>\n",
       "      <td>-0.134944</td>\n",
       "      <td>-0.119163</td>\n",
       "      <td>-0.287555</td>\n",
       "      <td>-0.583796</td>\n",
       "      <td>-0.288917</td>\n",
       "      <td>0.206078</td>\n",
       "      <td>4</td>\n",
       "    </tr>\n",
       "    <tr>\n",
       "      <th>15</th>\n",
       "      <td>1.100312</td>\n",
       "      <td>0.091236</td>\n",
       "      <td>0.048692</td>\n",
       "      <td>0.022992</td>\n",
       "      <td>0.482199</td>\n",
       "      <td>59</td>\n",
       "      <td>{'max_features': 0.48219877238316566, 'max_dep...</td>\n",
       "      <td>-0.740718</td>\n",
       "      <td>-0.267093</td>\n",
       "      <td>-0.169705</td>\n",
       "      <td>-0.372651</td>\n",
       "      <td>-0.113478</td>\n",
       "      <td>-0.094378</td>\n",
       "      <td>-0.133349</td>\n",
       "      <td>-0.120839</td>\n",
       "      <td>-0.285710</td>\n",
       "      <td>-0.601206</td>\n",
       "      <td>-0.289913</td>\n",
       "      <td>0.210814</td>\n",
       "      <td>5</td>\n",
       "    </tr>\n",
       "    <tr>\n",
       "      <th>20</th>\n",
       "      <td>1.038416</td>\n",
       "      <td>0.203929</td>\n",
       "      <td>0.032188</td>\n",
       "      <td>0.010027</td>\n",
       "      <td>0.516143</td>\n",
       "      <td>89</td>\n",
       "      <td>{'max_features': 0.5161432704290524, 'max_dept...</td>\n",
       "      <td>-0.740718</td>\n",
       "      <td>-0.267093</td>\n",
       "      <td>-0.169705</td>\n",
       "      <td>-0.372651</td>\n",
       "      <td>-0.113478</td>\n",
       "      <td>-0.094378</td>\n",
       "      <td>-0.133349</td>\n",
       "      <td>-0.120839</td>\n",
       "      <td>-0.285710</td>\n",
       "      <td>-0.601206</td>\n",
       "      <td>-0.289913</td>\n",
       "      <td>0.210814</td>\n",
       "      <td>6</td>\n",
       "    </tr>\n",
       "    <tr>\n",
       "      <th>10</th>\n",
       "      <td>1.010504</td>\n",
       "      <td>0.062829</td>\n",
       "      <td>0.040984</td>\n",
       "      <td>0.014378</td>\n",
       "      <td>0.776403</td>\n",
       "      <td>11</td>\n",
       "      <td>{'max_features': 0.7764030582351186, 'max_dept...</td>\n",
       "      <td>-0.722379</td>\n",
       "      <td>-0.267351</td>\n",
       "      <td>-0.202084</td>\n",
       "      <td>-0.412804</td>\n",
       "      <td>-0.130644</td>\n",
       "      <td>-0.103417</td>\n",
       "      <td>-0.146351</td>\n",
       "      <td>-0.131449</td>\n",
       "      <td>-0.296478</td>\n",
       "      <td>-0.584334</td>\n",
       "      <td>-0.299729</td>\n",
       "      <td>0.200495</td>\n",
       "      <td>7</td>\n",
       "    </tr>\n",
       "    <tr>\n",
       "      <th>19</th>\n",
       "      <td>0.899935</td>\n",
       "      <td>0.081667</td>\n",
       "      <td>0.047906</td>\n",
       "      <td>0.018697</td>\n",
       "      <td>0.55387</td>\n",
       "      <td>11</td>\n",
       "      <td>{'max_features': 0.5538702579341308, 'max_dept...</td>\n",
       "      <td>-0.727276</td>\n",
       "      <td>-0.284952</td>\n",
       "      <td>-0.182120</td>\n",
       "      <td>-0.421044</td>\n",
       "      <td>-0.130908</td>\n",
       "      <td>-0.108800</td>\n",
       "      <td>-0.150100</td>\n",
       "      <td>-0.122067</td>\n",
       "      <td>-0.299171</td>\n",
       "      <td>-0.603541</td>\n",
       "      <td>-0.302998</td>\n",
       "      <td>0.205588</td>\n",
       "      <td>8</td>\n",
       "    </tr>\n",
       "    <tr>\n",
       "      <th>6</th>\n",
       "      <td>0.834251</td>\n",
       "      <td>0.094296</td>\n",
       "      <td>0.035851</td>\n",
       "      <td>0.013915</td>\n",
       "      <td>0.579869</td>\n",
       "      <td>11</td>\n",
       "      <td>{'max_features': 0.5798691459828077, 'max_dept...</td>\n",
       "      <td>-0.727276</td>\n",
       "      <td>-0.284952</td>\n",
       "      <td>-0.182120</td>\n",
       "      <td>-0.421044</td>\n",
       "      <td>-0.130908</td>\n",
       "      <td>-0.108800</td>\n",
       "      <td>-0.150100</td>\n",
       "      <td>-0.122067</td>\n",
       "      <td>-0.299171</td>\n",
       "      <td>-0.603541</td>\n",
       "      <td>-0.302998</td>\n",
       "      <td>0.205588</td>\n",
       "      <td>9</td>\n",
       "    </tr>\n",
       "    <tr>\n",
       "      <th>9</th>\n",
       "      <td>0.970542</td>\n",
       "      <td>0.068980</td>\n",
       "      <td>0.051508</td>\n",
       "      <td>0.016979</td>\n",
       "      <td>0.390979</td>\n",
       "      <td>32</td>\n",
       "      <td>{'max_features': 0.39097865902982276, 'max_dep...</td>\n",
       "      <td>-0.776144</td>\n",
       "      <td>-0.289773</td>\n",
       "      <td>-0.168191</td>\n",
       "      <td>-0.376648</td>\n",
       "      <td>-0.117810</td>\n",
       "      <td>-0.107422</td>\n",
       "      <td>-0.143121</td>\n",
       "      <td>-0.118196</td>\n",
       "      <td>-0.285993</td>\n",
       "      <td>-0.647918</td>\n",
       "      <td>-0.303122</td>\n",
       "      <td>0.223418</td>\n",
       "      <td>10</td>\n",
       "    </tr>\n",
       "    <tr>\n",
       "      <th>12</th>\n",
       "      <td>0.922101</td>\n",
       "      <td>0.106540</td>\n",
       "      <td>0.036327</td>\n",
       "      <td>0.008174</td>\n",
       "      <td>0.390979</td>\n",
       "      <td>59</td>\n",
       "      <td>{'max_features': 0.39097865902982276, 'max_dep...</td>\n",
       "      <td>-0.776144</td>\n",
       "      <td>-0.289773</td>\n",
       "      <td>-0.168191</td>\n",
       "      <td>-0.376648</td>\n",
       "      <td>-0.117810</td>\n",
       "      <td>-0.107422</td>\n",
       "      <td>-0.143121</td>\n",
       "      <td>-0.118196</td>\n",
       "      <td>-0.285993</td>\n",
       "      <td>-0.647918</td>\n",
       "      <td>-0.303122</td>\n",
       "      <td>0.223418</td>\n",
       "      <td>10</td>\n",
       "    </tr>\n",
       "    <tr>\n",
       "      <th>3</th>\n",
       "      <td>1.037848</td>\n",
       "      <td>0.110343</td>\n",
       "      <td>0.053897</td>\n",
       "      <td>0.021818</td>\n",
       "      <td>0.386594</td>\n",
       "      <td>81</td>\n",
       "      <td>{'max_features': 0.38659423341146926, 'max_dep...</td>\n",
       "      <td>-0.776144</td>\n",
       "      <td>-0.289773</td>\n",
       "      <td>-0.168191</td>\n",
       "      <td>-0.376648</td>\n",
       "      <td>-0.117810</td>\n",
       "      <td>-0.107422</td>\n",
       "      <td>-0.143121</td>\n",
       "      <td>-0.118196</td>\n",
       "      <td>-0.285993</td>\n",
       "      <td>-0.647918</td>\n",
       "      <td>-0.303122</td>\n",
       "      <td>0.223418</td>\n",
       "      <td>10</td>\n",
       "    </tr>\n",
       "    <tr>\n",
       "      <th>7</th>\n",
       "      <td>0.919176</td>\n",
       "      <td>0.074889</td>\n",
       "      <td>0.040755</td>\n",
       "      <td>0.018481</td>\n",
       "      <td>0.275354</td>\n",
       "      <td>59</td>\n",
       "      <td>{'max_features': 0.2753536654297438, 'max_dept...</td>\n",
       "      <td>-0.816411</td>\n",
       "      <td>-0.302976</td>\n",
       "      <td>-0.170638</td>\n",
       "      <td>-0.388531</td>\n",
       "      <td>-0.130457</td>\n",
       "      <td>-0.112894</td>\n",
       "      <td>-0.146290</td>\n",
       "      <td>-0.124002</td>\n",
       "      <td>-0.283841</td>\n",
       "      <td>-0.693971</td>\n",
       "      <td>-0.317001</td>\n",
       "      <td>0.237108</td>\n",
       "      <td>13</td>\n",
       "    </tr>\n",
       "    <tr>\n",
       "      <th>17</th>\n",
       "      <td>0.935595</td>\n",
       "      <td>0.117980</td>\n",
       "      <td>0.044521</td>\n",
       "      <td>0.014548</td>\n",
       "      <td>0.280429</td>\n",
       "      <td>81</td>\n",
       "      <td>{'max_features': 0.28042904325228535, 'max_dep...</td>\n",
       "      <td>-0.816411</td>\n",
       "      <td>-0.302976</td>\n",
       "      <td>-0.170638</td>\n",
       "      <td>-0.388531</td>\n",
       "      <td>-0.130457</td>\n",
       "      <td>-0.112894</td>\n",
       "      <td>-0.146290</td>\n",
       "      <td>-0.124002</td>\n",
       "      <td>-0.283841</td>\n",
       "      <td>-0.693971</td>\n",
       "      <td>-0.317001</td>\n",
       "      <td>0.237108</td>\n",
       "      <td>14</td>\n",
       "    </tr>\n",
       "    <tr>\n",
       "      <th>2</th>\n",
       "      <td>1.099120</td>\n",
       "      <td>0.113967</td>\n",
       "      <td>0.042301</td>\n",
       "      <td>0.021271</td>\n",
       "      <td>0.275354</td>\n",
       "      <td>17</td>\n",
       "      <td>{'max_features': 0.2753536654297438, 'max_dept...</td>\n",
       "      <td>-0.816596</td>\n",
       "      <td>-0.307942</td>\n",
       "      <td>-0.177743</td>\n",
       "      <td>-0.392821</td>\n",
       "      <td>-0.129290</td>\n",
       "      <td>-0.119295</td>\n",
       "      <td>-0.147501</td>\n",
       "      <td>-0.122143</td>\n",
       "      <td>-0.289146</td>\n",
       "      <td>-0.694486</td>\n",
       "      <td>-0.319696</td>\n",
       "      <td>0.236440</td>\n",
       "      <td>15</td>\n",
       "    </tr>\n",
       "    <tr>\n",
       "      <th>13</th>\n",
       "      <td>0.665886</td>\n",
       "      <td>0.095305</td>\n",
       "      <td>0.052153</td>\n",
       "      <td>0.021250</td>\n",
       "      <td>0.386594</td>\n",
       "      <td>11</td>\n",
       "      <td>{'max_features': 0.38659423341146926, 'max_dep...</td>\n",
       "      <td>-0.795797</td>\n",
       "      <td>-0.325133</td>\n",
       "      <td>-0.180972</td>\n",
       "      <td>-0.455010</td>\n",
       "      <td>-0.150925</td>\n",
       "      <td>-0.124033</td>\n",
       "      <td>-0.149735</td>\n",
       "      <td>-0.130634</td>\n",
       "      <td>-0.310640</td>\n",
       "      <td>-0.719110</td>\n",
       "      <td>-0.334199</td>\n",
       "      <td>0.235195</td>\n",
       "      <td>16</td>\n",
       "    </tr>\n",
       "    <tr>\n",
       "      <th>11</th>\n",
       "      <td>0.816786</td>\n",
       "      <td>0.113832</td>\n",
       "      <td>0.050271</td>\n",
       "      <td>0.014044</td>\n",
       "      <td>0.136387</td>\n",
       "      <td>35</td>\n",
       "      <td>{'max_features': 0.13638714166247592, 'max_dep...</td>\n",
       "      <td>-0.925735</td>\n",
       "      <td>-0.376741</td>\n",
       "      <td>-0.208141</td>\n",
       "      <td>-0.385901</td>\n",
       "      <td>-0.168207</td>\n",
       "      <td>-0.167665</td>\n",
       "      <td>-0.184453</td>\n",
       "      <td>-0.186834</td>\n",
       "      <td>-0.279496</td>\n",
       "      <td>-0.799945</td>\n",
       "      <td>-0.368312</td>\n",
       "      <td>0.260383</td>\n",
       "      <td>17</td>\n",
       "    </tr>\n",
       "    <tr>\n",
       "      <th>1</th>\n",
       "      <td>0.837347</td>\n",
       "      <td>0.134322</td>\n",
       "      <td>0.059409</td>\n",
       "      <td>0.015007</td>\n",
       "      <td>0.178027</td>\n",
       "      <td>56</td>\n",
       "      <td>{'max_features': 0.1780267270680957, 'max_dept...</td>\n",
       "      <td>-0.925735</td>\n",
       "      <td>-0.376741</td>\n",
       "      <td>-0.208141</td>\n",
       "      <td>-0.385901</td>\n",
       "      <td>-0.168207</td>\n",
       "      <td>-0.167665</td>\n",
       "      <td>-0.184453</td>\n",
       "      <td>-0.186834</td>\n",
       "      <td>-0.279496</td>\n",
       "      <td>-0.799945</td>\n",
       "      <td>-0.368312</td>\n",
       "      <td>0.260383</td>\n",
       "      <td>17</td>\n",
       "    </tr>\n",
       "    <tr>\n",
       "      <th>18</th>\n",
       "      <td>0.772134</td>\n",
       "      <td>0.092782</td>\n",
       "      <td>0.057141</td>\n",
       "      <td>0.016443</td>\n",
       "      <td>0.136387</td>\n",
       "      <td>97</td>\n",
       "      <td>{'max_features': 0.13638714166247592, 'max_dep...</td>\n",
       "      <td>-0.925735</td>\n",
       "      <td>-0.376741</td>\n",
       "      <td>-0.208141</td>\n",
       "      <td>-0.385901</td>\n",
       "      <td>-0.168207</td>\n",
       "      <td>-0.167665</td>\n",
       "      <td>-0.184453</td>\n",
       "      <td>-0.186834</td>\n",
       "      <td>-0.279496</td>\n",
       "      <td>-0.799945</td>\n",
       "      <td>-0.368312</td>\n",
       "      <td>0.260383</td>\n",
       "      <td>17</td>\n",
       "    </tr>\n",
       "    <tr>\n",
       "      <th>0</th>\n",
       "      <td>0.742933</td>\n",
       "      <td>0.139474</td>\n",
       "      <td>0.045761</td>\n",
       "      <td>0.018562</td>\n",
       "      <td>0.178027</td>\n",
       "      <td>97</td>\n",
       "      <td>{'max_features': 0.1780267270680957, 'max_dept...</td>\n",
       "      <td>-0.925735</td>\n",
       "      <td>-0.376741</td>\n",
       "      <td>-0.208141</td>\n",
       "      <td>-0.385901</td>\n",
       "      <td>-0.168207</td>\n",
       "      <td>-0.167665</td>\n",
       "      <td>-0.184453</td>\n",
       "      <td>-0.186834</td>\n",
       "      <td>-0.279496</td>\n",
       "      <td>-0.799945</td>\n",
       "      <td>-0.368312</td>\n",
       "      <td>0.260383</td>\n",
       "      <td>17</td>\n",
       "    </tr>\n",
       "    <tr>\n",
       "      <th>5</th>\n",
       "      <td>0.655178</td>\n",
       "      <td>0.080951</td>\n",
       "      <td>0.051716</td>\n",
       "      <td>0.032120</td>\n",
       "      <td>0.178027</td>\n",
       "      <td>17</td>\n",
       "      <td>{'max_features': 0.1780267270680957, 'max_dept...</td>\n",
       "      <td>-0.919069</td>\n",
       "      <td>-0.395539</td>\n",
       "      <td>-0.214192</td>\n",
       "      <td>-0.412751</td>\n",
       "      <td>-0.182356</td>\n",
       "      <td>-0.169478</td>\n",
       "      <td>-0.188236</td>\n",
       "      <td>-0.180755</td>\n",
       "      <td>-0.279456</td>\n",
       "      <td>-0.820136</td>\n",
       "      <td>-0.376197</td>\n",
       "      <td>0.261331</td>\n",
       "      <td>21</td>\n",
       "    </tr>\n",
       "  </tbody>\n",
       "</table>\n",
       "</div>"
      ],
      "text/plain": [
       "    mean_fit_time  std_fit_time  mean_score_time  std_score_time  \\\n",
       "16       1.354552      0.130563         0.056857        0.020910   \n",
       "14       1.496147      0.100440         0.041141        0.009874   \n",
       "8        1.416587      0.107196         0.034473        0.008340   \n",
       "4        1.237428      0.130271         0.045960        0.012775   \n",
       "15       1.100312      0.091236         0.048692        0.022992   \n",
       "20       1.038416      0.203929         0.032188        0.010027   \n",
       "10       1.010504      0.062829         0.040984        0.014378   \n",
       "19       0.899935      0.081667         0.047906        0.018697   \n",
       "6        0.834251      0.094296         0.035851        0.013915   \n",
       "9        0.970542      0.068980         0.051508        0.016979   \n",
       "12       0.922101      0.106540         0.036327        0.008174   \n",
       "3        1.037848      0.110343         0.053897        0.021818   \n",
       "7        0.919176      0.074889         0.040755        0.018481   \n",
       "17       0.935595      0.117980         0.044521        0.014548   \n",
       "2        1.099120      0.113967         0.042301        0.021271   \n",
       "13       0.665886      0.095305         0.052153        0.021250   \n",
       "11       0.816786      0.113832         0.050271        0.014044   \n",
       "1        0.837347      0.134322         0.059409        0.015007   \n",
       "18       0.772134      0.092782         0.057141        0.016443   \n",
       "0        0.742933      0.139474         0.045761        0.018562   \n",
       "5        0.655178      0.080951         0.051716        0.032120   \n",
       "\n",
       "   param_max_features param_max_depth  \\\n",
       "16           0.663073              32   \n",
       "14           0.776403              35   \n",
       "8            0.669697              59   \n",
       "4             0.55387              89   \n",
       "15           0.482199              59   \n",
       "20           0.516143              89   \n",
       "10           0.776403              11   \n",
       "19            0.55387              11   \n",
       "6            0.579869              11   \n",
       "9            0.390979              32   \n",
       "12           0.390979              59   \n",
       "3            0.386594              81   \n",
       "7            0.275354              59   \n",
       "17           0.280429              81   \n",
       "2            0.275354              17   \n",
       "13           0.386594              11   \n",
       "11           0.136387              35   \n",
       "1            0.178027              56   \n",
       "18           0.136387              97   \n",
       "0            0.178027              97   \n",
       "5            0.178027              17   \n",
       "\n",
       "                                               params  split0_test_score  \\\n",
       "16  {'max_features': 0.6630733523871821, 'max_dept...          -0.706998   \n",
       "14  {'max_features': 0.7764030582351186, 'max_dept...          -0.706089   \n",
       "8   {'max_features': 0.6696969965894549, 'max_dept...          -0.707153   \n",
       "4   {'max_features': 0.5538702579341308, 'max_dept...          -0.734987   \n",
       "15  {'max_features': 0.48219877238316566, 'max_dep...          -0.740718   \n",
       "20  {'max_features': 0.5161432704290524, 'max_dept...          -0.740718   \n",
       "10  {'max_features': 0.7764030582351186, 'max_dept...          -0.722379   \n",
       "19  {'max_features': 0.5538702579341308, 'max_dept...          -0.727276   \n",
       "6   {'max_features': 0.5798691459828077, 'max_dept...          -0.727276   \n",
       "9   {'max_features': 0.39097865902982276, 'max_dep...          -0.776144   \n",
       "12  {'max_features': 0.39097865902982276, 'max_dep...          -0.776144   \n",
       "3   {'max_features': 0.38659423341146926, 'max_dep...          -0.776144   \n",
       "7   {'max_features': 0.2753536654297438, 'max_dept...          -0.816411   \n",
       "17  {'max_features': 0.28042904325228535, 'max_dep...          -0.816411   \n",
       "2   {'max_features': 0.2753536654297438, 'max_dept...          -0.816596   \n",
       "13  {'max_features': 0.38659423341146926, 'max_dep...          -0.795797   \n",
       "11  {'max_features': 0.13638714166247592, 'max_dep...          -0.925735   \n",
       "1   {'max_features': 0.1780267270680957, 'max_dept...          -0.925735   \n",
       "18  {'max_features': 0.13638714166247592, 'max_dep...          -0.925735   \n",
       "0   {'max_features': 0.1780267270680957, 'max_dept...          -0.925735   \n",
       "5   {'max_features': 0.1780267270680957, 'max_dept...          -0.919069   \n",
       "\n",
       "    split1_test_score  split2_test_score  split3_test_score  \\\n",
       "16          -0.253056          -0.182684          -0.370316   \n",
       "14          -0.249130          -0.198706          -0.377339   \n",
       "8           -0.255573          -0.189118          -0.372722   \n",
       "4           -0.265751          -0.178089          -0.371644   \n",
       "15          -0.267093          -0.169705          -0.372651   \n",
       "20          -0.267093          -0.169705          -0.372651   \n",
       "10          -0.267351          -0.202084          -0.412804   \n",
       "19          -0.284952          -0.182120          -0.421044   \n",
       "6           -0.284952          -0.182120          -0.421044   \n",
       "9           -0.289773          -0.168191          -0.376648   \n",
       "12          -0.289773          -0.168191          -0.376648   \n",
       "3           -0.289773          -0.168191          -0.376648   \n",
       "7           -0.302976          -0.170638          -0.388531   \n",
       "17          -0.302976          -0.170638          -0.388531   \n",
       "2           -0.307942          -0.177743          -0.392821   \n",
       "13          -0.325133          -0.180972          -0.455010   \n",
       "11          -0.376741          -0.208141          -0.385901   \n",
       "1           -0.376741          -0.208141          -0.385901   \n",
       "18          -0.376741          -0.208141          -0.385901   \n",
       "0           -0.376741          -0.208141          -0.385901   \n",
       "5           -0.395539          -0.214192          -0.412751   \n",
       "\n",
       "    split4_test_score  split5_test_score  split6_test_score  \\\n",
       "16          -0.114772          -0.093055          -0.134744   \n",
       "14          -0.115764          -0.093729          -0.134717   \n",
       "8           -0.116294          -0.095698          -0.141284   \n",
       "4           -0.113537          -0.099699          -0.134944   \n",
       "15          -0.113478          -0.094378          -0.133349   \n",
       "20          -0.113478          -0.094378          -0.133349   \n",
       "10          -0.130644          -0.103417          -0.146351   \n",
       "19          -0.130908          -0.108800          -0.150100   \n",
       "6           -0.130908          -0.108800          -0.150100   \n",
       "9           -0.117810          -0.107422          -0.143121   \n",
       "12          -0.117810          -0.107422          -0.143121   \n",
       "3           -0.117810          -0.107422          -0.143121   \n",
       "7           -0.130457          -0.112894          -0.146290   \n",
       "17          -0.130457          -0.112894          -0.146290   \n",
       "2           -0.129290          -0.119295          -0.147501   \n",
       "13          -0.150925          -0.124033          -0.149735   \n",
       "11          -0.168207          -0.167665          -0.184453   \n",
       "1           -0.168207          -0.167665          -0.184453   \n",
       "18          -0.168207          -0.167665          -0.184453   \n",
       "0           -0.168207          -0.167665          -0.184453   \n",
       "5           -0.182356          -0.169478          -0.188236   \n",
       "\n",
       "    split7_test_score  split8_test_score  split9_test_score  mean_test_score  \\\n",
       "16          -0.125850          -0.285309          -0.582603        -0.284939   \n",
       "14          -0.132257          -0.290286          -0.572388        -0.287040   \n",
       "8           -0.131900          -0.291728          -0.579361        -0.288083   \n",
       "4           -0.119163          -0.287555          -0.583796        -0.288917   \n",
       "15          -0.120839          -0.285710          -0.601206        -0.289913   \n",
       "20          -0.120839          -0.285710          -0.601206        -0.289913   \n",
       "10          -0.131449          -0.296478          -0.584334        -0.299729   \n",
       "19          -0.122067          -0.299171          -0.603541        -0.302998   \n",
       "6           -0.122067          -0.299171          -0.603541        -0.302998   \n",
       "9           -0.118196          -0.285993          -0.647918        -0.303122   \n",
       "12          -0.118196          -0.285993          -0.647918        -0.303122   \n",
       "3           -0.118196          -0.285993          -0.647918        -0.303122   \n",
       "7           -0.124002          -0.283841          -0.693971        -0.317001   \n",
       "17          -0.124002          -0.283841          -0.693971        -0.317001   \n",
       "2           -0.122143          -0.289146          -0.694486        -0.319696   \n",
       "13          -0.130634          -0.310640          -0.719110        -0.334199   \n",
       "11          -0.186834          -0.279496          -0.799945        -0.368312   \n",
       "1           -0.186834          -0.279496          -0.799945        -0.368312   \n",
       "18          -0.186834          -0.279496          -0.799945        -0.368312   \n",
       "0           -0.186834          -0.279496          -0.799945        -0.368312   \n",
       "5           -0.180755          -0.279456          -0.820136        -0.376197   \n",
       "\n",
       "    std_test_score  rank_test_score  \n",
       "16        0.199786                1  \n",
       "14        0.197052                2  \n",
       "8         0.197726                3  \n",
       "4         0.206078                4  \n",
       "15        0.210814                5  \n",
       "20        0.210814                6  \n",
       "10        0.200495                7  \n",
       "19        0.205588                8  \n",
       "6         0.205588                9  \n",
       "9         0.223418               10  \n",
       "12        0.223418               10  \n",
       "3         0.223418               10  \n",
       "7         0.237108               13  \n",
       "17        0.237108               14  \n",
       "2         0.236440               15  \n",
       "13        0.235195               16  \n",
       "11        0.260383               17  \n",
       "1         0.260383               17  \n",
       "18        0.260383               17  \n",
       "0         0.260383               17  \n",
       "5         0.261331               21  "
      ]
     },
     "execution_count": 53,
     "metadata": {},
     "output_type": "execute_result"
    }
   ],
   "source": [
    "pd.DataFrame(reg.cv_results_).sort_values(\"rank_test_score\")"
   ]
  },
  {
   "cell_type": "code",
   "execution_count": 54,
   "id": "f4232297",
   "metadata": {},
   "outputs": [
    {
     "data": {
      "text/html": [
       "<style>#sk-container-id-5 {color: black;background-color: white;}#sk-container-id-5 pre{padding: 0;}#sk-container-id-5 div.sk-toggleable {background-color: white;}#sk-container-id-5 label.sk-toggleable__label {cursor: pointer;display: block;width: 100%;margin-bottom: 0;padding: 0.3em;box-sizing: border-box;text-align: center;}#sk-container-id-5 label.sk-toggleable__label-arrow:before {content: \"▸\";float: left;margin-right: 0.25em;color: #696969;}#sk-container-id-5 label.sk-toggleable__label-arrow:hover:before {color: black;}#sk-container-id-5 div.sk-estimator:hover label.sk-toggleable__label-arrow:before {color: black;}#sk-container-id-5 div.sk-toggleable__content {max-height: 0;max-width: 0;overflow: hidden;text-align: left;background-color: #f0f8ff;}#sk-container-id-5 div.sk-toggleable__content pre {margin: 0.2em;color: black;border-radius: 0.25em;background-color: #f0f8ff;}#sk-container-id-5 input.sk-toggleable__control:checked~div.sk-toggleable__content {max-height: 200px;max-width: 100%;overflow: auto;}#sk-container-id-5 input.sk-toggleable__control:checked~label.sk-toggleable__label-arrow:before {content: \"▾\";}#sk-container-id-5 div.sk-estimator input.sk-toggleable__control:checked~label.sk-toggleable__label {background-color: #d4ebff;}#sk-container-id-5 div.sk-label input.sk-toggleable__control:checked~label.sk-toggleable__label {background-color: #d4ebff;}#sk-container-id-5 input.sk-hidden--visually {border: 0;clip: rect(1px 1px 1px 1px);clip: rect(1px, 1px, 1px, 1px);height: 1px;margin: -1px;overflow: hidden;padding: 0;position: absolute;width: 1px;}#sk-container-id-5 div.sk-estimator {font-family: monospace;background-color: #f0f8ff;border: 1px dotted black;border-radius: 0.25em;box-sizing: border-box;margin-bottom: 0.5em;}#sk-container-id-5 div.sk-estimator:hover {background-color: #d4ebff;}#sk-container-id-5 div.sk-parallel-item::after {content: \"\";width: 100%;border-bottom: 1px solid gray;flex-grow: 1;}#sk-container-id-5 div.sk-label:hover label.sk-toggleable__label {background-color: #d4ebff;}#sk-container-id-5 div.sk-serial::before {content: \"\";position: absolute;border-left: 1px solid gray;box-sizing: border-box;top: 0;bottom: 0;left: 50%;z-index: 0;}#sk-container-id-5 div.sk-serial {display: flex;flex-direction: column;align-items: center;background-color: white;padding-right: 0.2em;padding-left: 0.2em;position: relative;}#sk-container-id-5 div.sk-item {position: relative;z-index: 1;}#sk-container-id-5 div.sk-parallel {display: flex;align-items: stretch;justify-content: center;background-color: white;position: relative;}#sk-container-id-5 div.sk-item::before, #sk-container-id-5 div.sk-parallel-item::before {content: \"\";position: absolute;border-left: 1px solid gray;box-sizing: border-box;top: 0;bottom: 0;left: 50%;z-index: -1;}#sk-container-id-5 div.sk-parallel-item {display: flex;flex-direction: column;z-index: 1;position: relative;background-color: white;}#sk-container-id-5 div.sk-parallel-item:first-child::after {align-self: flex-end;width: 50%;}#sk-container-id-5 div.sk-parallel-item:last-child::after {align-self: flex-start;width: 50%;}#sk-container-id-5 div.sk-parallel-item:only-child::after {width: 0;}#sk-container-id-5 div.sk-dashed-wrapped {border: 1px dashed gray;margin: 0 0.4em 0.5em 0.4em;box-sizing: border-box;padding-bottom: 0.4em;background-color: white;}#sk-container-id-5 div.sk-label label {font-family: monospace;font-weight: bold;display: inline-block;line-height: 1.2em;}#sk-container-id-5 div.sk-label-container {text-align: center;}#sk-container-id-5 div.sk-container {/* jupyter's `normalize.less` sets `[hidden] { display: none; }` but bootstrap.min.css set `[hidden] { display: none !important; }` so we also need the `!important` here to be able to override the default hidden behavior on the sphinx rendered scikit-learn.org. See: https://github.com/scikit-learn/scikit-learn/issues/21755 */display: inline-block !important;position: relative;}#sk-container-id-5 div.sk-text-repr-fallback {display: none;}</style><div id=\"sk-container-id-5\" class=\"sk-top-container\"><div class=\"sk-text-repr-fallback\"><pre>RandomForestRegressor(max_depth=32, max_features=0.6630733523871821, n_jobs=-1,\n",
       "                      random_state=42)</pre><b>In a Jupyter environment, please rerun this cell to show the HTML representation or trust the notebook. <br />On GitHub, the HTML representation is unable to render, please try loading this page with nbviewer.org.</b></div><div class=\"sk-container\" hidden><div class=\"sk-item\"><div class=\"sk-estimator sk-toggleable\"><input class=\"sk-toggleable__control sk-hidden--visually\" id=\"sk-estimator-id-7\" type=\"checkbox\" checked><label for=\"sk-estimator-id-7\" class=\"sk-toggleable__label sk-toggleable__label-arrow\">RandomForestRegressor</label><div class=\"sk-toggleable__content\"><pre>RandomForestRegressor(max_depth=32, max_features=0.6630733523871821, n_jobs=-1,\n",
       "                      random_state=42)</pre></div></div></div></div></div>"
      ],
      "text/plain": [
       "RandomForestRegressor(max_depth=32, max_features=0.6630733523871821, n_jobs=-1,\n",
       "                      random_state=42)"
      ]
     },
     "execution_count": 54,
     "metadata": {},
     "output_type": "execute_result"
    }
   ],
   "source": [
    "best_model = reg.best_estimator_\n",
    "best_model"
   ]
  },
  {
   "cell_type": "code",
   "execution_count": 55,
   "id": "90a8edd3",
   "metadata": {},
   "outputs": [
    {
     "name": "stderr",
     "output_type": "stream",
     "text": [
      "[Parallel(n_jobs=-1)]: Using backend LokyBackend with 8 concurrent workers.\n",
      "[Parallel(n_jobs=-1)]: Done   2 out of   5 | elapsed:    0.9s remaining:    1.3s\n",
      "[Parallel(n_jobs=-1)]: Done   5 out of   5 | elapsed:    0.9s finished\n"
     ]
    }
   ],
   "source": [
    "from sklearn.model_selection import cross_val_predict\n",
    "\n",
    "y_valid_predict = cross_val_predict(best_model, X_train, y_train , cv=5, n_jobs= -1 , verbose = 3)"
   ]
  },
  {
   "cell_type": "code",
   "execution_count": 56,
   "id": "3aa215d7",
   "metadata": {},
   "outputs": [
    {
     "data": {
      "text/plain": [
       "0.36676669589581046"
      ]
     },
     "execution_count": 56,
     "metadata": {},
     "output_type": "execute_result"
    }
   ],
   "source": [
    "from sklearn.metrics import mean_squared_error\n",
    "\n",
    "mean_squared_error(y_train, y_valid_predict)"
   ]
  },
  {
   "cell_type": "code",
   "execution_count": 57,
   "id": "d198b8e0",
   "metadata": {},
   "outputs": [
    {
     "data": {
      "text/plain": [
       "0.3667666958958103"
      ]
     },
     "execution_count": 57,
     "metadata": {},
     "output_type": "execute_result"
    }
   ],
   "source": [
    "((y_train - y_valid_predict)**2).mean()"
   ]
  },
  {
   "cell_type": "code",
   "execution_count": 58,
   "id": "ffcdef74",
   "metadata": {},
   "outputs": [
    {
     "data": {
      "text/plain": [
       "0.6056126616046023"
      ]
     },
     "execution_count": 58,
     "metadata": {},
     "output_type": "execute_result"
    }
   ],
   "source": [
    "mean_squared_error(y_train, y_valid_predict) ** 0.5"
   ]
  },
  {
   "cell_type": "code",
   "execution_count": 59,
   "id": "f83d5c85",
   "metadata": {},
   "outputs": [
    {
     "data": {
      "text/plain": [
       "0.6056126616046021"
      ]
     },
     "execution_count": 59,
     "metadata": {},
     "output_type": "execute_result"
    }
   ],
   "source": [
    "((y_train - y_valid_predict)**2).mean() **0.5"
   ]
  },
  {
   "cell_type": "code",
   "execution_count": 60,
   "id": "c816b4ae",
   "metadata": {
    "scrolled": true
   },
   "outputs": [
    {
     "name": "stderr",
     "output_type": "stream",
     "text": [
      "/Users/eun-yeong/opt/anaconda3/lib/python3.9/site-packages/pandas/core/arraylike.py:397: RuntimeWarning: invalid value encountered in sqrt\n",
      "  result = getattr(ufunc, method)(*inputs, **kwargs)\n"
     ]
    },
    {
     "data": {
      "text/plain": [
       "0.5678285003952048"
      ]
     },
     "execution_count": 60,
     "metadata": {},
     "output_type": "execute_result"
    }
   ],
   "source": [
    "np.sqrt((y_train - y_valid_predict)).mean()"
   ]
  },
  {
   "cell_type": "code",
   "execution_count": 61,
   "id": "75852f8c",
   "metadata": {},
   "outputs": [
    {
     "data": {
      "text/plain": [
       "array([17.89444537, 18.17031353, 18.00398137, 18.03891237, 17.88934011])"
      ]
     },
     "execution_count": 61,
     "metadata": {},
     "output_type": "execute_result"
    }
   ],
   "source": [
    "y_predict =best_model.fit(X_train, y_train).predict(X_test)\n",
    "y_predict[:5]"
   ]
  },
  {
   "cell_type": "code",
   "execution_count": 62,
   "id": "56e95b40",
   "metadata": {},
   "outputs": [
    {
     "data": {
      "text/plain": [
       "<AxesSubplot:>"
      ]
     },
     "execution_count": 62,
     "metadata": {},
     "output_type": "execute_result"
    },
    {
     "data": {
      "image/png": "[encoded data removed]",
      "text/plain": [
       "<Figure size 432x288 with 1 Axes>"
      ]
     },
     "metadata": {
      "needs_background": "light"
     },
     "output_type": "display_data"
    }
   ],
   "source": [
    "sns.barplot(x=best_model.feature_importances_, y=best_model.feature_names_in_)"
   ]
  },
  {
   "cell_type": "code",
   "execution_count": 63,
   "id": "18bc1ef1",
   "metadata": {},
   "outputs": [
    {
     "data": {
      "text/plain": [
       "(3828, 2)"
      ]
     },
     "execution_count": 63,
     "metadata": {},
     "output_type": "execute_result"
    }
   ],
   "source": [
    "df_submit = pd.read_csv(f\"{base_path}/submission.csv\")\n",
    "df_submit.shape"
   ]
  },
  {
   "cell_type": "code",
   "execution_count": 64,
   "id": "cba69242",
   "metadata": {},
   "outputs": [
    {
     "data": {
      "text/html": [
       "<div>\n",
       "<style scoped>\n",
       "    .dataframe tbody tr th:only-of-type {\n",
       "        vertical-align: middle;\n",
       "    }\n",
       "\n",
       "    .dataframe tbody tr th {\n",
       "        vertical-align: top;\n",
       "    }\n",
       "\n",
       "    .dataframe thead th {\n",
       "        text-align: right;\n",
       "    }\n",
       "</style>\n",
       "<table border=\"1\" class=\"dataframe\">\n",
       "  <thead>\n",
       "    <tr style=\"text-align: right;\">\n",
       "      <th></th>\n",
       "      <th>id</th>\n",
       "      <th>value</th>\n",
       "    </tr>\n",
       "  </thead>\n",
       "  <tbody>\n",
       "    <tr>\n",
       "      <th>0</th>\n",
       "      <td>1</td>\n",
       "      <td>0</td>\n",
       "    </tr>\n",
       "    <tr>\n",
       "      <th>1</th>\n",
       "      <td>2</td>\n",
       "      <td>0</td>\n",
       "    </tr>\n",
       "  </tbody>\n",
       "</table>\n",
       "</div>"
      ],
      "text/plain": [
       "   id  value\n",
       "0   1      0\n",
       "1   2      0"
      ]
     },
     "execution_count": 64,
     "metadata": {},
     "output_type": "execute_result"
    }
   ],
   "source": [
    "df_submit.head(2)"
   ]
  },
  {
   "cell_type": "code",
   "execution_count": 65,
   "id": "9ddaa0a7",
   "metadata": {},
   "outputs": [
    {
     "data": {
      "text/html": [
       "<div>\n",
       "<style scoped>\n",
       "    .dataframe tbody tr th:only-of-type {\n",
       "        vertical-align: middle;\n",
       "    }\n",
       "\n",
       "    .dataframe tbody tr th {\n",
       "        vertical-align: top;\n",
       "    }\n",
       "\n",
       "    .dataframe thead th {\n",
       "        text-align: right;\n",
       "    }\n",
       "</style>\n",
       "<table border=\"1\" class=\"dataframe\">\n",
       "  <thead>\n",
       "    <tr style=\"text-align: right;\">\n",
       "      <th></th>\n",
       "      <th>id</th>\n",
       "      <th>value</th>\n",
       "    </tr>\n",
       "  </thead>\n",
       "  <tbody>\n",
       "    <tr>\n",
       "      <th>0</th>\n",
       "      <td>1</td>\n",
       "      <td>5.908250e+07</td>\n",
       "    </tr>\n",
       "    <tr>\n",
       "      <th>1</th>\n",
       "      <td>2</td>\n",
       "      <td>7.785148e+07</td>\n",
       "    </tr>\n",
       "    <tr>\n",
       "      <th>2</th>\n",
       "      <td>4</td>\n",
       "      <td>6.592191e+07</td>\n",
       "    </tr>\n",
       "  </tbody>\n",
       "</table>\n",
       "</div>"
      ],
      "text/plain": [
       "   id         value\n",
       "0   1  5.908250e+07\n",
       "1   2  7.785148e+07\n",
       "2   4  6.592191e+07"
      ]
     },
     "execution_count": 65,
     "metadata": {},
     "output_type": "execute_result"
    }
   ],
   "source": [
    "df_submit[\"value\"] = np.expm1(y_predict)\n",
    "df_submit.head(3)"
   ]
  },
  {
   "cell_type": "code",
   "execution_count": 66,
   "id": "14a9d24d",
   "metadata": {},
   "outputs": [
    {
     "data": {
      "text/plain": [
       "'FIFA/submit_0.28494.csv'"
      ]
     },
     "execution_count": 66,
     "metadata": {},
     "output_type": "execute_result"
    }
   ],
   "source": [
    "file_name = f\"{base_path}/submit_{rmsle:.5f}.csv\"\n",
    "file_name"
   ]
  },
  {
   "cell_type": "code",
   "execution_count": 67,
   "id": "5e458e20",
   "metadata": {},
   "outputs": [],
   "source": [
    "df_submit.to_csv(file_name,index = False)"
   ]
  },
  {
   "cell_type": "code",
   "execution_count": 68,
   "id": "a1a9cc1d",
   "metadata": {},
   "outputs": [
    {
     "data": {
      "text/html": [
       "<div>\n",
       "<style scoped>\n",
       "    .dataframe tbody tr th:only-of-type {\n",
       "        vertical-align: middle;\n",
       "    }\n",
       "\n",
       "    .dataframe tbody tr th {\n",
       "        vertical-align: top;\n",
       "    }\n",
       "\n",
       "    .dataframe thead th {\n",
       "        text-align: right;\n",
       "    }\n",
       "</style>\n",
       "<table border=\"1\" class=\"dataframe\">\n",
       "  <thead>\n",
       "    <tr style=\"text-align: right;\">\n",
       "      <th></th>\n",
       "      <th>id</th>\n",
       "      <th>value</th>\n",
       "    </tr>\n",
       "  </thead>\n",
       "  <tbody>\n",
       "    <tr>\n",
       "      <th>0</th>\n",
       "      <td>1</td>\n",
       "      <td>5.908250e+07</td>\n",
       "    </tr>\n",
       "    <tr>\n",
       "      <th>1</th>\n",
       "      <td>2</td>\n",
       "      <td>7.785148e+07</td>\n",
       "    </tr>\n",
       "    <tr>\n",
       "      <th>2</th>\n",
       "      <td>4</td>\n",
       "      <td>6.592191e+07</td>\n",
       "    </tr>\n",
       "    <tr>\n",
       "      <th>3</th>\n",
       "      <td>5</td>\n",
       "      <td>6.826531e+07</td>\n",
       "    </tr>\n",
       "    <tr>\n",
       "      <th>4</th>\n",
       "      <td>6</td>\n",
       "      <td>5.878164e+07</td>\n",
       "    </tr>\n",
       "    <tr>\n",
       "      <th>...</th>\n",
       "      <td>...</td>\n",
       "      <td>...</td>\n",
       "    </tr>\n",
       "    <tr>\n",
       "      <th>3823</th>\n",
       "      <td>16924</td>\n",
       "      <td>6.020296e+04</td>\n",
       "    </tr>\n",
       "    <tr>\n",
       "      <th>3824</th>\n",
       "      <td>16929</td>\n",
       "      <td>4.932974e+04</td>\n",
       "    </tr>\n",
       "    <tr>\n",
       "      <th>3825</th>\n",
       "      <td>16932</td>\n",
       "      <td>5.898148e+04</td>\n",
       "    </tr>\n",
       "    <tr>\n",
       "      <th>3826</th>\n",
       "      <td>16937</td>\n",
       "      <td>4.911762e+04</td>\n",
       "    </tr>\n",
       "    <tr>\n",
       "      <th>3827</th>\n",
       "      <td>16943</td>\n",
       "      <td>5.204589e+04</td>\n",
       "    </tr>\n",
       "  </tbody>\n",
       "</table>\n",
       "<p>3828 rows × 2 columns</p>\n",
       "</div>"
      ],
      "text/plain": [
       "         id         value\n",
       "0         1  5.908250e+07\n",
       "1         2  7.785148e+07\n",
       "2         4  6.592191e+07\n",
       "3         5  6.826531e+07\n",
       "4         6  5.878164e+07\n",
       "...     ...           ...\n",
       "3823  16924  6.020296e+04\n",
       "3824  16929  4.932974e+04\n",
       "3825  16932  5.898148e+04\n",
       "3826  16937  4.911762e+04\n",
       "3827  16943  5.204589e+04\n",
       "\n",
       "[3828 rows x 2 columns]"
      ]
     },
     "execution_count": 68,
     "metadata": {},
     "output_type": "execute_result"
    },
    {
     "name": "stdout",
     "output_type": "stream",
     "text": [
      "[CV 8/10] END max_depth=97, max_features=0.1780267270680957;, score=-0.187 total time=   0.8s\n",
      "[CV 5/10] END max_depth=56, max_features=0.1780267270680957;, score=-0.168 total time=   0.8s\n",
      "[CV 4/10] END max_depth=17, max_features=0.2753536654297438;, score=-0.393 total time=   1.1s\n",
      "[CV 3/10] END max_depth=81, max_features=0.38659423341146926;, score=-0.168 total time=   0.9s\n",
      "[CV 8/10] END max_depth=81, max_features=0.38659423341146926;, score=-0.118 total time=   1.2s\n",
      "[CV 8/10] END max_depth=89, max_features=0.5538702579341308;, score=-0.119 total time=   1.5s\n",
      "[CV 7/10] END max_depth=17, max_features=0.1780267270680957;, score=-0.188 total time=   0.6s\n",
      "[CV 4/10] END max_depth=11, max_features=0.5798691459828077;, score=-0.421 total time=   0.8s\n",
      "[CV 2/10] END max_depth=59, max_features=0.2753536654297438;, score=-0.303 total time=   1.0s\n",
      "[CV 10/10] END max_depth=59, max_features=0.2753536654297438;, score=-0.694 total time=   0.9s\n",
      "[CV 8/10] END max_depth=59, max_features=0.6696969965894549;, score=-0.132 total time=   1.5s\n",
      "[CV 6/10] END max_depth=32, max_features=0.39097865902982276;, score=-0.107 total time=   1.0s\n",
      "[CV 3/10] END max_depth=11, max_features=0.7764030582351186;, score=-0.202 total time=   1.0s\n",
      "[CV 1/10] END max_depth=35, max_features=0.13638714166247592;, score=-0.926 total time=   0.9s\n",
      "[CV 9/10] END max_depth=35, max_features=0.13638714166247592;, score=-0.279 total time=   0.9s\n",
      "[CV 6/10] END max_depth=59, max_features=0.39097865902982276;, score=-0.107 total time=   0.9s\n",
      "[CV 5/10] END max_depth=11, max_features=0.38659423341146926;, score=-0.151 total time=   0.8s\n",
      "[CV 3/10] END max_depth=35, max_features=0.7764030582351186;, score=-0.199 total time=   1.6s\n",
      "[CV 3/10] END max_depth=59, max_features=0.48219877238316566;, score=-0.170 total time=   1.0s\n",
      "[CV 7/10] END max_depth=59, max_features=0.48219877238316566;, score=-0.133 total time=   1.0s\n",
      "[CV 5/10] END max_depth=32, max_features=0.6630733523871821;, score=-0.115 total time=   1.4s\n",
      "[CV 3/10] END max_depth=81, max_features=0.28042904325228535;, score=-0.171 total time=   0.8s\n",
      "[CV 1/10] END max_depth=97, max_features=0.13638714166247592;, score=-0.926 total time=   1.0s\n",
      "[CV 8/10] END max_depth=97, max_features=0.13638714166247592;, score=-0.187 total time=   0.8s\n",
      "[CV 7/10] END max_depth=11, max_features=0.5538702579341308;, score=-0.150 total time=   0.9s\n",
      "[CV 5/10] END max_depth=89, max_features=0.5161432704290524;, score=-0.113 total time=   1.3s\n",
      "[CV 1/10] END max_depth=97, max_features=0.1780267270680957;, score=-0.926 total time=   0.7s\n",
      "[CV 9/10] END max_depth=97, max_features=0.1780267270680957;, score=-0.279 total time=   0.7s\n",
      "[CV 7/10] END max_depth=56, max_features=0.1780267270680957;, score=-0.184 total time=   0.8s\n",
      "[CV 3/10] END max_depth=17, max_features=0.2753536654297438;, score=-0.178 total time=   1.1s\n",
      "[CV 2/10] END max_depth=81, max_features=0.38659423341146926;, score=-0.290 total time=   1.0s\n",
      "[CV 1/10] END max_depth=89, max_features=0.5538702579341308;, score=-0.735 total time=   1.3s\n",
      "[CV 9/10] END max_depth=89, max_features=0.5538702579341308;, score=-0.288 total time=   1.2s\n",
      "[CV 6/10] END max_depth=17, max_features=0.1780267270680957;, score=-0.169 total time=   0.7s\n",
      "[CV 5/10] END max_depth=11, max_features=0.5798691459828077;, score=-0.131 total time=   1.0s\n",
      "[CV 4/10] END max_depth=59, max_features=0.2753536654297438;, score=-0.389 total time=   1.0s\n",
      "[CV 2/10] END max_depth=59, max_features=0.6696969965894549;, score=-0.256 total time=   1.3s\n",
      "[CV 10/10] END max_depth=59, max_features=0.6696969965894549;, score=-0.579 total time=   1.5s\n",
      "[CV 1/10] END max_depth=11, max_features=0.7764030582351186;, score=-0.722 total time=   1.1s\n",
      "[CV 9/10] END max_depth=11, max_features=0.7764030582351186;, score=-0.296 total time=   1.1s\n",
      "[CV 10/10] END max_depth=35, max_features=0.13638714166247592;, score=-0.800 total time=   0.8s\n",
      "[CV 7/10] END max_depth=59, max_features=0.39097865902982276;, score=-0.143 total time=   0.7s\n",
      "[CV 4/10] END max_depth=11, max_features=0.38659423341146926;, score=-0.455 total time=   0.7s\n",
      "[CV 1/10] END max_depth=35, max_features=0.7764030582351186;, score=-0.706 total time=   1.4s\n",
      "[CV 9/10] END max_depth=35, max_features=0.7764030582351186;, score=-0.290 total time=   1.8s\n",
      "[CV 10/10] END max_depth=59, max_features=0.48219877238316566;, score=-0.601 total time=   1.1s\n",
      "[CV 7/10] END max_depth=32, max_features=0.6630733523871821;, score=-0.135 total time=   1.3s\n",
      "[CV 4/10] END max_depth=81, max_features=0.28042904325228535;, score=-0.389 total time=   0.8s\n",
      "[CV 2/10] END max_depth=97, max_features=0.13638714166247592;, score=-0.377 total time=   1.0s\n",
      "[CV 1/10] END max_depth=11, max_features=0.5538702579341308;, score=-0.727 total time=   1.0s\n",
      "[CV 9/10] END max_depth=11, max_features=0.5538702579341308;, score=-0.299 total time=   0.9s\n",
      "[CV 7/10] END max_depth=89, max_features=0.5161432704290524;, score=-0.133 total time=   1.1s\n",
      "[CV 5/10] END max_depth=97, max_features=0.1780267270680957;, score=-0.168 total time=   0.7s\n",
      "[CV 10/10] END max_depth=97, max_features=0.1780267270680957;, score=-0.800 total time=   0.6s\n",
      "[CV 8/10] END max_depth=56, max_features=0.1780267270680957;, score=-0.187 total time=   0.9s\n",
      "[CV 5/10] END max_depth=17, max_features=0.2753536654297438;, score=-0.129 total time=   0.9s\n",
      "[CV 1/10] END max_depth=81, max_features=0.38659423341146926;, score=-0.776 total time=   1.0s\n",
      "[CV 9/10] END max_depth=81, max_features=0.38659423341146926;, score=-0.286 total time=   1.1s\n",
      "[CV 7/10] END max_depth=89, max_features=0.5538702579341308;, score=-0.135 total time=   1.2s\n",
      "[CV 4/10] END max_depth=17, max_features=0.1780267270680957;, score=-0.413 total time=   0.8s\n",
      "[CV 3/10] END max_depth=11, max_features=0.5798691459828077;, score=-0.182 total time=   0.8s\n",
      "[CV 1/10] END max_depth=59, max_features=0.2753536654297438;, score=-0.816 total time=   1.0s\n",
      "[CV 9/10] END max_depth=59, max_features=0.2753536654297438;, score=-0.284 total time=   0.9s\n",
      "[CV 7/10] END max_depth=59, max_features=0.6696969965894549;, score=-0.141 total time=   1.5s\n",
      "[CV 4/10] END max_depth=32, max_features=0.39097865902982276;, score=-0.377 total time=   1.1s\n",
      "[CV 4/10] END max_depth=11, max_features=0.7764030582351186;, score=-0.413 total time=   1.1s\n",
      "[CV 2/10] END max_depth=35, max_features=0.13638714166247592;, score=-0.377 total time=   0.8s\n",
      "[CV 7/10] END max_depth=35, max_features=0.13638714166247592;, score=-0.184 total time=   1.1s\n",
      "[CV 8/10] END max_depth=59, max_features=0.39097865902982276;, score=-0.118 total time=   1.1s\n",
      "[CV 6/10] END max_depth=11, max_features=0.38659423341146926;, score=-0.124 total time=   0.7s\n",
      "[CV 5/10] END max_depth=35, max_features=0.7764030582351186;, score=-0.116 total time=   1.5s\n",
      "[CV 1/10] END max_depth=59, max_features=0.48219877238316566;, score=-0.741 total time=   1.3s\n",
      "[CV 2/10] END max_depth=32, max_features=0.6630733523871821;, score=-0.253 total time=   1.4s\n",
      "[CV 10/10] END max_depth=32, max_features=0.6630733523871821;, score=-0.583 total time=   1.3s\n",
      "[CV 8/10] END max_depth=81, max_features=0.28042904325228535;, score=-0.124 total time=   1.1s\n",
      "[CV 6/10] END max_depth=97, max_features=0.13638714166247592;, score=-0.168 total time=   0.8s\n",
      "[CV 4/10] END max_depth=11, max_features=0.5538702579341308;, score=-0.421 total time=   1.0s\n",
      "[CV 2/10] END max_depth=89, max_features=0.5161432704290524;, score=-0.267 total time=   1.1s\n",
      "[CV 10/10] END max_depth=89, max_features=0.5161432704290524;, score=-0.601 total time=   0.6s\n",
      "[CV 6/10] END max_depth=97, max_features=0.1780267270680957;, score=-0.168 total time=   0.7s\n",
      "[CV 4/10] END max_depth=56, max_features=0.1780267270680957;, score=-0.386 total time=   1.2s\n",
      "[CV 2/10] END max_depth=17, max_features=0.2753536654297438;, score=-0.308 total time=   1.2s\n",
      "[CV 10/10] END max_depth=17, max_features=0.2753536654297438;, score=-0.694 total time=   1.1s\n",
      "[CV 10/10] END max_depth=81, max_features=0.38659423341146926;, score=-0.648 total time=   1.0s\n",
      "[CV 6/10] END max_depth=89, max_features=0.5538702579341308;, score=-0.100 total time=   1.2s\n",
      "[CV 3/10] END max_depth=17, max_features=0.1780267270680957;, score=-0.214 total time=   0.7s\n",
      "[CV 10/10] END max_depth=17, max_features=0.1780267270680957;, score=-0.820 total time=   0.7s\n",
      "[CV 7/10] END max_depth=11, max_features=0.5798691459828077;, score=-0.150 total time=   0.8s\n",
      "[CV 5/10] END max_depth=59, max_features=0.2753536654297438;, score=-0.130 total time=   1.0s\n",
      "[CV 3/10] END max_depth=59, max_features=0.6696969965894549;, score=-0.189 total time=   1.4s\n",
      "[CV 1/10] END max_depth=32, max_features=0.39097865902982276;, score=-0.776 total time=   1.0s\n",
      "[CV 8/10] END max_depth=32, max_features=0.39097865902982276;, score=-0.118 total time=   1.1s\n",
      "[CV 7/10] END max_depth=11, max_features=0.7764030582351186;, score=-0.146 total time=   1.0s\n",
      "[CV 3/10] END max_depth=35, max_features=0.13638714166247592;, score=-0.208 total time=   1.0s\n",
      "[CV 2/10] END max_depth=59, max_features=0.39097865902982276;, score=-0.290 total time=   1.0s\n",
      "[CV 10/10] END max_depth=59, max_features=0.39097865902982276;, score=-0.648 total time=   0.9s\n",
      "[CV 10/10] END max_depth=11, max_features=0.38659423341146926;, score=-0.719 total time=   0.7s\n",
      "[CV 8/10] END max_depth=35, max_features=0.7764030582351186;, score=-0.132 total time=   1.5s\n",
      "[CV 5/10] END max_depth=59, max_features=0.48219877238316566;, score=-0.113 total time=   1.2s\n",
      "[CV 4/10] END max_depth=32, max_features=0.6630733523871821;, score=-0.370 total time=   1.4s\n",
      "[CV 1/10] END max_depth=81, max_features=0.28042904325228535;, score=-0.816 total time=   0.8s\n",
      "[CV 5/10] END max_depth=81, max_features=0.28042904325228535;, score=-0.130 total time=   0.9s\n",
      "[CV 3/10] END max_depth=97, max_features=0.13638714166247592;, score=-0.208 total time=   0.8s\n",
      "[CV 10/10] END max_depth=97, max_features=0.13638714166247592;, score=-0.800 total time=   0.7s\n",
      "[CV 8/10] END max_depth=11, max_features=0.5538702579341308;, score=-0.122 total time=   1.1s\n",
      "[CV 6/10] END max_depth=89, max_features=0.5161432704290524;, score=-0.094 total time=   1.1s\n",
      "[CV 3/10] END max_depth=97, max_features=0.1780267270680957;, score=-0.208 total time=   0.8s\n",
      "[CV 3/10] END max_depth=56, max_features=0.1780267270680957;, score=-0.208 total time=   1.0s\n",
      "[CV 1/10] END max_depth=17, max_features=0.2753536654297438;, score=-0.817 total time=   1.2s\n",
      "[CV 9/10] END max_depth=17, max_features=0.2753536654297438;, score=-0.289 total time=   1.1s\n",
      "[CV 7/10] END max_depth=81, max_features=0.38659423341146926;, score=-0.143 total time=   1.2s\n",
      "[CV 5/10] END max_depth=89, max_features=0.5538702579341308;, score=-0.114 total time=   1.3s\n",
      "[CV 5/10] END max_depth=17, max_features=0.1780267270680957;, score=-0.182 total time=   0.6s\n",
      "[CV 2/10] END max_depth=11, max_features=0.5798691459828077;, score=-0.285 total time=   0.8s\n",
      "[CV 9/10] END max_depth=11, max_features=0.5798691459828077;, score=-0.299 total time=   1.0s\n",
      "[CV 8/10] END max_depth=59, max_features=0.2753536654297438;, score=-0.124 total time=   1.0s\n",
      "[CV 6/10] END max_depth=59, max_features=0.6696969965894549;, score=-0.096 total time=   1.6s\n",
      "[CV 5/10] END max_depth=32, max_features=0.39097865902982276;, score=-0.118 total time=   0.9s\n",
      "[CV 2/10] END max_depth=11, max_features=0.7764030582351186;, score=-0.267 total time=   1.1s\n",
      "[CV 10/10] END max_depth=11, max_features=0.7764030582351186;, score=-0.584 total time=   0.9s\n",
      "[CV 8/10] END max_depth=35, max_features=0.13638714166247592;, score=-0.187 total time=   0.7s\n",
      "[CV 5/10] END max_depth=59, max_features=0.39097865902982276;, score=-0.118 total time=   1.1s\n",
      "[CV 3/10] END max_depth=11, max_features=0.38659423341146926;, score=-0.181 total time=   0.9s\n",
      "[CV 2/10] END max_depth=35, max_features=0.7764030582351186;, score=-0.249 total time=   1.4s\n",
      "[CV 10/10] END max_depth=35, max_features=0.7764030582351186;, score=-0.572 total time=   1.5s\n",
      "[CV 9/10] END max_depth=59, max_features=0.48219877238316566;, score=-0.286 total time=   1.2s\n",
      "[CV 8/10] END max_depth=32, max_features=0.6630733523871821;, score=-0.126 total time=   1.4s\n",
      "[CV 7/10] END max_depth=81, max_features=0.28042904325228535;, score=-0.146 total time=   1.1s\n",
      "[CV 5/10] END max_depth=97, max_features=0.13638714166247592;, score=-0.168 total time=   0.9s\n",
      "[CV 3/10] END max_depth=11, max_features=0.5538702579341308;, score=-0.182 total time=   1.0s\n",
      "[CV 1/10] END max_depth=89, max_features=0.5161432704290524;, score=-0.741 total time=   1.0s\n",
      "[CV 9/10] END max_depth=89, max_features=0.5161432704290524;, score=-0.286 total time=   0.8s\n"
     ]
    },
    {
     "name": "stdout",
     "output_type": "stream",
     "text": [
      "[CV 2/10] END max_depth=97, max_features=0.1780267270680957;, score=-0.377 total time=   0.8s\n",
      "[CV 1/10] END max_depth=56, max_features=0.1780267270680957;, score=-0.926 total time=   0.7s\n",
      "[CV 9/10] END max_depth=56, max_features=0.1780267270680957;, score=-0.279 total time=   0.8s\n",
      "[CV 6/10] END max_depth=17, max_features=0.2753536654297438;, score=-0.119 total time=   1.2s\n",
      "[CV 4/10] END max_depth=81, max_features=0.38659423341146926;, score=-0.377 total time=   1.0s\n",
      "[CV 2/10] END max_depth=89, max_features=0.5538702579341308;, score=-0.266 total time=   1.5s\n",
      "[CV 10/10] END max_depth=89, max_features=0.5538702579341308;, score=-0.584 total time=   1.2s\n",
      "[CV 1/10] END max_depth=11, max_features=0.5798691459828077;, score=-0.727 total time=   0.9s\n",
      "[CV 10/10] END max_depth=11, max_features=0.5798691459828077;, score=-0.604 total time=   0.8s\n",
      "[CV 7/10] END max_depth=59, max_features=0.2753536654297438;, score=-0.146 total time=   0.9s\n",
      "[CV 5/10] END max_depth=59, max_features=0.6696969965894549;, score=-0.116 total time=   1.5s\n",
      "[CV 3/10] END max_depth=32, max_features=0.39097865902982276;, score=-0.168 total time=   0.9s\n",
      "[CV 10/10] END max_depth=32, max_features=0.39097865902982276;, score=-0.648 total time=   1.0s\n",
      "[CV 8/10] END max_depth=11, max_features=0.7764030582351186;, score=-0.131 total time=   0.9s\n",
      "[CV 6/10] END max_depth=35, max_features=0.13638714166247592;, score=-0.168 total time=   0.9s\n",
      "[CV 4/10] END max_depth=59, max_features=0.39097865902982276;, score=-0.377 total time=   1.0s\n",
      "[CV 2/10] END max_depth=11, max_features=0.38659423341146926;, score=-0.325 total time=   0.8s\n",
      "[CV 9/10] END max_depth=11, max_features=0.38659423341146926;, score=-0.311 total time=   0.6s\n",
      "[CV 7/10] END max_depth=35, max_features=0.7764030582351186;, score=-0.135 total time=   1.7s\n",
      "[CV 6/10] END max_depth=59, max_features=0.48219877238316566;, score=-0.094 total time=   1.1s\n",
      "[CV 3/10] END max_depth=32, max_features=0.6630733523871821;, score=-0.183 total time=   1.7s\n",
      "[CV 2/10] END max_depth=81, max_features=0.28042904325228535;, score=-0.303 total time=   1.0s\n",
      "[CV 10/10] END max_depth=81, max_features=0.28042904325228535;, score=-0.694 total time=   1.2s\n",
      "[CV 9/10] END max_depth=97, max_features=0.13638714166247592;, score=-0.279 total time=   0.7s\n",
      "[CV 5/10] END max_depth=11, max_features=0.5538702579341308;, score=-0.131 total time=   0.9s\n",
      "[CV 3/10] END max_depth=89, max_features=0.5161432704290524;, score=-0.170 total time=   1.1s\n",
      "[CV 4/10] END max_depth=97, max_features=0.1780267270680957;, score=-0.386 total time=   0.8s\n",
      "[CV 2/10] END max_depth=56, max_features=0.1780267270680957;, score=-0.377 total time=   0.8s\n",
      "[CV 10/10] END max_depth=56, max_features=0.1780267270680957;, score=-0.800 total time=   1.1s\n",
      "[CV 8/10] END max_depth=17, max_features=0.2753536654297438;, score=-0.122 total time=   1.3s\n",
      "[CV 6/10] END max_depth=81, max_features=0.38659423341146926;, score=-0.107 total time=   1.2s\n",
      "[CV 4/10] END max_depth=89, max_features=0.5538702579341308;, score=-0.372 total time=   1.1s\n",
      "[CV 2/10] END max_depth=17, max_features=0.1780267270680957;, score=-0.396 total time=   0.7s\n",
      "[CV 8/10] END max_depth=17, max_features=0.1780267270680957;, score=-0.181 total time=   0.6s\n",
      "[CV 6/10] END max_depth=11, max_features=0.5798691459828077;, score=-0.109 total time=   1.0s\n",
      "[CV 6/10] END max_depth=59, max_features=0.2753536654297438;, score=-0.113 total time=   1.0s\n",
      "[CV 4/10] END max_depth=59, max_features=0.6696969965894549;, score=-0.373 total time=   1.4s\n",
      "[CV 2/10] END max_depth=32, max_features=0.39097865902982276;, score=-0.290 total time=   1.0s\n",
      "[CV 9/10] END max_depth=32, max_features=0.39097865902982276;, score=-0.286 total time=   0.9s\n",
      "[CV 5/10] END max_depth=11, max_features=0.7764030582351186;, score=-0.131 total time=   1.1s\n",
      "[CV 5/10] END max_depth=35, max_features=0.13638714166247592;, score=-0.168 total time=   0.7s\n",
      "[CV 1/10] END max_depth=59, max_features=0.39097865902982276;, score=-0.776 total time=   0.8s\n",
      "[CV 9/10] END max_depth=59, max_features=0.39097865902982276;, score=-0.286 total time=   1.0s\n",
      "[CV 7/10] END max_depth=11, max_features=0.38659423341146926;, score=-0.150 total time=   0.6s\n",
      "[CV 6/10] END max_depth=35, max_features=0.7764030582351186;, score=-0.094 total time=   1.5s\n",
      "[CV 2/10] END max_depth=59, max_features=0.48219877238316566;, score=-0.267 total time=   1.2s\n",
      "[CV 8/10] END max_depth=59, max_features=0.48219877238316566;, score=-0.121 total time=   1.1s\n",
      "[CV 6/10] END max_depth=32, max_features=0.6630733523871821;, score=-0.093 total time=   1.6s\n",
      "[CV 6/10] END max_depth=81, max_features=0.28042904325228535;, score=-0.113 total time=   1.0s\n",
      "[CV 4/10] END max_depth=97, max_features=0.13638714166247592;, score=-0.386 total time=   0.8s\n",
      "[CV 2/10] END max_depth=11, max_features=0.5538702579341308;, score=-0.285 total time=   1.1s\n",
      "[CV 10/10] END max_depth=11, max_features=0.5538702579341308;, score=-0.604 total time=   0.8s\n",
      "[CV 8/10] END max_depth=89, max_features=0.5161432704290524;, score=-0.121 total time=   1.0s\n",
      "[CV 7/10] END max_depth=97, max_features=0.1780267270680957;, score=-0.184 total time=   1.2s\n",
      "[CV 6/10] END max_depth=56, max_features=0.1780267270680957;, score=-0.168 total time=   1.0s\n",
      "[CV 7/10] END max_depth=17, max_features=0.2753536654297438;, score=-0.148 total time=   1.4s\n",
      "[CV 5/10] END max_depth=81, max_features=0.38659423341146926;, score=-0.118 total time=   1.2s\n",
      "[CV 3/10] END max_depth=89, max_features=0.5538702579341308;, score=-0.178 total time=   1.4s\n",
      "[CV 1/10] END max_depth=17, max_features=0.1780267270680957;, score=-0.919 total time=   0.8s\n",
      "[CV 9/10] END max_depth=17, max_features=0.1780267270680957;, score=-0.279 total time=   0.8s\n",
      "[CV 8/10] END max_depth=11, max_features=0.5798691459828077;, score=-0.122 total time=   0.7s\n",
      "[CV 3/10] END max_depth=59, max_features=0.2753536654297438;, score=-0.171 total time=   0.8s\n",
      "[CV 1/10] END max_depth=59, max_features=0.6696969965894549;, score=-0.707 total time=   1.2s\n",
      "[CV 9/10] END max_depth=59, max_features=0.6696969965894549;, score=-0.292 total time=   1.5s\n",
      "[CV 7/10] END max_depth=32, max_features=0.39097865902982276;, score=-0.143 total time=   1.1s\n",
      "[CV 6/10] END max_depth=11, max_features=0.7764030582351186;, score=-0.103 total time=   1.1s\n",
      "[CV 4/10] END max_depth=35, max_features=0.13638714166247592;, score=-0.386 total time=   1.0s\n",
      "[CV 3/10] END max_depth=59, max_features=0.39097865902982276;, score=-0.168 total time=   1.0s\n",
      "[CV 1/10] END max_depth=11, max_features=0.38659423341146926;, score=-0.796 total time=   0.7s\n",
      "[CV 8/10] END max_depth=11, max_features=0.38659423341146926;, score=-0.131 total time=   0.6s\n",
      "[CV 4/10] END max_depth=35, max_features=0.7764030582351186;, score=-0.377 total time=   1.6s\n",
      "[CV 4/10] END max_depth=59, max_features=0.48219877238316566;, score=-0.373 total time=   1.2s\n",
      "[CV 1/10] END max_depth=32, max_features=0.6630733523871821;, score=-0.707 total time=   1.3s\n",
      "[CV 9/10] END max_depth=32, max_features=0.6630733523871821;, score=-0.285 total time=   1.5s\n",
      "[CV 9/10] END max_depth=81, max_features=0.28042904325228535;, score=-0.284 total time=   1.1s\n",
      "[CV 7/10] END max_depth=97, max_features=0.13638714166247592;, score=-0.184 total time=   0.8s\n",
      "[CV 6/10] END max_depth=11, max_features=0.5538702579341308;, score=-0.109 total time=   0.9s\n",
      "[CV 4/10] END max_depth=89, max_features=0.5161432704290524;, score=-0.373 total time=   1.4s\n"
     ]
    }
   ],
   "source": [
    "pd.read_csv(file_name)"
   ]
  }
 ],
 "metadata": {
  "kernelspec": {
   "display_name": "Python 3 (ipykernel)",
   "language": "python",
   "name": "python3"
  },
  "language_info": {
   "codemirror_mode": {
    "name": "ipython",
    "version": 3
   },
   "file_extension": ".py",
   "mimetype": "text/x-python",
   "name": "python",
   "nbconvert_exporter": "python",
   "pygments_lexer": "ipython3",
   "version": "3.9.12"
  }
 },
 "nbformat": 4,
 "nbformat_minor": 5
}
