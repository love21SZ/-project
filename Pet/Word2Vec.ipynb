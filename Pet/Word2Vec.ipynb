{
  "cells": [
    {
      "cell_type": "code",
      "execution_count": 81,
      "metadata": {
        "colab": {
          "base_uri": "https://localhost:8080/"
        },
        "id": "k00fk6JWILy_",
        "outputId": "c4ccf1bd-35e6-48c6-c2ab-fcde61bec036"
      },
      "outputs": [
        {
          "output_type": "stream",
          "name": "stdout",
          "text": [
            "Looking in indexes: https://pypi.org/simple, https://us-python.pkg.dev/colab-wheels/public/simple/\n",
            "Requirement already satisfied: konlpy in /usr/local/lib/python3.8/dist-packages (0.6.0)\n",
            "Requirement already satisfied: JPype1>=0.7.0 in /usr/local/lib/python3.8/dist-packages (from konlpy) (1.4.1)\n",
            "Requirement already satisfied: lxml>=4.1.0 in /usr/local/lib/python3.8/dist-packages (from konlpy) (4.9.2)\n",
            "Requirement already satisfied: numpy>=1.6 in /usr/local/lib/python3.8/dist-packages (from konlpy) (1.22.4)\n",
            "Requirement already satisfied: packaging in /usr/local/lib/python3.8/dist-packages (from JPype1>=0.7.0->konlpy) (21.3)\n",
            "Requirement already satisfied: pyparsing!=3.0.5,>=2.0.2 in /usr/local/lib/python3.8/dist-packages (from packaging->JPype1>=0.7.0->konlpy) (3.0.9)\n"
          ]
        }
      ],
      "source": [
        "!pip install konlpy"
      ]
    },
    {
      "cell_type": "code",
      "execution_count": 82,
      "metadata": {
        "id": "t_fwiKIlWUK5"
      },
      "outputs": [],
      "source": [
        "# pip install --upgrade gensim"
      ]
    },
    {
      "cell_type": "code",
      "source": [
        "# !pip install numpy"
      ],
      "metadata": {
        "id": "6vTURnlUjwfC"
      },
      "execution_count": 83,
      "outputs": []
    },
    {
      "cell_type": "code",
      "execution_count": 84,
      "metadata": {
        "id": "qL_5Uv5cIB7A"
      },
      "outputs": [],
      "source": [
        "from tqdm import tqdm\n",
        "import pandas as pd\n",
        "import urllib.request\n",
        "import numpy as np\n",
        "\n",
        "from gensim.models.word2vec import Word2Vec\n",
        "from konlpy.tag import Okt\n",
        "import matplotlib.pyplot as plt"
      ]
    },
    {
      "cell_type": "code",
      "execution_count": 85,
      "metadata": {
        "id": "3hsc3mpPIITV"
      },
      "outputs": [],
      "source": [
        "news22 = pd.read_csv(\"반려동물_2022.01.01_2022.12.25_1.csv\")"
      ]
    },
    {
      "cell_type": "code",
      "execution_count": 86,
      "metadata": {
        "colab": {
          "base_uri": "https://localhost:8080/",
          "height": 206
        },
        "id": "q3wbIYZMKfld",
        "outputId": "009ac251-29c3-4f68-ed7a-b5c352314b71"
      },
      "outputs": [
        {
          "output_type": "execute_result",
          "data": {
            "text/plain": [
              "                                               기사 제목\n",
              "0                 尹대통령, 은퇴 안내견 입양…관저에 11번째 동물 식구(종합)\n",
              "1               윤 대통령 부부, 은퇴 안내견 '새롬이' 입양… 11번째 반려동물\n",
              "2               '동물복지 조례·보호센터 직영 운영'…사람과 동물이 행복한 고양시\n",
              "3                 [영상]부산 1호 반려동물 테마파크...주민들이 반대하는 이유\n",
              "4  [정치톡톡] 정치권 성탄 메시지 / '민주당의 길' 출범 / 대통령 11번째 반려동..."
            ],
            "text/html": [
              "\n",
              "  <div id=\"df-5aacde6f-8e77-4b0b-ba64-2f473fa349ec\">\n",
              "    <div class=\"colab-df-container\">\n",
              "      <div>\n",
              "<style scoped>\n",
              "    .dataframe tbody tr th:only-of-type {\n",
              "        vertical-align: middle;\n",
              "    }\n",
              "\n",
              "    .dataframe tbody tr th {\n",
              "        vertical-align: top;\n",
              "    }\n",
              "\n",
              "    .dataframe thead th {\n",
              "        text-align: right;\n",
              "    }\n",
              "</style>\n",
              "<table border=\"1\" class=\"dataframe\">\n",
              "  <thead>\n",
              "    <tr style=\"text-align: right;\">\n",
              "      <th></th>\n",
              "      <th>기사 제목</th>\n",
              "    </tr>\n",
              "  </thead>\n",
              "  <tbody>\n",
              "    <tr>\n",
              "      <th>0</th>\n",
              "      <td>尹대통령, 은퇴 안내견 입양…관저에 11번째 동물 식구(종합)</td>\n",
              "    </tr>\n",
              "    <tr>\n",
              "      <th>1</th>\n",
              "      <td>윤 대통령 부부, 은퇴 안내견 '새롬이' 입양… 11번째 반려동물</td>\n",
              "    </tr>\n",
              "    <tr>\n",
              "      <th>2</th>\n",
              "      <td>'동물복지 조례·보호센터 직영 운영'…사람과 동물이 행복한 고양시</td>\n",
              "    </tr>\n",
              "    <tr>\n",
              "      <th>3</th>\n",
              "      <td>[영상]부산 1호 반려동물 테마파크...주민들이 반대하는 이유</td>\n",
              "    </tr>\n",
              "    <tr>\n",
              "      <th>4</th>\n",
              "      <td>[정치톡톡] 정치권 성탄 메시지 / '민주당의 길' 출범 / 대통령 11번째 반려동...</td>\n",
              "    </tr>\n",
              "  </tbody>\n",
              "</table>\n",
              "</div>\n",
              "      <button class=\"colab-df-convert\" onclick=\"convertToInteractive('df-5aacde6f-8e77-4b0b-ba64-2f473fa349ec')\"\n",
              "              title=\"Convert this dataframe to an interactive table.\"\n",
              "              style=\"display:none;\">\n",
              "        \n",
              "  <svg xmlns=\"http://www.w3.org/2000/svg\" height=\"24px\"viewBox=\"0 0 24 24\"\n",
              "       width=\"24px\">\n",
              "    <path d=\"M0 0h24v24H0V0z\" fill=\"none\"/>\n",
              "    <path d=\"M18.56 5.44l.94 2.06.94-2.06 2.06-.94-2.06-.94-.94-2.06-.94 2.06-2.06.94zm-11 1L8.5 8.5l.94-2.06 2.06-.94-2.06-.94L8.5 2.5l-.94 2.06-2.06.94zm10 10l.94 2.06.94-2.06 2.06-.94-2.06-.94-.94-2.06-.94 2.06-2.06.94z\"/><path d=\"M17.41 7.96l-1.37-1.37c-.4-.4-.92-.59-1.43-.59-.52 0-1.04.2-1.43.59L10.3 9.45l-7.72 7.72c-.78.78-.78 2.05 0 2.83L4 21.41c.39.39.9.59 1.41.59.51 0 1.02-.2 1.41-.59l7.78-7.78 2.81-2.81c.8-.78.8-2.07 0-2.86zM5.41 20L4 18.59l7.72-7.72 1.47 1.35L5.41 20z\"/>\n",
              "  </svg>\n",
              "      </button>\n",
              "      \n",
              "  <style>\n",
              "    .colab-df-container {\n",
              "      display:flex;\n",
              "      flex-wrap:wrap;\n",
              "      gap: 12px;\n",
              "    }\n",
              "\n",
              "    .colab-df-convert {\n",
              "      background-color: #E8F0FE;\n",
              "      border: none;\n",
              "      border-radius: 50%;\n",
              "      cursor: pointer;\n",
              "      display: none;\n",
              "      fill: #1967D2;\n",
              "      height: 32px;\n",
              "      padding: 0 0 0 0;\n",
              "      width: 32px;\n",
              "    }\n",
              "\n",
              "    .colab-df-convert:hover {\n",
              "      background-color: #E2EBFA;\n",
              "      box-shadow: 0px 1px 2px rgba(60, 64, 67, 0.3), 0px 1px 3px 1px rgba(60, 64, 67, 0.15);\n",
              "      fill: #174EA6;\n",
              "    }\n",
              "\n",
              "    [theme=dark] .colab-df-convert {\n",
              "      background-color: #3B4455;\n",
              "      fill: #D2E3FC;\n",
              "    }\n",
              "\n",
              "    [theme=dark] .colab-df-convert:hover {\n",
              "      background-color: #434B5C;\n",
              "      box-shadow: 0px 1px 3px 1px rgba(0, 0, 0, 0.15);\n",
              "      filter: drop-shadow(0px 1px 2px rgba(0, 0, 0, 0.3));\n",
              "      fill: #FFFFFF;\n",
              "    }\n",
              "  </style>\n",
              "\n",
              "      <script>\n",
              "        const buttonEl =\n",
              "          document.querySelector('#df-5aacde6f-8e77-4b0b-ba64-2f473fa349ec button.colab-df-convert');\n",
              "        buttonEl.style.display =\n",
              "          google.colab.kernel.accessAllowed ? 'block' : 'none';\n",
              "\n",
              "        async function convertToInteractive(key) {\n",
              "          const element = document.querySelector('#df-5aacde6f-8e77-4b0b-ba64-2f473fa349ec');\n",
              "          const dataTable =\n",
              "            await google.colab.kernel.invokeFunction('convertToInteractive',\n",
              "                                                     [key], {});\n",
              "          if (!dataTable) return;\n",
              "\n",
              "          const docLinkHtml = 'Like what you see? Visit the ' +\n",
              "            '<a target=\"_blank\" href=https://colab.research.google.com/notebooks/data_table.ipynb>data table notebook</a>'\n",
              "            + ' to learn more about interactive tables.';\n",
              "          element.innerHTML = '';\n",
              "          dataTable['output_type'] = 'display_data';\n",
              "          await google.colab.output.renderOutput(dataTable, element);\n",
              "          const docLink = document.createElement('div');\n",
              "          docLink.innerHTML = docLinkHtml;\n",
              "          element.appendChild(docLink);\n",
              "        }\n",
              "      </script>\n",
              "    </div>\n",
              "  </div>\n",
              "  "
            ]
          },
          "metadata": {},
          "execution_count": 86
        }
      ],
      "source": [
        "news22.head(5)"
      ]
    },
    {
      "cell_type": "code",
      "execution_count": 87,
      "metadata": {
        "colab": {
          "base_uri": "https://localhost:8080/"
        },
        "id": "BH4YJkW0JBGI",
        "outputId": "fb1c3f06-2162-4955-a425-ed6ec890ddc1"
      },
      "outputs": [
        {
          "output_type": "stream",
          "name": "stderr",
          "text": [
            "<ipython-input-87-0d06475ba00a>:1: FutureWarning: The default value of regex will change from True to False in a future version.\n",
            "  news22['기사 제목'] = news22['기사 제목'].str.replace(\"[^ㄱ-ㅎㅏ-ㅣ가-힣 ]\",\"\")\n"
          ]
        }
      ],
      "source": [
        "news22['기사 제목'] = news22['기사 제목'].str.replace(\"[^ㄱ-ㅎㅏ-ㅣ가-힣 ]\",\"\")"
      ]
    },
    {
      "cell_type": "code",
      "execution_count": 88,
      "metadata": {
        "colab": {
          "base_uri": "https://localhost:8080/",
          "height": 206
        },
        "id": "-NRi-d2qL8ll",
        "outputId": "a55eb015-c4ce-4a86-fb51-a90d67ee9797"
      },
      "outputs": [
        {
          "output_type": "execute_result",
          "data": {
            "text/plain": [
              "                                    기사 제목\n",
              "0             대통령 은퇴 안내견 입양관저에 번째 동물 식구종합\n",
              "1          윤 대통령 부부 은퇴 안내견 새롬이 입양 번째 반려동물\n",
              "2        동물복지 조례보호센터 직영 운영사람과 동물이 행복한 고양시\n",
              "3            영상부산 호 반려동물 테마파크주민들이 반대하는 이유\n",
              "4  정치톡톡 정치권 성탄 메시지  민주당의 길 출범  대통령 번째 반려동"
            ],
            "text/html": [
              "\n",
              "  <div id=\"df-e79e1b8e-bfa5-4a74-bf4b-11f371fb0530\">\n",
              "    <div class=\"colab-df-container\">\n",
              "      <div>\n",
              "<style scoped>\n",
              "    .dataframe tbody tr th:only-of-type {\n",
              "        vertical-align: middle;\n",
              "    }\n",
              "\n",
              "    .dataframe tbody tr th {\n",
              "        vertical-align: top;\n",
              "    }\n",
              "\n",
              "    .dataframe thead th {\n",
              "        text-align: right;\n",
              "    }\n",
              "</style>\n",
              "<table border=\"1\" class=\"dataframe\">\n",
              "  <thead>\n",
              "    <tr style=\"text-align: right;\">\n",
              "      <th></th>\n",
              "      <th>기사 제목</th>\n",
              "    </tr>\n",
              "  </thead>\n",
              "  <tbody>\n",
              "    <tr>\n",
              "      <th>0</th>\n",
              "      <td>대통령 은퇴 안내견 입양관저에 번째 동물 식구종합</td>\n",
              "    </tr>\n",
              "    <tr>\n",
              "      <th>1</th>\n",
              "      <td>윤 대통령 부부 은퇴 안내견 새롬이 입양 번째 반려동물</td>\n",
              "    </tr>\n",
              "    <tr>\n",
              "      <th>2</th>\n",
              "      <td>동물복지 조례보호센터 직영 운영사람과 동물이 행복한 고양시</td>\n",
              "    </tr>\n",
              "    <tr>\n",
              "      <th>3</th>\n",
              "      <td>영상부산 호 반려동물 테마파크주민들이 반대하는 이유</td>\n",
              "    </tr>\n",
              "    <tr>\n",
              "      <th>4</th>\n",
              "      <td>정치톡톡 정치권 성탄 메시지  민주당의 길 출범  대통령 번째 반려동</td>\n",
              "    </tr>\n",
              "  </tbody>\n",
              "</table>\n",
              "</div>\n",
              "      <button class=\"colab-df-convert\" onclick=\"convertToInteractive('df-e79e1b8e-bfa5-4a74-bf4b-11f371fb0530')\"\n",
              "              title=\"Convert this dataframe to an interactive table.\"\n",
              "              style=\"display:none;\">\n",
              "        \n",
              "  <svg xmlns=\"http://www.w3.org/2000/svg\" height=\"24px\"viewBox=\"0 0 24 24\"\n",
              "       width=\"24px\">\n",
              "    <path d=\"M0 0h24v24H0V0z\" fill=\"none\"/>\n",
              "    <path d=\"M18.56 5.44l.94 2.06.94-2.06 2.06-.94-2.06-.94-.94-2.06-.94 2.06-2.06.94zm-11 1L8.5 8.5l.94-2.06 2.06-.94-2.06-.94L8.5 2.5l-.94 2.06-2.06.94zm10 10l.94 2.06.94-2.06 2.06-.94-2.06-.94-.94-2.06-.94 2.06-2.06.94z\"/><path d=\"M17.41 7.96l-1.37-1.37c-.4-.4-.92-.59-1.43-.59-.52 0-1.04.2-1.43.59L10.3 9.45l-7.72 7.72c-.78.78-.78 2.05 0 2.83L4 21.41c.39.39.9.59 1.41.59.51 0 1.02-.2 1.41-.59l7.78-7.78 2.81-2.81c.8-.78.8-2.07 0-2.86zM5.41 20L4 18.59l7.72-7.72 1.47 1.35L5.41 20z\"/>\n",
              "  </svg>\n",
              "      </button>\n",
              "      \n",
              "  <style>\n",
              "    .colab-df-container {\n",
              "      display:flex;\n",
              "      flex-wrap:wrap;\n",
              "      gap: 12px;\n",
              "    }\n",
              "\n",
              "    .colab-df-convert {\n",
              "      background-color: #E8F0FE;\n",
              "      border: none;\n",
              "      border-radius: 50%;\n",
              "      cursor: pointer;\n",
              "      display: none;\n",
              "      fill: #1967D2;\n",
              "      height: 32px;\n",
              "      padding: 0 0 0 0;\n",
              "      width: 32px;\n",
              "    }\n",
              "\n",
              "    .colab-df-convert:hover {\n",
              "      background-color: #E2EBFA;\n",
              "      box-shadow: 0px 1px 2px rgba(60, 64, 67, 0.3), 0px 1px 3px 1px rgba(60, 64, 67, 0.15);\n",
              "      fill: #174EA6;\n",
              "    }\n",
              "\n",
              "    [theme=dark] .colab-df-convert {\n",
              "      background-color: #3B4455;\n",
              "      fill: #D2E3FC;\n",
              "    }\n",
              "\n",
              "    [theme=dark] .colab-df-convert:hover {\n",
              "      background-color: #434B5C;\n",
              "      box-shadow: 0px 1px 3px 1px rgba(0, 0, 0, 0.15);\n",
              "      filter: drop-shadow(0px 1px 2px rgba(0, 0, 0, 0.3));\n",
              "      fill: #FFFFFF;\n",
              "    }\n",
              "  </style>\n",
              "\n",
              "      <script>\n",
              "        const buttonEl =\n",
              "          document.querySelector('#df-e79e1b8e-bfa5-4a74-bf4b-11f371fb0530 button.colab-df-convert');\n",
              "        buttonEl.style.display =\n",
              "          google.colab.kernel.accessAllowed ? 'block' : 'none';\n",
              "\n",
              "        async function convertToInteractive(key) {\n",
              "          const element = document.querySelector('#df-e79e1b8e-bfa5-4a74-bf4b-11f371fb0530');\n",
              "          const dataTable =\n",
              "            await google.colab.kernel.invokeFunction('convertToInteractive',\n",
              "                                                     [key], {});\n",
              "          if (!dataTable) return;\n",
              "\n",
              "          const docLinkHtml = 'Like what you see? Visit the ' +\n",
              "            '<a target=\"_blank\" href=https://colab.research.google.com/notebooks/data_table.ipynb>data table notebook</a>'\n",
              "            + ' to learn more about interactive tables.';\n",
              "          element.innerHTML = '';\n",
              "          dataTable['output_type'] = 'display_data';\n",
              "          await google.colab.output.renderOutput(dataTable, element);\n",
              "          const docLink = document.createElement('div');\n",
              "          docLink.innerHTML = docLinkHtml;\n",
              "          element.appendChild(docLink);\n",
              "        }\n",
              "      </script>\n",
              "    </div>\n",
              "  </div>\n",
              "  "
            ]
          },
          "metadata": {},
          "execution_count": 88
        }
      ],
      "source": [
        "news22[:5]"
      ]
    },
    {
      "cell_type": "code",
      "execution_count": 89,
      "metadata": {
        "colab": {
          "base_uri": "https://localhost:8080/"
        },
        "id": "wm9mqoJuJd9s",
        "outputId": "569e566e-230d-42b6-f958-d6642582e921"
      },
      "outputs": [
        {
          "output_type": "stream",
          "name": "stderr",
          "text": [
            "100%|██████████| 4000/4000 [00:06<00:00, 586.78it/s]\n"
          ]
        }
      ],
      "source": [
        "from pandas.core.computation.parsing import tokenize\n",
        "okt = Okt()\n",
        "\n",
        "tokenized_data = []\n",
        "\n",
        "for sentence in tqdm(news22[\"기사 제목\"]):\n",
        "    tokenized_sentence = okt.morphs(sentence, stem =True)\n",
        "    stopwords_removed_sentence = [word for word in tokenized_sentence]\n",
        "    tokenized_data.append(stopwords_removed_sentence)"
      ]
    },
    {
      "cell_type": "code",
      "execution_count": 90,
      "metadata": {
        "id": "E6hk6BT2O8jw"
      },
      "outputs": [],
      "source": [
        "stopwords = ['합니다','하는','할','하고','그리고','입니다','그','등','이런','및','제','더',\"에\",\"이\",\"은\",\"는\",\"의\",\"들\",\"좀\",\"으로\",\"를\",\"도\",\"자\",\"와\",\"한\",\"한다\"]\n",
        "tokenized_data = []"
      ]
    },
    {
      "cell_type": "code",
      "execution_count": 126,
      "metadata": {
        "colab": {
          "base_uri": "https://localhost:8080/"
        },
        "id": "PT4Dth7dK14h",
        "outputId": "17aa34a4-ad8a-4e01-95be-be4168482cb3"
      },
      "outputs": [
        {
          "output_type": "execute_result",
          "data": {
            "text/plain": [
              "0                  대통령 은퇴 안내견 입양관저에 번째 동물 식구종합\n",
              "1               윤 대통령 부부 은퇴 안내견 새롬이 입양 번째 반려동물\n",
              "2             동물복지 조례보호센터 직영 운영사람과 동물이 행복한 고양시\n",
              "3                 영상부산 호 반려동물 테마파크주민들이 반대하는 이유\n",
              "4       정치톡톡 정치권 성탄 메시지  민주당의 길 출범  대통령 번째 반려동\n",
              "                         ...                  \n",
              "3995              신문브리핑  반려동물 화장장 찬반 팽팽 외 주요기사\n",
              "3996                    정부 반려동물 이동식 화장서비스 등 허용\n",
              "3997                  수원시 반려동물 문화교실 참여자 선착순 모집\n",
              "3998                 펫푸드협회 반려동물 장수 위한 펫푸드 팁 소개\n",
              "3999             반려동물 건강이야기 깔끔이 냥님의 이유 있는 배변실수\n",
              "Name: 기사 제목, Length: 4000, dtype: object"
            ]
          },
          "metadata": {},
          "execution_count": 126
        }
      ],
      "source": [
        "news22[\"기사 제목\"][:]"
      ]
    },
    {
      "cell_type": "code",
      "execution_count": 174,
      "metadata": {
        "id": "n96n-di9LEai"
      },
      "outputs": [],
      "source": [
        "sentence = news22[\"기사 제목\"][14]"
      ]
    },
    {
      "cell_type": "code",
      "execution_count": 175,
      "metadata": {
        "colab": {
          "base_uri": "https://localhost:8080/",
          "height": 36
        },
        "id": "vQZwkUetLbts",
        "outputId": "1d72834c-0322-45c2-9060-e18205959037"
      },
      "outputs": [
        {
          "output_type": "execute_result",
          "data": {
            "text/plain": [
              "'거리로 나온 수의사들 동물병원 폐업 느는데 수의대 신설은 예산낭비'"
            ],
            "application/vnd.google.colaboratory.intrinsic+json": {
              "type": "string"
            }
          },
          "metadata": {},
          "execution_count": 175
        }
      ],
      "source": [
        "sentence"
      ]
    },
    {
      "cell_type": "code",
      "execution_count": 176,
      "metadata": {
        "colab": {
          "base_uri": "https://localhost:8080/"
        },
        "id": "Kqbz8zGRLesK",
        "outputId": "1225012f-b1ef-4f5f-d31f-226b27427f88"
      },
      "outputs": [
        {
          "output_type": "execute_result",
          "data": {
            "text/plain": [
              "['거리',\n",
              " '로',\n",
              " '나오다',\n",
              " '수의사',\n",
              " '들',\n",
              " '동물병원',\n",
              " '폐업',\n",
              " '늘다',\n",
              " '수의',\n",
              " '대',\n",
              " '신설',\n",
              " '은',\n",
              " '예산',\n",
              " '낭비']"
            ]
          },
          "metadata": {},
          "execution_count": 176
        }
      ],
      "source": [
        "tokenized_sentence = okt.morphs(sentence, stem = True)\n",
        "tokenized_sentence"
      ]
    },
    {
      "cell_type": "code",
      "execution_count": 177,
      "metadata": {
        "id": "dqDwX1J8Lr08"
      },
      "outputs": [],
      "source": [
        "stopwords_removed_sentence = [word for word in tokenized_sentence if not word in stopwords]"
      ]
    },
    {
      "cell_type": "code",
      "execution_count": 178,
      "metadata": {
        "colab": {
          "base_uri": "https://localhost:8080/"
        },
        "id": "5yvlL_eZPXQK",
        "outputId": "994f4b5c-dd93-46d2-c1c6-fd997fe14eaa"
      },
      "outputs": [
        {
          "output_type": "execute_result",
          "data": {
            "text/plain": [
              "['거리', '로', '나오다', '수의사', '동물병원', '폐업', '늘다', '수의', '대', '신설', '예산', '낭비']"
            ]
          },
          "metadata": {},
          "execution_count": 178
        }
      ],
      "source": [
        "stopwords_removed_sentence"
      ]
    },
    {
      "cell_type": "code",
      "execution_count": 179,
      "metadata": {
        "id": "yyGb-KhWPK0q"
      },
      "outputs": [],
      "source": [
        "tokenized_data.append(stopwords_removed_sentence)"
      ]
    },
    {
      "cell_type": "code",
      "execution_count": 180,
      "metadata": {
        "colab": {
          "base_uri": "https://localhost:8080/",
          "height": 315
        },
        "id": "Ycv5o6dKQpQU",
        "outputId": "19c07e68-6945-424b-ff5a-71d6eb9d8e98"
      },
      "outputs": [
        {
          "output_type": "stream",
          "name": "stdout",
          "text": [
            "기사 최대 길이 :  12\n",
            "기사 평균 길이 : 11.0\n"
          ]
        },
        {
          "output_type": "display_data",
          "data": {
            "text/plain": [
              "<Figure size 432x288 with 1 Axes>"
            ],
            "image/png": "[encoded data removed]"
          },
          "metadata": {
            "needs_background": "light"
          }
        }
      ],
      "source": [
        "import token\n",
        "print(\"기사 최대 길이 : \", max(len(news22) for news22 in tokenized_data))\n",
        "print(\"기사 평균 길이 :\", sum(map(len, tokenized_data))/len(tokenized_data))\n",
        "plt.hist([len(news22) for news22 in tokenized_data], bins =50)\n",
        "plt.xlabel('length of samples')\n",
        "plt.ylabel('number of samples')\n",
        "plt.show()"
      ]
    },
    {
      "cell_type": "code",
      "execution_count": 181,
      "metadata": {
        "colab": {
          "base_uri": "https://localhost:8080/"
        },
        "id": "qWmv0BXXUa21",
        "outputId": "b516dca2-7856-4592-daf0-e30986cdf4e3"
      },
      "outputs": [
        {
          "output_type": "stream",
          "name": "stdout",
          "text": [
            "['영상', '부산', '호', '반려동물', '테마', '파크', '주민', '반대', '하다', '이유']\n",
            "['정치', '톡톡', '정치권', '성탄', '메시지', '민주당', '길', '출범', '대통령', '번째', '반려', '동']\n",
            "['정치', '톡톡', '정치권', '성탄', '메시지', '민주당', '길', '출범', '대통령', '번째', '반려', '동']\n"
          ]
        }
      ],
      "source": [
        "for line in tokenized_data[:3]:\n",
        "    print(line)"
      ]
    },
    {
      "cell_type": "code",
      "execution_count": 182,
      "metadata": {
        "id": "hpsxYtorPY8h"
      },
      "outputs": [],
      "source": [
        "from gensim.models import Word2Vec\n",
        "model = Word2Vec(sentences= tokenized_data,vector_size=20,window = 5, min_count= 1, workers =4, sg= 0)"
      ]
    },
    {
      "cell_type": "code",
      "source": [
        "print(model.wv.most_similar(\"테마\"))"
      ],
      "metadata": {
        "colab": {
          "base_uri": "https://localhost:8080/"
        },
        "id": "ePaDnbKJowYp",
        "outputId": "1e089dd9-d6e6-46ff-f0c6-ca9f07f35ce7"
      },
      "execution_count": 183,
      "outputs": [
        {
          "output_type": "stream",
          "name": "stdout",
          "text": [
            "[('안내견', 0.5595101118087769), ('이유', 0.4549636244773865), ('대통령', 0.43721216917037964), ('예산', 0.39662590622901917), ('동', 0.3873341679573059), ('관저', 0.3567226529121399), ('로', 0.3351821303367615), ('반대', 0.3341643214225769), ('번째', 0.3151710629463196), ('주인', 0.29585736989974976)]\n"
          ]
        }
      ]
    },
    {
      "cell_type": "code",
      "source": [
        "model.wv.similar_by_word('반려동물')"
      ],
      "metadata": {
        "colab": {
          "base_uri": "https://localhost:8080/"
        },
        "id": "kTqfGdHMpGtD",
        "outputId": "93c5307f-fe07-480b-e363-d90a15387b10"
      },
      "execution_count": 184,
      "outputs": [
        {
          "output_type": "execute_result",
          "data": {
            "text/plain": [
              "[('정치', 0.41729575395584106),\n",
              " ('이주', 0.3821852505207062),\n",
              " ('길', 0.35702091455459595),\n",
              " ('못', 0.3342653810977936),\n",
              " ('동물', 0.31315866112709045),\n",
              " ('법안', 0.27814358472824097),\n",
              " ('주민', 0.27273717522621155),\n",
              " ('거리', 0.26760342717170715),\n",
              " ('하다', 0.2567325234413147),\n",
              " ('메시지', 0.24821870028972626)]"
            ]
          },
          "metadata": {},
          "execution_count": 184
        }
      ]
    },
    {
      "cell_type": "code",
      "source": [
        "model.wv.similarity('유기동물','반대')"
      ],
      "metadata": {
        "colab": {
          "base_uri": "https://localhost:8080/"
        },
        "id": "4KpxpOGZpXZh",
        "outputId": "4247320a-9476-4031-83cf-ee0ae7aeddcc"
      },
      "execution_count": 185,
      "outputs": [
        {
          "output_type": "execute_result",
          "data": {
            "text/plain": [
              "0.07819729"
            ]
          },
          "metadata": {},
          "execution_count": 185
        }
      ]
    },
    {
      "cell_type": "code",
      "source": [
        "model.wv.similar_by_word(\"유기동물\")"
      ],
      "metadata": {
        "colab": {
          "base_uri": "https://localhost:8080/"
        },
        "id": "Elr7qjdSqOeR",
        "outputId": "36c5ec66-bce3-4a78-9d7c-013404cc2e23"
      },
      "execution_count": 186,
      "outputs": [
        {
          "output_type": "execute_result",
          "data": {
            "text/plain": [
              "[('식구', 0.5196906328201294),\n",
              " ('동물', 0.497245728969574),\n",
              " ('신설', 0.42751187086105347),\n",
              " ('부산', 0.3210049271583557),\n",
              " ('낭비', 0.30620816349983215),\n",
              " ('번째', 0.29341986775398254),\n",
              " ('나오다', 0.2444467544555664),\n",
              " ('안내견', 0.24171392619609833),\n",
              " ('수의', 0.2229943722486496),\n",
              " ('동', 0.21289511024951935)]"
            ]
          },
          "metadata": {},
          "execution_count": 186
        }
      ]
    },
    {
      "cell_type": "code",
      "source": [],
      "metadata": {
        "id": "sffS6wjAsKZ8"
      },
      "execution_count": 173,
      "outputs": []
    }
  ],
  "metadata": {
    "colab": {
      "provenance": []
    },
    "kernelspec": {
      "display_name": "Python 3",
      "name": "python3"
    },
    "language_info": {
      "name": "python"
    }
  },
  "nbformat": 4,
  "nbformat_minor": 0
}
