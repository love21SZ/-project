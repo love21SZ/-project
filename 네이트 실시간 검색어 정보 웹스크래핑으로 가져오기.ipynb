{
 "cells": [
  {
   "cell_type": "markdown",
   "id": "b0a8350f",
   "metadata": {},
   "source": [
    "# 네이트 실시간 1~5위 검색어 정보 웹스크래핑으로 가져오기"
   ]
  },
  {
   "cell_type": "code",
   "execution_count": 2,
   "id": "145af12e",
   "metadata": {},
   "outputs": [
    {
     "name": "stdout",
     "output_type": "stream",
     "text": [
      "2023년 01월 17일의 실시간 검색어 순위 입니다\n",
      "1 위 : 네팔 항공기 추락\n",
      "2 위 : 나경원 해임 진상\n",
      "3 위 : 야탑 NC백화점 점검도\n",
      "4 위 : 22일부터 어기면 벌금\n",
      "5 위 : 요양보호사 시험\n"
     ]
    }
   ],
   "source": [
    "from bs4 import BeautifulSoup\n",
    "import requests\n",
    "\n",
    "from datetime import datetime\n",
    "\n",
    "url = \"https://www.nate.com\"\n",
    "\n",
    "response = requests.get(url)\n",
    "\n",
    "soup = BeautifulSoup(response.text,\"html.parser\")\n",
    "\n",
    "rank = 1\n",
    "\n",
    "results = soup.findAll(\"span\",\"txt_rank\")\n",
    "\n",
    "search_rank_file = open(\"rankresult.txt\",\"a\")\n",
    "\n",
    "print(datetime.today().strftime(\"%Y년 %m월 %d일의 실시간 검색어 순위 입니다\"))\n",
    "\n",
    "for result in results:\n",
    "    search_rank_file.write(str(rank)+\"위:\"+result.get_text()+\"\\n\")\n",
    "    print(rank,\"위 :\",result.get_text())\n",
    "    rank += 1"
   ]
  }
 ],
 "metadata": {
  "kernelspec": {
   "display_name": "Python 3 (ipykernel)",
   "language": "python",
   "name": "python3"
  },
  "language_info": {
   "codemirror_mode": {
    "name": "ipython",
    "version": 3
   },
   "file_extension": ".py",
   "mimetype": "text/x-python",
   "name": "python",
   "nbconvert_exporter": "python",
   "pygments_lexer": "ipython3",
   "version": "3.9.12"
  }
 },
 "nbformat": 4,
 "nbformat_minor": 5
}
