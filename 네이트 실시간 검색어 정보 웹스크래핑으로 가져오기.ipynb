{
 "cells": [
  {
   "cell_type": "markdown",
   "id": "b0a8350f",
   "metadata": {},
   "source": [
    "# 네이트 실시간 검색어 정보 웹스크래핑으로 가져오기"
   ]
  },
  {
   "cell_type": "code",
   "execution_count": 1,
   "id": "0a9f7958",
   "metadata": {},
   "outputs": [],
   "source": [
    "from bs4 import BeautifulSoup\n",
    "import requests\n",
    "\n",
    "from datetime import datetime"
   ]
  },
  {
   "cell_type": "code",
   "execution_count": 2,
   "id": "b13cbebf",
   "metadata": {},
   "outputs": [],
   "source": [
    "url = \"https://www.nate.com\""
   ]
  },
  {
   "cell_type": "code",
   "execution_count": 3,
   "id": "37b4ae17",
   "metadata": {},
   "outputs": [
    {
     "data": {
      "text/plain": [
       "<Response [200]>"
      ]
     },
     "execution_count": 3,
     "metadata": {},
     "output_type": "execute_result"
    }
   ],
   "source": [
    "response = requests.get(url, headers ={\"user-agent\":\"Mozilla/5.0\"})\n",
    "response"
   ]
  },
  {
   "cell_type": "code",
   "execution_count": 4,
   "id": "145af12e",
   "metadata": {
    "scrolled": true
   },
   "outputs": [
    {
     "name": "stdout",
     "output_type": "stream",
     "text": [
      "2023년 02월 07일의 실시간 검색어 순위 입니다\n",
      "1 위 : 中 정찰 풍선\n",
      "2 위 : 백현동 특혜 압수수색\n",
      "3 위 : 고수정\n",
      "4 위 : 춘리\n",
      "5 위 : 1 기 신도시\n"
     ]
    }
   ],
   "source": [
    "url = \"https://www.nate.com\"\n",
    "\n",
    "response = requests.get(url)\n",
    "\n",
    "soup = BeautifulSoup(response.text,\"html.parser\")\n",
    "\n",
    "rank = 1\n",
    "\n",
    "results = soup.findAll(\"span\",\"txt_rank\")\n",
    "\n",
    "search_rank_file = open(\"rankresult.txt\",\"a\")\n",
    "\n",
    "print(datetime.today().strftime(\"%Y년 %m월 %d일의 실시간 검색어 순위 입니다\"))\n",
    "\n",
    "for result in results:\n",
    "    search_rank_file.write(str(rank)+\"위:\"+result.get_text()+\"\\n\")\n",
    "    print(rank,\"위 :\",result.get_text())\n",
    "    rank += 1"
   ]
  },
  {
   "cell_type": "code",
   "execution_count": 9,
   "id": "970097b0",
   "metadata": {
    "scrolled": true
   },
   "outputs": [
    {
     "name": "stdout",
     "output_type": "stream",
     "text": [
      "2023년 02월 07일의 실시간 검색어 순위 입니다\n",
      "6 위 : 조민\n",
      "7 위 : 국민의 힘 전당대회\n",
      "8 위 : 미세먼지 매우나쁨\n",
      "9 위 : 연금 전액 기부했다\n",
      "10 위 : 이재명 10일 검찰\n"
     ]
    }
   ],
   "source": [
    "response = requests.get(url)\n",
    "\n",
    "soup = BeautifulSoup(response.text,\"html.parser\")\n",
    "\n",
    "rank = 6\n",
    "\n",
    "results = soup.findAll(\"span\",\"txt_rank\")\n",
    "\n",
    "search_rank_file = open(\"rankresult.txt\",\"a\")\n",
    "\n",
    "print(datetime.today().strftime(\"%Y년 %m월 %d일의 실시간 검색어 순위 입니다\"))\n",
    "\n",
    "for result in results:\n",
    "    search_rank_file.write(str(rank)+\"위:\"+result.get_text()+\"\\n\")\n",
    "    print(rank,\"위 :\",result.get_text())\n",
    "    rank += 1"
   ]
  }
 ],
 "metadata": {
  "kernelspec": {
   "display_name": "Python 3 (ipykernel)",
   "language": "python",
   "name": "python3"
  },
  "language_info": {
   "codemirror_mode": {
    "name": "ipython",
    "version": 3
   },
   "file_extension": ".py",
   "mimetype": "text/x-python",
   "name": "python",
   "nbconvert_exporter": "python",
   "pygments_lexer": "ipython3",
   "version": "3.9.12"
  }
 },
 "nbformat": 4,
 "nbformat_minor": 5
}
