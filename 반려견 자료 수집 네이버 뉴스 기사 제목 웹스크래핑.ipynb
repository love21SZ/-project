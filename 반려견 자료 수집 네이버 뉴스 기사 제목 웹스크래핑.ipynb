{
 "cells": [
  {
   "cell_type": "code",
   "execution_count": 1,
   "id": "f1fa4fbb",
   "metadata": {},
   "outputs": [],
   "source": [
    "import pandas as pd\n",
    "import numpy as np\n",
    "import requests\n",
    "from bs4 import BeautifulSoup"
   ]
  },
  {
   "cell_type": "code",
   "execution_count": 2,
   "id": "4dd98ab0",
   "metadata": {
    "scrolled": false
   },
   "outputs": [
    {
     "name": "stdout",
     "output_type": "stream",
     "text": [
      "https://search.naver.com/search.naver?where=news&sm=tab_pge&query=반려동물&sort=0&photo=0&field=0&pd=3&ds=202.01.01&de=2020.12.31&cluster_rank=42&mynews=0&office_type=0&office_section_code=0&news_office_checked=&nso=so:r,p:from202.01.01to2020.12.31,a:all&start=11\n"
     ]
    }
   ],
   "source": [
    "search_word = \"반려동물\"\n",
    "page_no =11\n",
    "start_date = '202.01.01'\n",
    "end_date = '2020.12.31'\n",
    "\n",
    "url = f\"https://search.naver.com/search.naver?where=news&sm=tab_pge&query={search_word}&sort=0&photo=0&field=0&pd=3&ds={start_date}&de={end_date}&cluster_rank=42&mynews=0&office_type=0&office_section_code=0&news_office_checked=&nso=so:r,p:from{start_date}to{end_date},a:all&start={page_no}\"\n",
    "print(url)"
   ]
  },
  {
   "cell_type": "code",
   "execution_count": 3,
   "id": "76204c38",
   "metadata": {
    "scrolled": true
   },
   "outputs": [
    {
     "data": {
      "text/plain": [
       "<Response [200]>"
      ]
     },
     "execution_count": 3,
     "metadata": {},
     "output_type": "execute_result"
    }
   ],
   "source": [
    "response = requests.get(url, headers ={\"user-agent\":\"Mozilla/5.0\"})\n",
    "response"
   ]
  },
  {
   "cell_type": "code",
   "execution_count": 4,
   "id": "25161024",
   "metadata": {},
   "outputs": [],
   "source": [
    "res = requests.get(url)\n",
    "res.raise_for_status()\n",
    "\n",
    "soup = BeautifulSoup(res.text, \"lxml\")"
   ]
  },
  {
   "cell_type": "code",
   "execution_count": 5,
   "id": "49639ac5",
   "metadata": {
    "scrolled": true
   },
   "outputs": [
    {
     "name": "stdout",
     "output_type": "stream",
     "text": [
      "<title>반려동물 : 네이버 뉴스검색</title>\n",
      "반려동물 : 네이버 뉴스검색\n",
      "#lnb\n"
     ]
    }
   ],
   "source": [
    "print(soup.title)\n",
    "print(soup.title.get_text())\n",
    "print(soup.a[\"href\"])"
   ]
  },
  {
   "cell_type": "code",
   "execution_count": 6,
   "id": "faccb09c",
   "metadata": {
    "scrolled": true
   },
   "outputs": [],
   "source": [
    "title = soup.find_all(\"a\", attrs={\"class\":\"news_tit\"})"
   ]
  },
  {
   "cell_type": "code",
   "execution_count": 7,
   "id": "9c72c9d4",
   "metadata": {
    "scrolled": true
   },
   "outputs": [
    {
     "name": "stdout",
     "output_type": "stream",
     "text": [
      "[<a class=\"news_tit\" href=\"https://www.seoul.co.kr/news/newsView.php?id=20230103010028&amp;wlog_tag3=naver\" onclick=\"return goOtherCR(this, 'a=nws*j.tit&amp;r=43&amp;i=880000D1_000000000000000003329481&amp;g=081.0003329481&amp;u='+urlencode(this.href));\" target=\"_blank\" title=\"토끼는 가축이라 방생? 반려동물 버린 겁니다!\">토끼는 가축이라 방생? <mark>반려동물</mark> 버린 겁니다!</a>, <a class=\"news_tit\" href=\"https://news.kbs.co.kr/news/view.do?ncd=6407146&amp;ref=A\" onclick=\"return goOtherCR(this, 'a=nws*a.tit&amp;r=44&amp;i=88000114_000000000000000011403656&amp;g=056.0011403656&amp;u='+urlencode(this.href));\" target=\"_blank\" title=\"절반은 ‘미등록’…갈 길 먼 ‘반려동물등록제’\">절반은 ‘미등록’…갈 길 먼 ‘<mark>반려동물</mark>등록제’</a>, <a class=\"news_tit\" href=\"http://www.segye.com/content/html/2023/01/03/20230103514672.html?OutUrl=naver\" onclick=\"return goOtherCR(this, 'a=nws*e.tit&amp;r=46&amp;i=880000D2_000000000000000003770812&amp;g=022.0003770812&amp;u='+urlencode(this.href));\" target=\"_blank\" title=\"로이힐즈, 업계 최초로 반려동물 장묘에 예술 접목한 'Artistic X' 프로젝트 추진\">로이힐즈, 업계 최초로 <mark>반려동물</mark> 장묘에 예술 접목한 'Artistic X' 프로젝트 ...</a>, <a class=\"news_tit\" href=\"http://www.newsis.com/view/?id=NISX20230102_0002144591&amp;cID=13001&amp;pID=13000\" onclick=\"return goOtherCR(this, 'a=nws*e.tit&amp;r=47&amp;i=88000127_000000000000000011622111&amp;g=003.0011622111&amp;u='+urlencode(this.href));\" target=\"_blank\" title=\"&quot;반려동물 건강도 비대면으로&quot;…'티티케어 클리닉' 도입\">\"<mark>반려동물</mark> 건강도 비대면으로\"…'티티케어 클리닉' 도입</a>, <a class=\"news_tit\" href=\"https://news.kbs.co.kr/news/view.do?ncd=6407147&amp;ref=A\" onclick=\"return goOtherCR(this, 'a=nws*a.tit&amp;r=48&amp;i=88000114_000000000000000011403657&amp;g=056.0011403657&amp;u='+urlencode(this.href));\" target=\"_blank\" title=\"동물병원 진료비 공개 시작…“표준화 돼야 효과”\"><mark>동물</mark>병원 진료비 공개 시작…“표준화 돼야 효과”</a>, <a class=\"news_tit\" href=\"http://www.namdonews.com/news/articleView.html?idxno=709379\" onclick=\"return goOtherCR(this, 'a=nws*b.tit&amp;r=50&amp;i=8817ca66_000000000000000000184728&amp;g=5539.0000184728&amp;u='+urlencode(this.href));\" target=\"_blank\" title=\"명품길·외국인·반려동물 관련 부서 신설된다\">명품길·외국인·<mark>반려동물</mark> 관련 부서 신설된다</a>, <a class=\"news_tit\" href=\"https://news.kbs.co.kr/news/view.do?ncd=6435148&amp;ref=A\" onclick=\"return goOtherCR(this, 'a=nws*a.tit&amp;r=53&amp;i=88000114_000000000000000011403955&amp;g=056.0011403955&amp;u='+urlencode(this.href));\" target=\"_blank\" title=\"[친절한 뉴스K] 반려동물 연 12만 마리 유기…진료비 공개 시작\">[친절한 뉴스K] <mark>반려동물</mark> 연 12만 마리 유기…진료비 공개 시작</a>, <a class=\"news_tit\" href=\"https://news.sbs.co.kr/news/endPage.do?news_id=N1007030252&amp;plink=ORI&amp;cooper=NAVER\" onclick=\"return goOtherCR(this, 'a=nws*j.tit&amp;r=55&amp;i=8800011C_000000000000000001025339&amp;g=055.0001025339&amp;u='+urlencode(this.href));\" target=\"_blank\" title='[실시간 e뉴스] \"심하게 짖는다\" 민원…이기영 반려동물들 구조, 이후엔?'>[실시간 e뉴스] \"심하게 짖는다\" 민원…이기영 <mark>반려동물</mark>들 구조, 이후엔?</a>, <a class=\"news_tit\" href=\"https://www.khan.co.kr/national/national-general/article/202301020738002\" onclick=\"return goOtherCR(this, 'a=nws*j.tit&amp;r=56&amp;i=8800006B_000000000000000003196532&amp;g=032.0003196532&amp;u='+urlencode(this.href));\" target=\"_blank\" title=\"고독한 사회, 온기를 품다[반려시대, 누구랑 사세요?①]\">고독한 사회, 온기를 품다[<mark>반려</mark>시대, 누구랑 사세요?①]</a>, <a class=\"news_tit\" href=\"http://www.dailyvet.co.kr/news/college/178305\" onclick=\"return goOtherCR(this, 'a=nws*f.tit&amp;r=57&amp;i=88155e48_000000000000000000015495&amp;g=5392.0000015495&amp;u='+urlencode(this.href));\" target=\"_blank\" title=\"반려동물 응급의료 포럼 개최한 강원대 수의대\"><mark>반려동물</mark> 응급의료 포럼 개최한 강원대 수의대</a>]\n"
     ]
    }
   ],
   "source": [
    "print(title)"
   ]
  },
  {
   "cell_type": "code",
   "execution_count": 8,
   "id": "26df4583",
   "metadata": {},
   "outputs": [],
   "source": [
    "date = soup.find_all(\"span\",attrs ={\"class\":\"info\"})"
   ]
  },
  {
   "cell_type": "code",
   "execution_count": 9,
   "id": "eddbb1ae",
   "metadata": {
    "scrolled": false
   },
   "outputs": [
    {
     "name": "stdout",
     "output_type": "stream",
     "text": [
      "토끼는 가축이라 방생? 반려동물 버린 겁니다!\n",
      "절반은 ‘미등록’…갈 길 먼 ‘반려동물등록제’\n",
      "로이힐즈, 업계 최초로 반려동물 장묘에 예술 접목한 'Artistic X' 프로젝트 ...\n",
      "\"반려동물 건강도 비대면으로\"…'티티케어 클리닉' 도입\n",
      "동물병원 진료비 공개 시작…“표준화 돼야 효과”\n",
      "명품길·외국인·반려동물 관련 부서 신설된다\n",
      "[친절한 뉴스K] 반려동물 연 12만 마리 유기…진료비 공개 시작\n",
      "[실시간 e뉴스] \"심하게 짖는다\" 민원…이기영 반려동물들 구조, 이후엔?\n",
      "고독한 사회, 온기를 품다[반려시대, 누구랑 사세요?①]\n",
      "반려동물 응급의료 포럼 개최한 강원대 수의대\n"
     ]
    }
   ],
   "source": [
    "for titles in title:\n",
    "    print(titles.get_text())"
   ]
  },
  {
   "cell_type": "code",
   "execution_count": 10,
   "id": "a1e0d413",
   "metadata": {},
   "outputs": [],
   "source": [
    "def get_day_list(search_word, page_no):\n",
    "    url = f\"https://search.naver.com/search.naver?where=news&sm=tab_pge&query={search_word}&sort=0&photo=0&field=0&pd=3&ds={start_date}&de={end_date}&cluster_rank=42&mynews=0&office_type=0&office_section_code=0&news_office_checked=&nso=so:r,p:from{start_date}to{end_date},a:all&start={page_no}\"\n",
    "    response = requests.get(url)\n",
    "    res = requests.get(url)\n",
    "    response = requests.get(url, headers ={\"user-agent\":\"Mozilla/5.0\"})\n",
    "    soup = BeautifulSoup(res.text, \"lxml\")\n",
    "    title = soup.find_all(\"a\", attrs={\"class\":\"news_tit\"})\n",
    "    \n",
    "    title_list =[]\n",
    "    for titles in title:\n",
    "        title_list.append([titles.get_text()])\n",
    "        print(titles.get_text())\n",
    "    return title_list"
   ]
  },
  {
   "cell_type": "code",
   "execution_count": 11,
   "id": "d741c07d",
   "metadata": {
    "scrolled": true
   },
   "outputs": [],
   "source": [
    "get_day_list(\"반려동물\",11)"
   ]
  },
  {
   "cell_type": "code",
   "execution_count": 12,
   "id": "5e7c6727",
   "metadata": {
    "scrolled": true
   },
   "outputs": [],
   "source": [
    "import time\n",
    "search_word = \"반려동물\"\n",
    "page_no = 1\n",
    "start_date = '2022.01.01'\n",
    "end_date = '2022.12.25'\n",
    "\n",
    "item_list = []\n",
    "    \n",
    "while True:\n",
    "    df_item = get_day_list(search_word, page_no)\n",
    "    print(page_no)\n",
    "    \n",
    "    if page_no == 4001:\n",
    "        break\n",
    "\n",
    "    item_list = item_list + df_item\n",
    "    time.sleep(0.01)\n",
    "    page_no = page_no + 10\n",
    "\n",
    "df = pd.DataFrame(item_list)\n",
    "# df.columns = ['기사 제목']\n",
    "df.to_csv(f'{search_word}_{start_date}_{end_date}_1.csv',index = False)"
   ]
  }
 ],
 "metadata": {
  "kernelspec": {
   "display_name": "Python 3 (ipykernel)",
   "language": "python",
   "name": "python3"
  },
  "language_info": {
   "codemirror_mode": {
    "name": "ipython",
    "version": 3
   },
   "file_extension": ".py",
   "mimetype": "text/x-python",
   "name": "python",
   "nbconvert_exporter": "python",
   "pygments_lexer": "ipython3",
   "version": "3.9.12"
  }
 },
 "nbformat": 4,
 "nbformat_minor": 5
}
